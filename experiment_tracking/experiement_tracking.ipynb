{
 "cells": [
  {
   "attachments": {},
   "cell_type": "markdown",
   "metadata": {},
   "source": [
    "# Experiment tracking\n",
    "\n",
    "This notebook is dedicated to show how experiment tracking works with MLflow in our case. Start by loading the train function.\n"
   ]
  },
  {
   "cell_type": "code",
   "execution_count": 1,
   "metadata": {},
   "outputs": [],
   "source": [
    "import sys\n",
    "sys.path.append('../')\n",
    "\n",
    "from pathlib import Path\n",
    "from src.train import experiment_tracking_train\n"
   ]
  },
  {
   "attachments": {},
   "cell_type": "markdown",
   "metadata": {},
   "source": [
    "Define how the experiment tracking data should be tracked"
   ]
  },
  {
   "cell_type": "code",
   "execution_count": 2,
   "metadata": {},
   "outputs": [],
   "source": [
    "\n",
    "#path used for storing the data\n",
    "MODEL_REGISTRY = Path(\"experiments_storing\")\n",
    "#name of the experiment\n",
    "EXPERIMENT_NAME = \"mlflow-demo2\""
   ]
  },
  {
   "attachments": {},
   "cell_type": "markdown",
   "metadata": {},
   "source": [
    "Run an experiment:"
   ]
  },
  {
   "cell_type": "code",
   "execution_count": 3,
   "metadata": {},
   "outputs": [
    {
     "name": "stdout",
     "output_type": "stream",
     "text": [
      "NUM_EPOCHS= 10 , batch_size= 1 , N_STEPS_MOSER 1000 , f 0.0001\n",
      "Entering training loop\n",
      "Epoch0in: 0.00 sec,Test loss: 0.6815999746322632Train loss: 0.6802999973297119Moser loss: 0.031300000846385956\n",
      "Epoch1in: 1.00 sec,Test loss: 0.6571999788284302Train loss: 0.6478000283241272Moser loss: 0.012000000104308128\n",
      "Epoch2in: 2.00 sec,Test loss: 0.6032000184059143Train loss: 0.5812000036239624Moser loss: 0.0\n",
      "Epoch3in: 3.00 sec,Test loss: 0.554099977016449Train loss: 0.5511999726295471Moser loss: 0.0\n",
      "Epoch4in: 4.00 sec,Test loss: 0.5120000243186951Train loss: 0.498199999332428Moser loss: 0.0\n",
      "Epoch5in: 5.00 sec,Test loss: 0.510200023651123Train loss: 0.492000013589859Moser loss: 0.0\n",
      "Epoch6in: 6.00 sec,Test loss: 0.49480000138282776Train loss: 0.4828999936580658Moser loss: 0.0\n",
      "Epoch7in: 7.00 sec,Test loss: 0.4862000048160553Train loss: 0.48010000586509705Moser loss: 0.0\n",
      "Epoch8in: 8.00 sec,Test loss: 0.48899999260902405Train loss: 0.4828000068664551Moser loss: 0.0\n",
      "Epoch9in: 9.00 sec,Test loss: 0.48100000619888306Train loss: 0.48649999499320984Moser loss: 0.0\n"
     ]
    }
   ],
   "source": [
    "#define parameters to inversigate\n",
    "NUM_EPOCHS_list = [10] \n",
    "f_list = [0.0001]\n",
    "batch_size_list = [1]\n",
    "N_STEPS_MOSER_list = [1000]\n",
    "n_repetitions=1\n",
    "#dataset we use for training and testing\n",
    "path = \"../Data/blocksworld\"\n",
    "\n",
    "for NUM_EPOCHS in NUM_EPOCHS_list:\n",
    "        for batch_size in batch_size_list:\n",
    "                for N_STEPS_MOSER in N_STEPS_MOSER_list:\n",
    "                        for f in f_list:\n",
    "                                print(\n",
    "                                        \"NUM_EPOCHS=\", NUM_EPOCHS,\n",
    "                                        \", batch_size=\", batch_size,\n",
    "                                        \", N_STEPS_MOSER\", N_STEPS_MOSER,\n",
    "                                        \", f\", f)\n",
    "                                for _ in range(n_repetitions):\n",
    "                                        experiment_tracking_train(\n",
    "                                                MODEL_REGISTRY,\n",
    "                                                EXPERIMENT_NAME,\n",
    "                                                batch_size,\n",
    "                                                f,\n",
    "                                                NUM_EPOCHS,\n",
    "                                                N_STEPS_MOSER,\n",
    "                                                path,\n",
    "                                                img_path=False,\n",
    "                                                model_path=False,\n",
    "                                        )\n",
    "\n",
    "\n",
    "\n",
    "\n"
   ]
  },
  {
   "attachments": {},
   "cell_type": "markdown",
   "metadata": {},
   "source": [
    "## Open MLflow UI"
   ]
  },
  {
   "cell_type": "code",
   "execution_count": 4,
   "metadata": {},
   "outputs": [
    {
     "name": "stdout",
     "output_type": "stream",
     "text": [
      "zsh:1: command not found: npx\n"
     ]
    },
    {
     "name": "stderr",
     "output_type": "stream",
     "text": [
      "[2023-01-11 13:13:13 +0100] [53698] [INFO] Starting gunicorn 20.1.0\n",
      "[2023-01-11 13:13:13 +0100] [53698] [ERROR] Connection in use: ('0.0.0.0', 8002)\n",
      "[2023-01-11 13:13:13 +0100] [53698] [ERROR] Retrying in 1 second.\n",
      "[2023-01-11 13:13:14 +0100] [53698] [ERROR] Connection in use: ('0.0.0.0', 8002)\n",
      "[2023-01-11 13:13:14 +0100] [53698] [ERROR] Retrying in 1 second.\n",
      "[2023-01-11 13:13:15 +0100] [53698] [ERROR] Connection in use: ('0.0.0.0', 8002)\n",
      "[2023-01-11 13:13:15 +0100] [53698] [ERROR] Retrying in 1 second.\n",
      "[2023-01-11 13:13:16 +0100] [53698] [ERROR] Connection in use: ('0.0.0.0', 8002)\n",
      "[2023-01-11 13:13:16 +0100] [53698] [ERROR] Retrying in 1 second.\n",
      "[2023-01-11 13:13:17 +0100] [53698] [ERROR] Connection in use: ('0.0.0.0', 8002)\n",
      "[2023-01-11 13:13:17 +0100] [53698] [ERROR] Retrying in 1 second.\n",
      "[2023-01-11 13:13:18 +0100] [53698] [ERROR] Can't connect to ('0.0.0.0', 8002)\n",
      "Running the mlflow server failed. Please see the logs above for details.\n"
     ]
    }
   ],
   "source": [
    "\n",
    "# Run MLFlow server and localtunnel\n",
    "get_ipython().system_raw(\"mlflow server -h 0.0.0.0 -p 8002 --backend-store-uri $PWD/experiments_storing/ &\")\n",
    "!npx localtunnel --port 8000"
   ]
  },
  {
   "attachments": {},
   "cell_type": "markdown",
   "metadata": {},
   "source": [
    "You can open this by typing http://localhost:8002 into your browser"
   ]
  },
  {
   "cell_type": "code",
   "execution_count": null,
   "metadata": {},
   "outputs": [],
   "source": []
  }
 ],
 "metadata": {
  "kernelspec": {
   "display_name": "base",
   "language": "python",
   "name": "python3"
  },
  "language_info": {
   "codemirror_mode": {
    "name": "ipython",
    "version": 3
   },
   "file_extension": ".py",
   "mimetype": "text/x-python",
   "name": "python",
   "nbconvert_exporter": "python",
   "pygments_lexer": "ipython3",
   "version": "3.9.13 (main, Aug 25 2022, 18:29:29) \n[Clang 12.0.0 ]"
  },
  "orig_nbformat": 4,
  "vscode": {
   "interpreter": {
    "hash": "cd78fef2128015050713e82ca51c6520b11aee7c9ee8df750520bbbc7384cbaa"
   }
  }
 },
 "nbformat": 4,
 "nbformat_minor": 2
}
