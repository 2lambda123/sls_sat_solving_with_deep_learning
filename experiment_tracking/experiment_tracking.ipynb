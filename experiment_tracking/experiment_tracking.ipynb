{
 "cells": [
  {
   "attachments": {},
   "cell_type": "markdown",
   "metadata": {},
   "source": [
    "# Experiment tracking\n",
    "\n",
    "This notebook is dedicated to show how experiment tracking works with MLflow in our case. Start by loading the train function.\n"
   ]
  },
  {
   "cell_type": "code",
   "execution_count": 1,
   "metadata": {},
   "outputs": [],
   "source": [
    "import sys\n",
    "sys.path.append('../')\n",
    "\n",
    "from pathlib import Path\n",
    "from python.src.train_ML_flow import experiment_tracking_train\n"
   ]
  },
  {
   "attachments": {},
   "cell_type": "markdown",
   "metadata": {},
   "source": [
    "Define how the experiment tracking data should be tracked"
   ]
  },
  {
   "cell_type": "code",
   "execution_count": 2,
   "metadata": {},
   "outputs": [],
   "source": [
    "\n",
    "#path used for storing the data\n",
    "MODEL_REGISTRY = Path(\"experiments_storing\")\n",
    "#name of the experiment\n",
    "EXPERIMENT_NAME = \"mlflow-demo2\""
   ]
  },
  {
   "attachments": {},
   "cell_type": "markdown",
   "metadata": {},
   "source": [
    "Run an experiment:"
   ]
  },
  {
   "cell_type": "code",
   "execution_count": 3,
   "metadata": {},
   "outputs": [
    {
     "name": "stdout",
     "output_type": "stream",
     "text": [
      "NUM_EPOCHS= 10 , batch_size= 1 , N_STEPS_MOSER 1000 , f 0.0001\n",
      "Entering training loop\n",
      "Loading problem with 459 variables and 4675 clauses\n",
      "Round 1 ending with 3500 violated clauses\n",
      "Round 2 ending with 3563 violated clauses\n",
      "Loading problem with 459 variables and 4675 clauses\n",
      "Round 1 ending with 3659 violated clauses\n",
      "Round 2 ending with 3731 violated clauses\n",
      "Epoch 0 in 48.33 sec;  Test loss: 0.6840999722480774Train loss: 0.6858999729156494Moser loss: 0.7904\n",
      "Loading problem with 459 variables and 4675 clauses\n",
      "Round 1 ending with 3736 violated clauses\n",
      "Round 2 ending with 3745 violated clauses\n",
      "Epoch 1 in 13.43 sec;  Test loss: 0.6625999808311462Train loss: 0.6700000166893005Moser loss: 0.8001\n",
      "Loading problem with 459 variables and 4675 clauses\n",
      "Round 1 ending with 3679 violated clauses\n",
      "Round 2 ending with 3607 violated clauses\n",
      "Epoch 2 in 13.84 sec;  Test loss: 0.6223999857902527Train loss: 0.6389999985694885Moser loss: 0.7793\n",
      "Loading problem with 459 variables and 4675 clauses\n",
      "Round 1 ending with 3583 violated clauses\n",
      "Round 2 ending with 3704 violated clauses\n",
      "Epoch 3 in 14.47 sec;  Test loss: 0.579200029373169Train loss: 0.6053000092506409Moser loss: 0.7794\n",
      "Loading problem with 459 variables and 4675 clauses\n",
      "Round 1 ending with 3620 violated clauses\n",
      "Round 2 ending with 3645 violated clauses\n",
      "Epoch 4 in 14.35 sec;  Test loss: 0.5411999821662903Train loss: 0.574999988079071Moser loss: 0.777\n",
      "Loading problem with 459 variables and 4675 clauses\n",
      "Round 1 ending with 3775 violated clauses\n",
      "Round 2 ending with 3696 violated clauses\n",
      "Epoch 5 in 14.54 sec;  Test loss: 0.5365999937057495Train loss: 0.5712000131607056Moser loss: 0.799\n",
      "Loading problem with 459 variables and 4675 clauses\n",
      "Round 1 ending with 3774 violated clauses\n",
      "Round 2 ending with 3656 violated clauses\n",
      "Epoch 6 in 14.07 sec;  Test loss: 0.5361999869346619Train loss: 0.5723000168800354Moser loss: 0.7947\n",
      "Loading problem with 459 variables and 4675 clauses\n",
      "Round 1 ending with 3580 violated clauses\n",
      "Round 2 ending with 3811 violated clauses\n",
      "Epoch 7 in 13.63 sec;  Test loss: 0.5329999923706055Train loss: 0.5699999928474426Moser loss: 0.7905\n",
      "Loading problem with 459 variables and 4675 clauses\n",
      "Round 1 ending with 3709 violated clauses\n",
      "Round 2 ending with 3676 violated clauses\n",
      "Epoch 8 in 13.54 sec;  Test loss: 0.529699981212616Train loss: 0.5677000284194946Moser loss: 0.7898\n",
      "Loading problem with 459 variables and 4675 clauses\n",
      "Round 1 ending with 3712 violated clauses\n",
      "Round 2 ending with 3590 violated clauses\n",
      "Epoch 9 in 13.48 sec;  Test loss: 0.5278000235557556Train loss: 0.5662000179290771Moser loss: 0.781\n"
     ]
    }
   ],
   "source": [
    "#define parameters to inversigate\n",
    "NUM_EPOCHS_list = [10] \n",
    "f_list = [0.0001]\n",
    "batch_size_list = [1]\n",
    "N_STEPS_MOSER_list = [1000]\n",
    "N_RUNS_MOSER = 2\n",
    "n_repetitions=1\n",
    "#dataset we use for training and testing\n",
    "path = \"../Data/blocksworld\"\n",
    "\n",
    "for NUM_EPOCHS in NUM_EPOCHS_list:\n",
    "        for batch_size in batch_size_list:\n",
    "                for N_STEPS_MOSER in N_STEPS_MOSER_list:\n",
    "                        for f in f_list:\n",
    "                                print(\n",
    "                                        \"NUM_EPOCHS=\", NUM_EPOCHS,\n",
    "                                        \", batch_size=\", batch_size,\n",
    "                                        \", N_STEPS_MOSER\", N_STEPS_MOSER,\n",
    "                                        \", f\", f)\n",
    "                                for _ in range(n_repetitions):\n",
    "                                        experiment_tracking_train(\n",
    "                                                MODEL_REGISTRY,\n",
    "                                                EXPERIMENT_NAME,\n",
    "                                                batch_size,\n",
    "                                                f,\n",
    "                                                NUM_EPOCHS,\n",
    "                                                N_STEPS_MOSER,\n",
    "                                                N_RUNS_MOSER,\n",
    "                                                path,\n",
    "                                                img_path=False,\n",
    "                                                model_path=False,\n",
    "                                        )\n",
    "\n",
    "\n",
    "\n",
    "\n"
   ]
  },
  {
   "attachments": {},
   "cell_type": "markdown",
   "metadata": {},
   "source": [
    "## Open MLflow UI"
   ]
  },
  {
   "cell_type": "code",
   "execution_count": 4,
   "metadata": {},
   "outputs": [
    {
     "name": "stdout",
     "output_type": "stream",
     "text": [
      "zsh:1: command not found: npx\n"
     ]
    },
    {
     "name": "stderr",
     "output_type": "stream",
     "text": [
      "[2023-01-17 09:22:23 +0100] [22838] [INFO] Starting gunicorn 20.1.0\n",
      "[2023-01-17 09:22:23 +0100] [22838] [ERROR] Connection in use: ('0.0.0.0', 8002)\n",
      "[2023-01-17 09:22:23 +0100] [22838] [ERROR] Retrying in 1 second.\n",
      "[2023-01-17 09:22:24 +0100] [22838] [ERROR] Connection in use: ('0.0.0.0', 8002)\n",
      "[2023-01-17 09:22:24 +0100] [22838] [ERROR] Retrying in 1 second.\n",
      "[2023-01-17 09:22:25 +0100] [22838] [ERROR] Connection in use: ('0.0.0.0', 8002)\n",
      "[2023-01-17 09:22:25 +0100] [22838] [ERROR] Retrying in 1 second.\n",
      "[2023-01-17 09:22:26 +0100] [22838] [ERROR] Connection in use: ('0.0.0.0', 8002)\n",
      "[2023-01-17 09:22:26 +0100] [22838] [ERROR] Retrying in 1 second.\n",
      "[2023-01-17 09:22:27 +0100] [22838] [ERROR] Connection in use: ('0.0.0.0', 8002)\n",
      "[2023-01-17 09:22:27 +0100] [22838] [ERROR] Retrying in 1 second.\n",
      "[2023-01-17 09:22:28 +0100] [22838] [ERROR] Can't connect to ('0.0.0.0', 8002)\n",
      "Running the mlflow server failed. Please see the logs above for details.\n"
     ]
    }
   ],
   "source": [
    "\n",
    "# Run MLFlow server and localtunnel\n",
    "get_ipython().system_raw(\"mlflow server -h 0.0.0.0 -p 8002 --backend-store-uri $PWD/experiments_storing/ &\")\n",
    "!npx localtunnel --port 8000"
   ]
  },
  {
   "attachments": {},
   "cell_type": "markdown",
   "metadata": {},
   "source": [
    "You can open this by typing http://localhost:8002 into your browser"
   ]
  },
  {
   "cell_type": "code",
   "execution_count": null,
   "metadata": {},
   "outputs": [],
   "source": []
  }
 ],
 "metadata": {
  "kernelspec": {
   "display_name": "base",
   "language": "python",
   "name": "python3"
  },
  "language_info": {
   "codemirror_mode": {
    "name": "ipython",
    "version": 3
   },
   "file_extension": ".py",
   "mimetype": "text/x-python",
   "name": "python",
   "nbconvert_exporter": "python",
   "pygments_lexer": "ipython3",
   "version": "3.9.13"
  },
  "orig_nbformat": 4,
  "vscode": {
   "interpreter": {
    "hash": "cd78fef2128015050713e82ca51c6520b11aee7c9ee8df750520bbbc7384cbaa"
   }
  }
 },
 "nbformat": 4,
 "nbformat_minor": 2
}
