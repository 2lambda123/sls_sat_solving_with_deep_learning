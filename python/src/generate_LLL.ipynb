{
 "cells": [
  {
   "cell_type": "code",
   "execution_count": 301,
   "metadata": {},
   "outputs": [],
   "source": [
    "import numpy as np\n",
    "import cnfgen\n",
    "from pysat.formula import CNF\n",
    "from pysat.solvers import Glucose3\n",
    "import pickle\n",
    "import random\n",
    "import glob\n",
    "from os.path import join"
   ]
  },
  {
   "cell_type": "code",
   "execution_count": 302,
   "metadata": {},
   "outputs": [
    {
     "name": "stdout",
     "output_type": "stream",
     "text": [
      "n 10\n",
      "p [0.55897513 0.01597514 0.68792217 0.01150217 0.19959272 0.58963945\n",
      " 0.52355941 0.61619128 0.86183825 0.94287605]\n",
      "x [0.60402926 0.39090879 0.32095968 0.004804   0.81401961 0.22385519\n",
      " 0.32871447 0.09752145 0.71752304 0.68982303 0.90985924 0.40172597\n",
      " 0.44131053 0.89985748 0.45792392 0.42490162 0.50648611 0.47601032\n",
      " 0.52932899 0.11759561 0.03772866 0.25669448 0.0432089  0.10687823\n",
      " 0.86987441 0.50293194 0.99828415 0.79315153 0.09873366 0.23768438\n",
      " 0.48792278 0.12573734 0.92265333 0.68152417 0.33143951 0.33162638\n",
      " 0.97180389 0.33277835 0.47609381 0.22748317 0.94608513 0.60456242\n",
      " 0.36408505 0.48940411 0.07388775 0.0580182  0.53899008 0.89185135\n",
      " 0.11697559 0.28199723]\n",
      "m 50\n"
     ]
    }
   ],
   "source": [
    "n = 10 # np.random.randint(0,1000)\n",
    "print(\"n\",n)\n",
    "p = np.random.rand(n) # this is the probability to sample a 1\n",
    "print(\"p\", p)\n",
    "x = np.random.rand(m)\n",
    "print(\"x\", x)\n",
    "m = 50 # np.random.randint(0,2000)\n",
    "print(\"m\", m)\n",
    "\n",
    "# matrix = np.random.randint(-1,2,size=n*m).reshape((n,m))\n",
    "# print(matrix)\n"
   ]
  },
  {
   "cell_type": "code",
   "execution_count": 303,
   "metadata": {},
   "outputs": [],
   "source": [
    "def find_prob_matrix(matrix, p):\n",
    "    p_double = np.array([p,1-p]).transpose()\n",
    "    positive = abs(matrix * np.array([p_double[:,0]]).transpose() - abs(matrix) * np.array([p_double[:,0]]).transpose())/2\n",
    "    negative = abs(matrix * np.array([p_double[:,1]]).transpose() + abs(matrix) * np.array([p_double[:,1]]).transpose())/2\n",
    "    mask = np.where(np.sum(abs(matrix), axis = 0)!=0, 1, 0)*np.ones(matrix.shape)\n",
    "    zeros = (np.ones(np.shape(matrix)) - abs(matrix)) * mask\n",
    "    return negative + positive + zeros\n",
    "\n",
    "def find_induced_probs(matrix, p):\n",
    "    return np.prod(find_prob_matrix(matrix, p), axis = 0)\n",
    "\n",
    "def find_neighbors(matrix, conflicting_only = False):\n",
    "    occurencies_matrix =abs(matrix)\n",
    "    neighbors_indices_list = []\n",
    "    neighbors_number_list = []\n",
    "    for i in range(np.shape(occurencies_matrix)[1]):\n",
    "        target = matrix[:,i][:, None]\n",
    "\n",
    "        if conflicting_only == False:\n",
    "            a = np.where(np.sum(occurencies_matrix[:,0:i] * abs(target), axis = 0)!=0, 1, 0)\n",
    "            b = np.where(np.sum(occurencies_matrix[:,i+1:np.shape(occurencies_matrix)[1]] * abs(target), axis = 0)!=0, 1, 0)\n",
    "        if conflicting_only == True:\n",
    "            a = np.where(np.sum(((occurencies_matrix[:,0:i] * abs(target)) - (matrix[:, 0:i] * target))/2, axis = 0) != 0 , 1, 0)\n",
    "            b = np.where(np.sum(((occurencies_matrix[:,i+1:np.shape(occurencies_matrix)[1]] * abs(target)) - (matrix[:, i+1:np.shape(occurencies_matrix)[1]] * target))/2, axis = 0) != 0, 1, 0)\n",
    "        \n",
    "        a = np.hstack((a,[0]))      \n",
    "        remainder = np.hstack((a, b))\n",
    "        neighbors_number = np.sum(remainder)\n",
    "        neighbors_indices = np.argwhere(remainder != 0).transpose()[0]\n",
    "        neighbors_number_list.append(neighbors_number)\n",
    "        neighbors_indices_list.append(neighbors_indices)\n",
    "\n",
    "    return(neighbors_indices_list,neighbors_number_list)\n",
    "\n",
    "def get_rhs(matrix, x, conflicting_only = False):\n",
    "    neighbors_indices_list,neighbors_number_list = find_neighbors(matrix, conflicting_only=conflicting_only)\n",
    "    m = len(neighbors_indices_list)\n",
    "    rhs_array = np.zeros(m)\n",
    "    for current_clause in range(m):\n",
    "        rhs = x[current_clause]\n",
    "        for neighbor in neighbors_indices_list[current_clause]:\n",
    "            rhs = rhs * (1-x[neighbor])\n",
    "        rhs_array[current_clause] = rhs\n",
    "    return rhs_array"
   ]
  },
  {
   "cell_type": "code",
   "execution_count": 304,
   "metadata": {},
   "outputs": [
    {
     "name": "stdout",
     "output_type": "stream",
     "text": [
      "[[-1. -1.  0.  0.  0.  0.  0.  0.  0.  0.  0.  0.  0.  0.]\n",
      " [ 0.  0. -1. -1. -1. -1. -1. -1.  0.  0.  0.  0.  0.  0.]\n",
      " [ 0.  0.  0.  0.  0.  0.  1.  1. -1.  0.  0.  0.  0.  0.]\n",
      " [-1.  0. -1. -1. -1.  0. -1.  0.  0. -1.  0.  0.  0.  0.]\n",
      " [ 0.  0.  0.  0.  0.  0. -1. -1. -1.  0.  0.  0.  0.  0.]\n",
      " [-1. -1.  0.  0.  0.  0.  0.  0.  0.  0.  0.  0.  0.  0.]\n",
      " [ 0.  0.  0.  0.  0.  0.  0.  0.  0.  0. -1.  0.  0.  0.]\n",
      " [ 1.  0. -1.  1.  1.  1.  1.  0.  0.  0.  0.  0.  0.  0.]\n",
      " [ 0.  0.  0.  1.  1.  0.  0.  0.  0.  0.  0.  0.  0.  1.]\n",
      " [ 1.  0.  0.  0.  1.  0.  1.  0.  0.  0.  0.  0.  1.  0.]]\n",
      "(10, 14)\n"
     ]
    }
   ],
   "source": [
    "def check_LLL_condition(matrix, p, x, conflicting_only = False):\n",
    "    induced_probs = find_induced_probs(matrix, p)\n",
    "    rhs = get_rhs(matrix, x, conflicting_only=conflicting_only)\n",
    "    # print(induced_probs - rhs)\n",
    "    # print(np.less_equal(induced_probs - rhs, 0))\n",
    "    # print(np.all(np.less_equal(induced_probs - rhs, 0)))\n",
    "    return np.all(np.less_equal(induced_probs - rhs, 0))\n",
    "\n",
    "def check_uniqueness_condition(matrix):\n",
    "    unique_matrix = np.unique(matrix, axis = 1)\n",
    "    return ((matrix.shape[1] - np.sum(np.where(np.sum(matrix, axis= 0)!= 0, 0, 1))) - (unique_matrix.shape[1] - np.sum(np.where(np.sum(unique_matrix, axis= 0)!= 0, 0, 1))) == 0)\n",
    "\n",
    "def get_LLL_matrix(p, x, conflicting_only = False, TIMEOUT = 1000):\n",
    "    n = len(p)\n",
    "    m = len(x)\n",
    "    matrix = np.zeros((n,m))\n",
    "    t = 0\n",
    "    while t < TIMEOUT:\n",
    "        available_indices = np.argwhere(matrix == 0)\n",
    "        if len(available_indices) != 0:\n",
    "            chosen_index = random.choice(available_indices)\n",
    "            prob_pick = p[chosen_index[0]]\n",
    "            old_matrix = np.copy(matrix)\n",
    "            choice = np.random.choice([int(-1),int(1)], p = [1- prob_pick, prob_pick]) # p is the prob to sample 1\n",
    "            matrix[chosen_index[0],chosen_index[1]] = choice\n",
    "\n",
    "            #induced_probs = find_induced_probs(matrix, p)\n",
    "            #rhs = get_rhs(matrix, x, conflicting_only=conflicting_only)\n",
    "            check_LLL = check_LLL_condition(matrix, p, x, conflicting_only=conflicting_only)\n",
    "            check_uniqueness = check_uniqueness_condition(matrix)\n",
    "            #if not np.all(np.greater_equal(0, induced_probs - rhs)):\n",
    "            if not np.all([check_LLL, check_uniqueness]):\n",
    "                #print(\"matrix\", np.allclose(old_matrix, matrix))\n",
    "                matrix = old_matrix\n",
    "                t += 1\n",
    "                # print(\"t =\", t)\n",
    "            \n",
    "        else:\n",
    "            t = TIMEOUT\n",
    "        # print(check_LLL_condition(matrix, p, x, conflicting_only=conflicting_only))\n",
    "    assert check_LLL_condition(matrix, p, x, conflicting_only=conflicting_only) == True\n",
    "    return np.unique(matrix, axis = 1)\n",
    "\n",
    "matrix = get_LLL_matrix(p, x, conflicting_only= False, TIMEOUT= 1000)\n",
    "print(matrix)\n",
    "print(np.shape(matrix))"
   ]
  },
  {
   "cell_type": "code",
   "execution_count": null,
   "metadata": {},
   "outputs": [],
   "source": [
    "\n"
   ]
  },
  {
   "cell_type": "code",
   "execution_count": null,
   "metadata": {},
   "outputs": [],
   "source": []
  },
  {
   "cell_type": "code",
   "execution_count": null,
   "metadata": {},
   "outputs": [],
   "source": [
    "# idea from Paul:\n",
    "\n",
    "def satisfies_lll(matrix, p):\n",
    "    d = find_max_number_of_neighbors(matrix)\n",
    "    induced_constraint_violation_probs = find_induced_probs(matrix, p)\n",
    "    max_p = np.max(induced...)\n",
    "    return d*max_p*np.e <=1\n",
    "\n",
    "\n",
    "def cleverly_readjust_p_and_matrix(matrix,p):\n",
    "    max_d, constraint_node_idx = find_max_degree_from_constraint_nodes(matrix)\n",
    "    edges = edges[receiver=constraint_node_idx]\n",
    "    to_drop = np.random.choose(edges,1)\n",
    "    matrix = remove_edges(to_drop, matrix)\n",
    "    return matrix,p\n",
    "\n",
    "while not satisfies_lll(matrix, p):\n",
    "    p, matrix = cleverly_readjust_p_and_matrix(matrix, p)\n",
    "\n",
    "return matrix, p"
   ]
  }
 ],
 "metadata": {
  "kernelspec": {
   "display_name": "base",
   "language": "python",
   "name": "python3"
  },
  "language_info": {
   "codemirror_mode": {
    "name": "ipython",
    "version": 3
   },
   "file_extension": ".py",
   "mimetype": "text/x-python",
   "name": "python",
   "nbconvert_exporter": "python",
   "pygments_lexer": "ipython3",
   "version": "3.9.13"
  },
  "orig_nbformat": 4,
  "vscode": {
   "interpreter": {
    "hash": "cd78fef2128015050713e82ca51c6520b11aee7c9ee8df750520bbbc7384cbaa"
   }
  }
 },
 "nbformat": 4,
 "nbformat_minor": 2
}
