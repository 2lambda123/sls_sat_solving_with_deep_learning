{
 "cells": [
  {
   "attachments": {},
   "cell_type": "markdown",
   "metadata": {},
   "source": [
    "# Experiment tracking\n",
    "\n",
    "This notebook is dedicated to show how experiment tracking works with MLflow in our case. Start by loading the train function.\n"
   ]
  },
  {
   "cell_type": "code",
   "execution_count": 1,
   "metadata": {},
   "outputs": [],
   "source": [
    "#import sys\n",
    "#sys.path.append('../')\n",
    "\n",
    "from pathlib import Path\n",
    "from train_ML_flow import experiment_tracking_train\n"
   ]
  },
  {
   "attachments": {},
   "cell_type": "markdown",
   "metadata": {},
   "source": [
    "Define how the experiment tracking data should be tracked"
   ]
  },
  {
   "cell_type": "code",
   "execution_count": 20,
   "metadata": {},
   "outputs": [
    {
     "name": "stdout",
     "output_type": "stream",
     "text": [
      "['../experiment_tracking/', '../experiment_tracking/772400276488785180', '../experiment_tracking/772400276488785180/5765e956573147e2bcbfc95804dabb56', '../experiment_tracking/772400276488785180/5765e956573147e2bcbfc95804dabb56/metrics', '../experiment_tracking/772400276488785180/5765e956573147e2bcbfc95804dabb56/artifacts', '../experiment_tracking/772400276488785180/5765e956573147e2bcbfc95804dabb56/tags', '../experiment_tracking/772400276488785180/5765e956573147e2bcbfc95804dabb56/params', '../experiment_tracking/772400276488785180/756a29d1ccb34a508758063912ddb314', '../experiment_tracking/772400276488785180/756a29d1ccb34a508758063912ddb314/metrics', '../experiment_tracking/772400276488785180/756a29d1ccb34a508758063912ddb314/artifacts', '../experiment_tracking/772400276488785180/756a29d1ccb34a508758063912ddb314/tags', '../experiment_tracking/772400276488785180/756a29d1ccb34a508758063912ddb314/params', '../experiment_tracking/772400276488785180/2463a4778f424c49b8e82dbba25710ec', '../experiment_tracking/772400276488785180/2463a4778f424c49b8e82dbba25710ec/metrics', '../experiment_tracking/772400276488785180/2463a4778f424c49b8e82dbba25710ec/artifacts', '../experiment_tracking/772400276488785180/2463a4778f424c49b8e82dbba25710ec/tags', '../experiment_tracking/772400276488785180/2463a4778f424c49b8e82dbba25710ec/params', '../experiment_tracking/772400276488785180/1495b97204294c54ad6077f377d81f06', '../experiment_tracking/772400276488785180/1495b97204294c54ad6077f377d81f06/metrics', '../experiment_tracking/772400276488785180/1495b97204294c54ad6077f377d81f06/artifacts', '../experiment_tracking/772400276488785180/1495b97204294c54ad6077f377d81f06/tags', '../experiment_tracking/772400276488785180/1495b97204294c54ad6077f377d81f06/params', '../experiment_tracking/772400276488785180/986403f12766461892122531b1bf4712', '../experiment_tracking/772400276488785180/986403f12766461892122531b1bf4712/metrics', '../experiment_tracking/772400276488785180/986403f12766461892122531b1bf4712/artifacts', '../experiment_tracking/772400276488785180/986403f12766461892122531b1bf4712/tags', '../experiment_tracking/772400276488785180/986403f12766461892122531b1bf4712/params', '../experiment_tracking/.trash']\n",
      "../experiment_tracking\n"
     ]
    }
   ],
   "source": [
    "\n",
    "#path used for storing the data\n",
    "from os import walk\n",
    "path_exp = \"../experiment_tracking/\"\n",
    "#filenames = next(walk(path_exp), (None, None, []))[2]  # [] if no file\n",
    "folders = [x[0] for x in walk(path_exp)]\n",
    "print(folders)\n",
    "MODEL_REGISTRY = Path(path_exp)\n",
    "print(MODEL_REGISTRY)\n",
    "#name of the experiment\n",
    "EXPERIMENT_NAME = \"mlflow-demo2\""
   ]
  },
  {
   "attachments": {},
   "cell_type": "markdown",
   "metadata": {},
   "source": [
    "Run an experiment:"
   ]
  },
  {
   "cell_type": "code",
   "execution_count": 27,
   "metadata": {},
   "outputs": [
    {
     "name": "stdout",
     "output_type": "stream",
     "text": [
      "['../../Data/blocksworld/']\n",
      "NUM_EPOCHS= 10 , batch_size= 1 , N_STEPS_MOSER= 1000 , f= 0.0001\n"
     ]
    },
    {
     "name": "stderr",
     "output_type": "stream",
     "text": [
      "2023-01-17 14:00:55.163417: E external/org_tensorflow/tensorflow/compiler/xla/service/slow_operation_alarm.cc:65] Constant folding an instruction is taking > 1s:\n",
      "\n",
      "  slice.59 (displaying the full instruction incurs a runtime overhead. Raise your logging level to 4 or above).\n",
      "\n",
      "This isn't necessarily a bug; constant-folding is inherently a trade-off between compilation time and speed at runtime.  XLA has some guards that attempt to keep constant folding from taking too long, but fundamentally you'll always be able to come up with an input program that takes a long time.\n",
      "\n",
      "If you'd like to file a bug, run with envvar XLA_FLAGS=--xla_dump_to=/tmp/foo and attach the results.\n",
      "2023-01-17 14:00:55.192800: E external/org_tensorflow/tensorflow/compiler/xla/service/slow_operation_alarm.cc:133] The operation took 1.033447s\n",
      "Constant folding an instruction is taking > 1s:\n",
      "\n",
      "  slice.59 (displaying the full instruction incurs a runtime overhead. Raise your logging level to 4 or above).\n",
      "\n",
      "This isn't necessarily a bug; constant-folding is inherently a trade-off between compilation time and speed at runtime.  XLA has some guards that attempt to keep constant folding from taking too long, but fundamentally you'll always be able to come up with an input program that takes a long time.\n",
      "\n",
      "If you'd like to file a bug, run with envvar XLA_FLAGS=--xla_dump_to=/tmp/foo and attach the results.\n"
     ]
    },
    {
     "name": "stdout",
     "output_type": "stream",
     "text": [
      "Entering training loop\n",
      "Loading problem with 6325 variables and 131973 clauses\n",
      "Round 1 ending with 102881 violated clauses\n",
      "Round 2 ending with 102550 violated clauses\n",
      "Loading problem with 459 variables and 7054 clauses\n",
      "Round 1 ending with 5495 violated clauses\n",
      "Round 2 ending with 5319 violated clauses\n",
      "Loading problem with 1087 variables and 13772 clauses\n",
      "Round 1 ending with 9726 violated clauses\n",
      "Round 2 ending with 9714 violated clauses\n",
      "Loading problem with 6325 variables and 131973 clauses\n",
      "Round 1 ending with 102966 violated clauses\n",
      "Round 2 ending with 101834 violated clauses\n",
      "Loading problem with 459 variables and 7054 clauses\n",
      "Round 1 ending with 5391 violated clauses\n",
      "Round 2 ending with 5621 violated clauses\n",
      "Loading problem with 1087 variables and 13772 clauses\n",
      "Round 1 ending with 9879 violated clauses\n",
      "Round 2 ending with 9890 violated clauses\n"
     ]
    },
    {
     "ename": "MlflowException",
     "evalue": "Invalid metric name: 'Moser loss (test)'. Names may only contain alphanumerics, underscores (_), dashes (-), periods (.), spaces ( ), and slashes (/).",
     "output_type": "error",
     "traceback": [
      "\u001b[0;31m---------------------------------------------------------------------------\u001b[0m",
      "\u001b[0;31mMlflowException\u001b[0m                           Traceback (most recent call last)",
      "\u001b[0;32m/var/folders/_5/jp84zrhn28sg9yqq0sq0dkfr0000gp/T/ipykernel_40082/5523120.py\u001b[0m in \u001b[0;36m<module>\u001b[0;34m\u001b[0m\n\u001b[1;32m     22\u001b[0m                                         \", f=\", f)\n\u001b[1;32m     23\u001b[0m                                 \u001b[0;32mfor\u001b[0m \u001b[0m_\u001b[0m \u001b[0;32min\u001b[0m \u001b[0mrange\u001b[0m\u001b[0;34m(\u001b[0m\u001b[0mn_repetitions\u001b[0m\u001b[0;34m)\u001b[0m\u001b[0;34m:\u001b[0m\u001b[0;34m\u001b[0m\u001b[0;34m\u001b[0m\u001b[0m\n\u001b[0;32m---> 24\u001b[0;31m                                         experiment_tracking_train(\n\u001b[0m\u001b[1;32m     25\u001b[0m                                                 \u001b[0mMODEL_REGISTRY\u001b[0m\u001b[0;34m,\u001b[0m\u001b[0;34m\u001b[0m\u001b[0;34m\u001b[0m\u001b[0m\n\u001b[1;32m     26\u001b[0m                                                 \u001b[0mEXPERIMENT_NAME\u001b[0m\u001b[0;34m,\u001b[0m\u001b[0;34m\u001b[0m\u001b[0;34m\u001b[0m\u001b[0m\n",
      "\u001b[0;32m~/Library/CloudStorage/OneDrive-PorscheDigitalGmbH/GIT_SAT_ML/ml_based_sat_solver/python/src/train_ML_flow.py\u001b[0m in \u001b[0;36mexperiment_tracking_train\u001b[0;34m(MODEL_REGISTRY, EXPERIMENT_NAME, batch_size, f, NUM_EPOCHS, N_STEPS_MOSER, N_RUNS_MOSER, path, img_path, model_path)\u001b[0m\n\u001b[1;32m     37\u001b[0m     \u001b[0;32mwith\u001b[0m \u001b[0mmlflow\u001b[0m\u001b[0;34m.\u001b[0m\u001b[0mstart_run\u001b[0m\u001b[0;34m(\u001b[0m\u001b[0;34m)\u001b[0m\u001b[0;34m:\u001b[0m\u001b[0;34m\u001b[0m\u001b[0;34m\u001b[0m\u001b[0m\n\u001b[1;32m     38\u001b[0m         \u001b[0;31m# train and evaluate\u001b[0m\u001b[0;34m\u001b[0m\u001b[0;34m\u001b[0m\u001b[0m\n\u001b[0;32m---> 39\u001b[0;31m         artifacts = train(\n\u001b[0m\u001b[1;32m     40\u001b[0m             \u001b[0mbatch_size\u001b[0m\u001b[0;34m,\u001b[0m\u001b[0;34m\u001b[0m\u001b[0;34m\u001b[0m\u001b[0m\n\u001b[1;32m     41\u001b[0m             \u001b[0mf\u001b[0m\u001b[0;34m,\u001b[0m\u001b[0;34m\u001b[0m\u001b[0;34m\u001b[0m\u001b[0m\n",
      "\u001b[0;32m~/Library/CloudStorage/OneDrive-PorscheDigitalGmbH/GIT_SAT_ML/ml_based_sat_solver/python/src/../../python/src/train.py\u001b[0m in \u001b[0;36mtrain\u001b[0;34m(batch_size, f, NUM_EPOCHS, N_STEPS_MOSER, N_RUNS_MOSER, path, img_path, model_path, experiment_tracking)\u001b[0m\n\u001b[1;32m    196\u001b[0m             )\n\u001b[1;32m    197\u001b[0m             \u001b[0;32mif\u001b[0m \u001b[0mexperiment_tracking\u001b[0m \u001b[0;34m==\u001b[0m \u001b[0;32mTrue\u001b[0m\u001b[0;34m:\u001b[0m\u001b[0;34m\u001b[0m\u001b[0;34m\u001b[0m\u001b[0m\n\u001b[0;32m--> 198\u001b[0;31m                 \u001b[0mmlflow\u001b[0m\u001b[0;34m.\u001b[0m\u001b[0mlog_metric\u001b[0m\u001b[0;34m(\u001b[0m\u001b[0meval_result\u001b[0m\u001b[0;34m.\u001b[0m\u001b[0mname\u001b[0m\u001b[0;34m,\u001b[0m \u001b[0meval_result\u001b[0m\u001b[0;34m.\u001b[0m\u001b[0mresults\u001b[0m\u001b[0;34m[\u001b[0m\u001b[0;34m-\u001b[0m\u001b[0;36m1\u001b[0m\u001b[0;34m]\u001b[0m\u001b[0;34m,\u001b[0m \u001b[0mstep\u001b[0m\u001b[0;34m=\u001b[0m\u001b[0mepoch\u001b[0m\u001b[0;34m)\u001b[0m\u001b[0;34m\u001b[0m\u001b[0;34m\u001b[0m\u001b[0m\n\u001b[0m\u001b[1;32m    199\u001b[0m         \u001b[0mprint\u001b[0m\u001b[0;34m(\u001b[0m\u001b[0mloss_str\u001b[0m\u001b[0;34m)\u001b[0m\u001b[0;34m\u001b[0m\u001b[0;34m\u001b[0m\u001b[0m\n\u001b[1;32m    200\u001b[0m     \u001b[0;32mif\u001b[0m \u001b[0mimg_path\u001b[0m\u001b[0;34m:\u001b[0m\u001b[0;34m\u001b[0m\u001b[0;34m\u001b[0m\u001b[0m\n",
      "\u001b[0;32m/Applications/anaconda3/lib/python3.9/site-packages/mlflow/tracking/fluent.py\u001b[0m in \u001b[0;36mlog_metric\u001b[0;34m(key, value, step)\u001b[0m\n\u001b[1;32m    641\u001b[0m     \"\"\"\n\u001b[1;32m    642\u001b[0m     \u001b[0mrun_id\u001b[0m \u001b[0;34m=\u001b[0m \u001b[0m_get_or_start_run\u001b[0m\u001b[0;34m(\u001b[0m\u001b[0;34m)\u001b[0m\u001b[0;34m.\u001b[0m\u001b[0minfo\u001b[0m\u001b[0;34m.\u001b[0m\u001b[0mrun_id\u001b[0m\u001b[0;34m\u001b[0m\u001b[0;34m\u001b[0m\u001b[0m\n\u001b[0;32m--> 643\u001b[0;31m     \u001b[0mMlflowClient\u001b[0m\u001b[0;34m(\u001b[0m\u001b[0;34m)\u001b[0m\u001b[0;34m.\u001b[0m\u001b[0mlog_metric\u001b[0m\u001b[0;34m(\u001b[0m\u001b[0mrun_id\u001b[0m\u001b[0;34m,\u001b[0m \u001b[0mkey\u001b[0m\u001b[0;34m,\u001b[0m \u001b[0mvalue\u001b[0m\u001b[0;34m,\u001b[0m \u001b[0mget_current_time_millis\u001b[0m\u001b[0;34m(\u001b[0m\u001b[0;34m)\u001b[0m\u001b[0;34m,\u001b[0m \u001b[0mstep\u001b[0m \u001b[0;32mor\u001b[0m \u001b[0;36m0\u001b[0m\u001b[0;34m)\u001b[0m\u001b[0;34m\u001b[0m\u001b[0;34m\u001b[0m\u001b[0m\n\u001b[0m\u001b[1;32m    644\u001b[0m \u001b[0;34m\u001b[0m\u001b[0m\n\u001b[1;32m    645\u001b[0m \u001b[0;34m\u001b[0m\u001b[0m\n",
      "\u001b[0;32m/Applications/anaconda3/lib/python3.9/site-packages/mlflow/tracking/client.py\u001b[0m in \u001b[0;36mlog_metric\u001b[0;34m(self, run_id, key, value, timestamp, step)\u001b[0m\n\u001b[1;32m    685\u001b[0m             \u001b[0mstatus\u001b[0m\u001b[0;34m:\u001b[0m \u001b[0mFINISHED\u001b[0m\u001b[0;34m\u001b[0m\u001b[0;34m\u001b[0m\u001b[0m\n\u001b[1;32m    686\u001b[0m         \"\"\"\n\u001b[0;32m--> 687\u001b[0;31m         \u001b[0mself\u001b[0m\u001b[0;34m.\u001b[0m\u001b[0m_tracking_client\u001b[0m\u001b[0;34m.\u001b[0m\u001b[0mlog_metric\u001b[0m\u001b[0;34m(\u001b[0m\u001b[0mrun_id\u001b[0m\u001b[0;34m,\u001b[0m \u001b[0mkey\u001b[0m\u001b[0;34m,\u001b[0m \u001b[0mvalue\u001b[0m\u001b[0;34m,\u001b[0m \u001b[0mtimestamp\u001b[0m\u001b[0;34m,\u001b[0m \u001b[0mstep\u001b[0m\u001b[0;34m)\u001b[0m\u001b[0;34m\u001b[0m\u001b[0;34m\u001b[0m\u001b[0m\n\u001b[0m\u001b[1;32m    688\u001b[0m \u001b[0;34m\u001b[0m\u001b[0m\n\u001b[1;32m    689\u001b[0m     \u001b[0;32mdef\u001b[0m \u001b[0mlog_param\u001b[0m\u001b[0;34m(\u001b[0m\u001b[0mself\u001b[0m\u001b[0;34m,\u001b[0m \u001b[0mrun_id\u001b[0m\u001b[0;34m:\u001b[0m \u001b[0mstr\u001b[0m\u001b[0;34m,\u001b[0m \u001b[0mkey\u001b[0m\u001b[0;34m:\u001b[0m \u001b[0mstr\u001b[0m\u001b[0;34m,\u001b[0m \u001b[0mvalue\u001b[0m\u001b[0;34m:\u001b[0m \u001b[0mAny\u001b[0m\u001b[0;34m)\u001b[0m \u001b[0;34m->\u001b[0m \u001b[0mAny\u001b[0m\u001b[0;34m:\u001b[0m\u001b[0;34m\u001b[0m\u001b[0;34m\u001b[0m\u001b[0m\n",
      "\u001b[0;32m/Applications/anaconda3/lib/python3.9/site-packages/mlflow/tracking/_tracking_service/client.py\u001b[0m in \u001b[0;36mlog_metric\u001b[0;34m(self, run_id, key, value, timestamp, step)\u001b[0m\n\u001b[1;32m    284\u001b[0m         \u001b[0mmetric_value\u001b[0m \u001b[0;34m=\u001b[0m \u001b[0mconvert_metric_value_to_float_if_possible\u001b[0m\u001b[0;34m(\u001b[0m\u001b[0mvalue\u001b[0m\u001b[0;34m)\u001b[0m\u001b[0;34m\u001b[0m\u001b[0;34m\u001b[0m\u001b[0m\n\u001b[1;32m    285\u001b[0m         \u001b[0mmetric\u001b[0m \u001b[0;34m=\u001b[0m \u001b[0mMetric\u001b[0m\u001b[0;34m(\u001b[0m\u001b[0mkey\u001b[0m\u001b[0;34m,\u001b[0m \u001b[0mmetric_value\u001b[0m\u001b[0;34m,\u001b[0m \u001b[0mtimestamp\u001b[0m\u001b[0;34m,\u001b[0m \u001b[0mstep\u001b[0m\u001b[0;34m)\u001b[0m\u001b[0;34m\u001b[0m\u001b[0;34m\u001b[0m\u001b[0m\n\u001b[0;32m--> 286\u001b[0;31m         \u001b[0mself\u001b[0m\u001b[0;34m.\u001b[0m\u001b[0mstore\u001b[0m\u001b[0;34m.\u001b[0m\u001b[0mlog_metric\u001b[0m\u001b[0;34m(\u001b[0m\u001b[0mrun_id\u001b[0m\u001b[0;34m,\u001b[0m \u001b[0mmetric\u001b[0m\u001b[0;34m)\u001b[0m\u001b[0;34m\u001b[0m\u001b[0;34m\u001b[0m\u001b[0m\n\u001b[0m\u001b[1;32m    287\u001b[0m \u001b[0;34m\u001b[0m\u001b[0m\n\u001b[1;32m    288\u001b[0m     \u001b[0;32mdef\u001b[0m \u001b[0mlog_param\u001b[0m\u001b[0;34m(\u001b[0m\u001b[0mself\u001b[0m\u001b[0;34m,\u001b[0m \u001b[0mrun_id\u001b[0m\u001b[0;34m,\u001b[0m \u001b[0mkey\u001b[0m\u001b[0;34m,\u001b[0m \u001b[0mvalue\u001b[0m\u001b[0;34m)\u001b[0m\u001b[0;34m:\u001b[0m\u001b[0;34m\u001b[0m\u001b[0;34m\u001b[0m\u001b[0m\n",
      "\u001b[0;32m/Applications/anaconda3/lib/python3.9/site-packages/mlflow/store/tracking/file_store.py\u001b[0m in \u001b[0;36mlog_metric\u001b[0;34m(self, run_id, metric)\u001b[0m\n\u001b[1;32m    895\u001b[0m     \u001b[0;32mdef\u001b[0m \u001b[0mlog_metric\u001b[0m\u001b[0;34m(\u001b[0m\u001b[0mself\u001b[0m\u001b[0;34m,\u001b[0m \u001b[0mrun_id\u001b[0m\u001b[0;34m,\u001b[0m \u001b[0mmetric\u001b[0m\u001b[0;34m)\u001b[0m\u001b[0;34m:\u001b[0m\u001b[0;34m\u001b[0m\u001b[0;34m\u001b[0m\u001b[0m\n\u001b[1;32m    896\u001b[0m         \u001b[0m_validate_run_id\u001b[0m\u001b[0;34m(\u001b[0m\u001b[0mrun_id\u001b[0m\u001b[0;34m)\u001b[0m\u001b[0;34m\u001b[0m\u001b[0;34m\u001b[0m\u001b[0m\n\u001b[0;32m--> 897\u001b[0;31m         \u001b[0m_validate_metric\u001b[0m\u001b[0;34m(\u001b[0m\u001b[0mmetric\u001b[0m\u001b[0;34m.\u001b[0m\u001b[0mkey\u001b[0m\u001b[0;34m,\u001b[0m \u001b[0mmetric\u001b[0m\u001b[0;34m.\u001b[0m\u001b[0mvalue\u001b[0m\u001b[0;34m,\u001b[0m \u001b[0mmetric\u001b[0m\u001b[0;34m.\u001b[0m\u001b[0mtimestamp\u001b[0m\u001b[0;34m,\u001b[0m \u001b[0mmetric\u001b[0m\u001b[0;34m.\u001b[0m\u001b[0mstep\u001b[0m\u001b[0;34m)\u001b[0m\u001b[0;34m\u001b[0m\u001b[0;34m\u001b[0m\u001b[0m\n\u001b[0m\u001b[1;32m    898\u001b[0m         \u001b[0mrun_info\u001b[0m \u001b[0;34m=\u001b[0m \u001b[0mself\u001b[0m\u001b[0;34m.\u001b[0m\u001b[0m_get_run_info\u001b[0m\u001b[0;34m(\u001b[0m\u001b[0mrun_id\u001b[0m\u001b[0;34m)\u001b[0m\u001b[0;34m\u001b[0m\u001b[0;34m\u001b[0m\u001b[0m\n\u001b[1;32m    899\u001b[0m         \u001b[0mcheck_run_is_active\u001b[0m\u001b[0;34m(\u001b[0m\u001b[0mrun_info\u001b[0m\u001b[0;34m)\u001b[0m\u001b[0;34m\u001b[0m\u001b[0;34m\u001b[0m\u001b[0m\n",
      "\u001b[0;32m/Applications/anaconda3/lib/python3.9/site-packages/mlflow/utils/validation.py\u001b[0m in \u001b[0;36m_validate_metric\u001b[0;34m(key, value, timestamp, step)\u001b[0m\n\u001b[1;32m    118\u001b[0m     \u001b[0mexception\u001b[0m \u001b[0;32mif\u001b[0m \u001b[0mit\u001b[0m \u001b[0misn\u001b[0m\u001b[0;31m'\u001b[0m\u001b[0mt\u001b[0m\u001b[0;34m.\u001b[0m\u001b[0;34m\u001b[0m\u001b[0;34m\u001b[0m\u001b[0m\n\u001b[1;32m    119\u001b[0m     \"\"\"\n\u001b[0;32m--> 120\u001b[0;31m     \u001b[0m_validate_metric_name\u001b[0m\u001b[0;34m(\u001b[0m\u001b[0mkey\u001b[0m\u001b[0;34m)\u001b[0m\u001b[0;34m\u001b[0m\u001b[0;34m\u001b[0m\u001b[0m\n\u001b[0m\u001b[1;32m    121\u001b[0m     \u001b[0;31m# value must be a Number\u001b[0m\u001b[0;34m\u001b[0m\u001b[0;34m\u001b[0m\u001b[0m\n\u001b[1;32m    122\u001b[0m     \u001b[0;31m# since bool is an instance of Number check for bool additionally\u001b[0m\u001b[0;34m\u001b[0m\u001b[0;34m\u001b[0m\u001b[0m\n",
      "\u001b[0;32m/Applications/anaconda3/lib/python3.9/site-packages/mlflow/utils/validation.py\u001b[0m in \u001b[0;36m_validate_metric_name\u001b[0;34m(name)\u001b[0m\n\u001b[1;32m     93\u001b[0m         )\n\u001b[1;32m     94\u001b[0m     \u001b[0;32mif\u001b[0m \u001b[0;32mnot\u001b[0m \u001b[0m_VALID_PARAM_AND_METRIC_NAMES\u001b[0m\u001b[0;34m.\u001b[0m\u001b[0mmatch\u001b[0m\u001b[0;34m(\u001b[0m\u001b[0mname\u001b[0m\u001b[0;34m)\u001b[0m\u001b[0;34m:\u001b[0m\u001b[0;34m\u001b[0m\u001b[0;34m\u001b[0m\u001b[0m\n\u001b[0;32m---> 95\u001b[0;31m         raise MlflowException(\n\u001b[0m\u001b[1;32m     96\u001b[0m             \u001b[0;34mf\"Invalid metric name: '{name}'. {_BAD_CHARACTERS_MESSAGE}\"\u001b[0m\u001b[0;34m,\u001b[0m\u001b[0;34m\u001b[0m\u001b[0;34m\u001b[0m\u001b[0m\n\u001b[1;32m     97\u001b[0m             \u001b[0mINVALID_PARAMETER_VALUE\u001b[0m\u001b[0;34m,\u001b[0m\u001b[0;34m\u001b[0m\u001b[0;34m\u001b[0m\u001b[0m\n",
      "\u001b[0;31mMlflowException\u001b[0m: Invalid metric name: 'Moser loss (test)'. Names may only contain alphanumerics, underscores (_), dashes (-), periods (.), spaces ( ), and slashes (/)."
     ]
    }
   ],
   "source": [
    "#define parameters to inversigate\n",
    "NUM_EPOCHS_list = [10] \n",
    "f_list = [0.0001]\n",
    "batch_size_list = [1]\n",
    "N_STEPS_MOSER_list = [1000]\n",
    "N_RUNS_MOSER = 2\n",
    "n_repetitions=1\n",
    "#dataset we use for training and testing\n",
    "path = \"../../Data/blocksworld/\"\n",
    "#filenames = next(walk(path_exp), (None, None, []))[2]  # [] if no file\n",
    "#folders = [x[0] for x in walk(path)]\n",
    "#print(folders)\n",
    "\n",
    "for NUM_EPOCHS in NUM_EPOCHS_list:\n",
    "        for batch_size in batch_size_list:\n",
    "                for N_STEPS_MOSER in N_STEPS_MOSER_list:\n",
    "                        for f in f_list:\n",
    "                                print(\n",
    "                                        \"NUM_EPOCHS=\", NUM_EPOCHS,\n",
    "                                        \", batch_size=\", batch_size,\n",
    "                                        \", N_STEPS_MOSER=\", N_STEPS_MOSER,\n",
    "                                        \", f=\", f)\n",
    "                                for _ in range(n_repetitions):\n",
    "                                        experiment_tracking_train(\n",
    "                                                MODEL_REGISTRY,\n",
    "                                                EXPERIMENT_NAME,\n",
    "                                                batch_size,\n",
    "                                                f,\n",
    "                                                NUM_EPOCHS,\n",
    "                                                N_STEPS_MOSER,\n",
    "                                                N_RUNS_MOSER,\n",
    "                                                path,\n",
    "                                                img_path=False,\n",
    "                                                model_path=False,\n",
    "                                        )\n",
    "\n",
    "\n",
    "\n",
    "\n"
   ]
  },
  {
   "attachments": {},
   "cell_type": "markdown",
   "metadata": {},
   "source": [
    "## Open MLflow UI"
   ]
  },
  {
   "cell_type": "code",
   "execution_count": 4,
   "metadata": {},
   "outputs": [
    {
     "name": "stdout",
     "output_type": "stream",
     "text": [
      "zsh:1: command not found: npx\n"
     ]
    },
    {
     "name": "stderr",
     "output_type": "stream",
     "text": [
      "[2023-01-17 09:22:23 +0100] [22838] [INFO] Starting gunicorn 20.1.0\n",
      "[2023-01-17 09:22:23 +0100] [22838] [ERROR] Connection in use: ('0.0.0.0', 8002)\n",
      "[2023-01-17 09:22:23 +0100] [22838] [ERROR] Retrying in 1 second.\n",
      "[2023-01-17 09:22:24 +0100] [22838] [ERROR] Connection in use: ('0.0.0.0', 8002)\n",
      "[2023-01-17 09:22:24 +0100] [22838] [ERROR] Retrying in 1 second.\n",
      "[2023-01-17 09:22:25 +0100] [22838] [ERROR] Connection in use: ('0.0.0.0', 8002)\n",
      "[2023-01-17 09:22:25 +0100] [22838] [ERROR] Retrying in 1 second.\n",
      "[2023-01-17 09:22:26 +0100] [22838] [ERROR] Connection in use: ('0.0.0.0', 8002)\n",
      "[2023-01-17 09:22:26 +0100] [22838] [ERROR] Retrying in 1 second.\n",
      "[2023-01-17 09:22:27 +0100] [22838] [ERROR] Connection in use: ('0.0.0.0', 8002)\n",
      "[2023-01-17 09:22:27 +0100] [22838] [ERROR] Retrying in 1 second.\n",
      "[2023-01-17 09:22:28 +0100] [22838] [ERROR] Can't connect to ('0.0.0.0', 8002)\n",
      "Running the mlflow server failed. Please see the logs above for details.\n"
     ]
    }
   ],
   "source": [
    "\n",
    "# Run MLFlow server and localtunnel\n",
    "get_ipython().system_raw(\"mlflow server -h 0.0.0.0 -p 8002 --backend-store-uri $PWD/experiments_storing/ &\")\n",
    "!npx localtunnel --port 8000"
   ]
  },
  {
   "attachments": {},
   "cell_type": "markdown",
   "metadata": {},
   "source": [
    "You can open this by typing http://localhost:8002 into your browser"
   ]
  },
  {
   "cell_type": "code",
   "execution_count": null,
   "metadata": {},
   "outputs": [],
   "source": []
  }
 ],
 "metadata": {
  "kernelspec": {
   "display_name": "base",
   "language": "python",
   "name": "python3"
  },
  "language_info": {
   "codemirror_mode": {
    "name": "ipython",
    "version": 3
   },
   "file_extension": ".py",
   "mimetype": "text/x-python",
   "name": "python",
   "nbconvert_exporter": "python",
   "pygments_lexer": "ipython3",
   "version": "3.9.16"
  },
  "orig_nbformat": 4,
  "vscode": {
   "interpreter": {
    "hash": "cd78fef2128015050713e82ca51c6520b11aee7c9ee8df750520bbbc7384cbaa"
   }
  }
 },
 "nbformat": 4,
 "nbformat_minor": 2
}
