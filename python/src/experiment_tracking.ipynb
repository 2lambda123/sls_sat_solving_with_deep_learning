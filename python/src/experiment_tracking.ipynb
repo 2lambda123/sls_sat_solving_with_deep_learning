{
 "cells": [
  {
   "attachments": {},
   "cell_type": "markdown",
   "metadata": {},
   "source": [
    "# Experiment tracking\n",
    "\n",
    "This notebook is dedicated to show how experiment tracking works with MLflow in our case. Start by loading the train function.\n"
   ]
  },
  {
   "cell_type": "code",
   "execution_count": 1,
   "metadata": {},
   "outputs": [
    {
     "name": "stdout",
     "output_type": "stream",
     "text": [
      "['/Users/p403830/Library/CloudStorage/OneDrive-PorscheDigitalGmbH/GIT_SAT_ML/ml_based_sat_solver/python/src', '/Applications/anaconda3/lib/python39.zip', '/Applications/anaconda3/lib/python3.9', '/Applications/anaconda3/lib/python3.9/lib-dynload', '', '/Applications/anaconda3/lib/python3.9/site-packages', '/Applications/anaconda3/lib/python3.9/site-packages/aeosa', '/Applications/anaconda3/lib/python3.9/site-packages/IPython/extensions', '/Users/p403830/.ipython', '../', '../../', '../../']\n"
     ]
    }
   ],
   "source": [
    "import sys\n",
    "sys.path.append('../')\n",
    "\n",
    "from pathlib import Path\n",
    "from train_ML_flow import experiment_tracking_train\n"
   ]
  },
  {
   "attachments": {},
   "cell_type": "markdown",
   "metadata": {},
   "source": [
    "Define how the experiment tracking data should be tracked"
   ]
  },
  {
   "cell_type": "code",
   "execution_count": 2,
   "metadata": {},
   "outputs": [
    {
     "name": "stdout",
     "output_type": "stream",
     "text": [
      "[]\n",
      "mlrun\n"
     ]
    }
   ],
   "source": [
    "import mlflow\n",
    "#path used for storing the data\n",
    "from os import walk\n",
    "# path_exp = \"experiment_tracking/experiments_storing/\"\n",
    "path_exp = \"./mlrun\"\n",
    "#filenames = next(walk(path_exp), (None, None, []))[2]  # [] if no file\n",
    "folders = [x[0] for x in walk(path_exp)]\n",
    "print(folders)\n",
    "MODEL_REGISTRY = Path(path_exp)\n",
    "print(MODEL_REGISTRY)\n",
    "#name of the experiment\n",
    "EXPERIMENT_NAME = \"mlflow-random_3SAT2\""
   ]
  },
  {
   "attachments": {},
   "cell_type": "markdown",
   "metadata": {},
   "source": [
    "Run an experiment:"
   ]
  },
  {
   "cell_type": "code",
   "execution_count": 3,
   "metadata": {},
   "outputs": [
    {
     "name": "stderr",
     "output_type": "stream",
     "text": [
      "2023/02/01 11:44:46 INFO mlflow.tracking.fluent: Experiment with name 'mlflow-random_3SAT2' does not exist. Creating a new experiment.\n"
     ]
    },
    {
     "name": "stdout",
     "output_type": "stream",
     "text": [
      "NUM_EPOCHS= 2 , batch_size= 1 , N_STEPS_MOSER= 1000 , f= 0.0001\n",
      "Entering training loop\n",
      "Loading problem with 40 variables and 189 clauses\n",
      "Round 1 ending with 28 violated clauses\n",
      "Round 2 ending with 28 violated clauses\n",
      "Loading problem with 10 variables and 37 clauses\n",
      "Round 1 ending with 0 violated clauses\n",
      "Loading problem with 30 variables and 102 clauses\n",
      "Round 1 ending with 10 violated clauses\n",
      "Round 2 ending with 9 violated clauses\n",
      "Loading problem with 30 variables and 102 clauses\n",
      "Round 1 ending with 7 violated clauses\n",
      "Round 2 ending with 8 violated clauses\n",
      "Loading problem with 50 variables and 192 clauses\n",
      "Round 1 ending with 20 violated clauses\n",
      "Round 2 ending with 16 violated clauses\n",
      "Loading problem with 40 variables and 134 clauses\n",
      "Round 1 ending with 3 violated clauses\n",
      "Round 2 ending with 7 violated clauses\n",
      "Loading problem with 30 variables and 122 clauses\n",
      "Round 1 ending with 11 violated clauses\n",
      "Round 2 ending with 7 violated clauses\n",
      "Loading problem with 40 variables and 155 clauses\n",
      "Round 1 ending with 10 violated clauses\n",
      "Round 2 ending with 9 violated clauses\n",
      "Loading problem with 50 variables and 169 clauses\n",
      "Round 1 ending with 9 violated clauses\n",
      "Round 2 ending with 0 violated clauses\n",
      "Loading problem with 50 variables and 186 clauses\n",
      "Round 1 ending with 9 violated clauses\n",
      "Round 2 ending with 9 violated clauses\n",
      "Loading problem with 30 variables and 144 clauses\n",
      "Round 1 ending with 13 violated clauses\n",
      "Round 2 ending with 13 violated clauses\n",
      "Loading problem with 40 variables and 193 clauses\n",
      "Round 1 ending with 26 violated clauses\n",
      "Round 2 ending with 21 violated clauses\n",
      "Loading problem with 30 variables and 141 clauses\n",
      "Round 1 ending with 16 violated clauses\n",
      "Round 2 ending with 16 violated clauses\n",
      "Loading problem with 66 variables and 858 clauses\n",
      "Round 1 ending with 0 violated clauses\n",
      "Round 2 ending with 0 violated clauses\n",
      "Loading problem with 40 variables and 139 clauses\n",
      "Round 1 ending with 7 violated clauses\n",
      "Round 2 ending with 13 violated clauses\n",
      "Loading problem with 50 variables and 193 clauses\n",
      "Round 1 ending with 21 violated clauses\n",
      "Round 2 ending with 15 violated clauses\n",
      "Loading problem with 40 variables and 137 clauses\n",
      "Round 1 ending with 14 violated clauses\n",
      "Round 2 ending with 13 violated clauses\n",
      "Loading problem with 30 variables and 109 clauses\n",
      "Round 1 ending with 9 violated clauses\n",
      "Round 2 ending with 9 violated clauses\n",
      "Loading problem with 50 variables and 167 clauses\n",
      "Round 1 ending with 8 violated clauses\n",
      "Round 2 ending with 8 violated clauses\n",
      "Loading problem with 30 variables and 144 clauses\n",
      "Round 1 ending with 13 violated clauses\n",
      "Round 2 ending with 13 violated clauses\n",
      "Loading problem with 40 variables and 139 clauses\n",
      "Round 1 ending with 7 violated clauses\n",
      "Round 2 ending with 8 violated clauses\n",
      "Loading problem with 30 variables and 102 clauses\n",
      "Round 1 ending with 4 violated clauses\n",
      "Round 2 ending with 9 violated clauses\n",
      "Loading problem with 30 variables and 100 clauses\n",
      "Round 1 ending with 0 violated clauses\n",
      "Loading problem with 40 variables and 175 clauses\n",
      "Round 1 ending with 20 violated clauses\n",
      "Round 2 ending with 23 violated clauses\n",
      "Loading problem with 30 variables and 146 clauses\n",
      "Round 1 ending with 15 violated clauses\n",
      "Round 2 ending with 20 violated clauses\n",
      "Loading problem with 40 variables and 155 clauses\n",
      "Round 1 ending with 10 violated clauses\n",
      "Round 2 ending with 9 violated clauses\n",
      "Loading problem with 50 variables and 181 clauses\n",
      "Round 1 ending with 17 violated clauses\n",
      "Round 2 ending with 11 violated clauses\n",
      "Loading problem with 50 variables and 227 clauses\n",
      "Round 1 ending with 21 violated clauses\n",
      "Round 2 ending with 18 violated clauses\n",
      "Loading problem with 50 variables and 187 clauses\n",
      "Round 1 ending with 13 violated clauses\n",
      "Round 2 ending with 15 violated clauses\n",
      "Loading problem with 40 variables and 179 clauses\n",
      "Round 1 ending with 13 violated clauses\n",
      "Round 2 ending with 19 violated clauses\n",
      "Loading problem with 50 variables and 169 clauses\n",
      "Round 1 ending with 9 violated clauses\n",
      "Round 2 ending with 0 violated clauses\n",
      "Loading problem with 50 variables and 249 clauses\n",
      "Round 1 ending with 22 violated clauses\n",
      "Round 2 ending with 26 violated clauses\n",
      "Loading problem with 50 variables and 168 clauses\n",
      "Round 1 ending with 15 violated clauses\n",
      "Round 2 ending with 21 violated clauses\n",
      "Epoch 0 in 36.98 sec;  Test loss: 1643.2745361328125; Train loss: 3.648699998855591; Moser loss - test: 0.044; Moser loss - train: 0.0421; \n",
      "Loading problem with 40 variables and 189 clauses\n",
      "Round 1 ending with 26 violated clauses\n",
      "Round 2 ending with 28 violated clauses\n",
      "Loading problem with 10 variables and 37 clauses\n",
      "Round 1 ending with 0 violated clauses\n",
      "Loading problem with 30 variables and 102 clauses\n",
      "Round 1 ending with 9 violated clauses\n",
      "Round 2 ending with 6 violated clauses\n",
      "Loading problem with 30 variables and 102 clauses\n",
      "Round 1 ending with 10 violated clauses\n",
      "Round 2 ending with 9 violated clauses\n",
      "Loading problem with 50 variables and 192 clauses\n",
      "Round 1 ending with 19 violated clauses\n",
      "Round 2 ending with 21 violated clauses\n",
      "Loading problem with 40 variables and 134 clauses\n",
      "Round 1 ending with 4 violated clauses\n",
      "Round 2 ending with 8 violated clauses\n",
      "Loading problem with 30 variables and 122 clauses\n",
      "Round 1 ending with 6 violated clauses\n",
      "Round 2 ending with 5 violated clauses\n",
      "Loading problem with 40 variables and 155 clauses\n",
      "Round 1 ending with 7 violated clauses\n",
      "Round 2 ending with 4 violated clauses\n",
      "Loading problem with 50 variables and 169 clauses\n",
      "Round 1 ending with 10 violated clauses\n",
      "Round 2 ending with 6 violated clauses\n",
      "Loading problem with 50 variables and 186 clauses\n",
      "Round 1 ending with 15 violated clauses\n",
      "Round 2 ending with 12 violated clauses\n",
      "Loading problem with 30 variables and 144 clauses\n",
      "Round 1 ending with 13 violated clauses\n",
      "Round 2 ending with 13 violated clauses\n",
      "Loading problem with 40 variables and 193 clauses\n",
      "Round 1 ending with 28 violated clauses\n",
      "Round 2 ending with 21 violated clauses\n",
      "Loading problem with 30 variables and 141 clauses\n",
      "Round 1 ending with 17 violated clauses\n",
      "Round 2 ending with 15 violated clauses\n",
      "Loading problem with 66 variables and 858 clauses\n",
      "Round 1 ending with 0 violated clauses\n",
      "Round 2 ending with 0 violated clauses\n",
      "Loading problem with 40 variables and 139 clauses\n",
      "Round 1 ending with 12 violated clauses\n",
      "Round 2 ending with 11 violated clauses\n",
      "Loading problem with 50 variables and 193 clauses\n",
      "Round 1 ending with 9 violated clauses\n",
      "Round 2 ending with 17 violated clauses\n",
      "Loading problem with 40 variables and 137 clauses\n",
      "Round 1 ending with 7 violated clauses\n",
      "Round 2 ending with 8 violated clauses\n",
      "Loading problem with 30 variables and 109 clauses\n",
      "Round 1 ending with 11 violated clauses\n",
      "Round 2 ending with 9 violated clauses\n",
      "Loading problem with 50 variables and 167 clauses\n",
      "Round 1 ending with 3 violated clauses\n",
      "Round 2 ending with 11 violated clauses\n",
      "Loading problem with 30 variables and 144 clauses\n",
      "Round 1 ending with 13 violated clauses\n",
      "Round 2 ending with 13 violated clauses\n",
      "Loading problem with 40 variables and 139 clauses\n",
      "Round 1 ending with 13 violated clauses\n",
      "Round 2 ending with 8 violated clauses\n",
      "Loading problem with 30 variables and 102 clauses\n",
      "Round 1 ending with 3 violated clauses\n",
      "Round 2 ending with 0 violated clauses\n",
      "Loading problem with 30 variables and 100 clauses\n",
      "Round 1 ending with 5 violated clauses\n",
      "Round 2 ending with 3 violated clauses\n",
      "Loading problem with 40 variables and 175 clauses\n",
      "Round 1 ending with 24 violated clauses\n",
      "Round 2 ending with 22 violated clauses\n",
      "Loading problem with 30 variables and 146 clauses\n",
      "Round 1 ending with 15 violated clauses\n",
      "Round 2 ending with 20 violated clauses\n",
      "Loading problem with 40 variables and 155 clauses\n",
      "Round 1 ending with 7 violated clauses\n",
      "Round 2 ending with 4 violated clauses\n",
      "Loading problem with 50 variables and 181 clauses\n",
      "Round 1 ending with 16 violated clauses\n",
      "Round 2 ending with 19 violated clauses\n",
      "Loading problem with 50 variables and 227 clauses\n",
      "Round 1 ending with 14 violated clauses\n",
      "Round 2 ending with 22 violated clauses\n",
      "Loading problem with 50 variables and 187 clauses\n",
      "Round 1 ending with 18 violated clauses\n",
      "Round 2 ending with 13 violated clauses\n",
      "Loading problem with 40 variables and 179 clauses\n",
      "Round 1 ending with 21 violated clauses\n",
      "Round 2 ending with 17 violated clauses\n",
      "Loading problem with 50 variables and 169 clauses\n",
      "Round 1 ending with 10 violated clauses\n",
      "Round 2 ending with 6 violated clauses\n",
      "Loading problem with 50 variables and 249 clauses\n",
      "Round 1 ending with 24 violated clauses\n",
      "Round 2 ending with 19 violated clauses\n",
      "Loading problem with 50 variables and 168 clauses\n",
      "Round 1 ending with 17 violated clauses\n",
      "Round 2 ending with 11 violated clauses\n",
      "Epoch 1 in 3.50 sec;  Test loss: 1342.0228271484375; Train loss: 3.6064999103546143; Moser loss - test: 0.0455; Moser loss - train: 0.0451; \n",
      "artifact_uri=file:///Users/p403830/Library/CloudStorage/OneDrive-PorscheDigitalGmbH/GIT_SAT_ML/ml_based_sat_solver/python/src/mlrun/921840727624014912/e7f3c53c382a4406a328adf9e6a5a99c/artifacts\n",
      "tracking_uri=file:///Users/p403830/Library/CloudStorage/OneDrive-PorscheDigitalGmbH/GIT_SAT_ML/ml_based_sat_solver/python/src/mlrun\n",
      "registry_uri=file:///Users/p403830/Library/CloudStorage/OneDrive-PorscheDigitalGmbH/GIT_SAT_ML/ml_based_sat_solver/python/src/mlrun\n"
     ]
    }
   ],
   "source": [
    "#define parameters to inversigate\n",
    "NUM_EPOCHS_list = [2] \n",
    "f_list = [0.0001]\n",
    "batch_size_list = [1]\n",
    "N_STEPS_MOSER_list = [1000]\n",
    "N_RUNS_MOSER = 2\n",
    "n_repetitions=1\n",
    "#dataset we use for training and testing\n",
    "#path = \"../../Data/blocksworld/\"\n",
    "path = \"/Users/p403830/Library/CloudStorage/OneDrive-PorscheDigitalGmbH/programming/generateSAT/samples/\"\n",
    "#filenames = next(walk(path_exp), (None, None, []))[2]  # [] if no file\n",
    "#folders = [x[0] for x in walk(path)]\n",
    "#print(folders)\n",
    "\n",
    "for NUM_EPOCHS in NUM_EPOCHS_list:\n",
    "        for batch_size in batch_size_list:\n",
    "                for N_STEPS_MOSER in N_STEPS_MOSER_list:\n",
    "                        for f in f_list:\n",
    "                                print(\n",
    "                                        \"NUM_EPOCHS=\", NUM_EPOCHS,\n",
    "                                        \", batch_size=\", batch_size,\n",
    "                                        \", N_STEPS_MOSER=\", N_STEPS_MOSER,\n",
    "                                        \", f=\", f)\n",
    "                                for _ in range(n_repetitions):\n",
    "                                        experiment_tracking_train(\n",
    "                                                MODEL_REGISTRY,\n",
    "                                                EXPERIMENT_NAME,\n",
    "                                                batch_size,\n",
    "                                                f,\n",
    "                                                NUM_EPOCHS,\n",
    "                                                N_STEPS_MOSER,\n",
    "                                                N_RUNS_MOSER,\n",
    "                                                path,\n",
    "                                                img_path=False,\n",
    "                                                model_path=False,\n",
    "                                        )\n",
    "\n",
    "\n",
    "\n",
    "\n"
   ]
  },
  {
   "attachments": {},
   "cell_type": "markdown",
   "metadata": {},
   "source": [
    "## Open MLflow UI"
   ]
  },
  {
   "cell_type": "code",
   "execution_count": 4,
   "metadata": {},
   "outputs": [
    {
     "name": "stdout",
     "output_type": "stream",
     "text": [
      "\n",
      "zsh:1: command not found: npx\n"
     ]
    },
    {
     "name": "stderr",
     "output_type": "stream",
     "text": [
      "[2023-02-01 11:46:13 +0100] [39233] [INFO] Starting gunicorn 20.1.0\n",
      "[2023-02-01 11:46:13 +0100] [39233] [INFO] Listening at: http://0.0.0.0:8011 (39233)\n",
      "[2023-02-01 11:46:13 +0100] [39233] [INFO] Using worker: sync\n",
      "[2023-02-01 11:46:13 +0100] [39234] [INFO] Booting worker with pid: 39234\n",
      "[2023-02-01 11:46:13 +0100] [39235] [INFO] Booting worker with pid: 39235\n",
      "[2023-02-01 11:46:13 +0100] [39236] [INFO] Booting worker with pid: 39236\n",
      "[2023-02-01 11:46:13 +0100] [39237] [INFO] Booting worker with pid: 39237\n"
     ]
    }
   ],
   "source": [
    "\n",
    "# Run MLFlow server and localtunnel\n",
    "print()\n",
    "\n",
    "# get_ipython().system_raw(\"mlflow server -h 0.0.0.0 -p 8010 --backend-store-uri $PWD/experiment_storing/ &\")\n",
    "get_ipython().system_raw(\"mlflow server -h 0.0.0.0 -p 8011 --backend-store-uri 'mlrun' &\")\n",
    "!npx localtunnel --port 8011"
   ]
  },
  {
   "cell_type": "code",
   "execution_count": 5,
   "metadata": {},
   "outputs": [
    {
     "name": "stdout",
     "output_type": "stream",
     "text": [
      "\n",
      "zsh:1: command not found: npx\n"
     ]
    },
    {
     "name": "stderr",
     "output_type": "stream",
     "text": [
      "[2023-02-01 11:51:08 +0100] [39496] [INFO] Starting gunicorn 20.1.0\n",
      "[2023-02-01 11:51:08 +0100] [39496] [INFO] Listening at: http://0.0.0.0:8012 (39496)\n",
      "[2023-02-01 11:51:08 +0100] [39496] [INFO] Using worker: sync\n",
      "[2023-02-01 11:51:08 +0100] [39497] [INFO] Booting worker with pid: 39497\n",
      "[2023-02-01 11:51:08 +0100] [39498] [INFO] Booting worker with pid: 39498\n",
      "[2023-02-01 11:51:08 +0100] [39499] [INFO] Booting worker with pid: 39499\n",
      "[2023-02-01 11:51:08 +0100] [39500] [INFO] Booting worker with pid: 39500\n"
     ]
    }
   ],
   "source": [
    "# Run MLFlow server and localtunnel\n",
    "print()\n",
    "\n",
    "# get_ipython().system_raw(\"mlflow server -h 0.0.0.0 -p 8010 --backend-store-uri $PWD/experiment_storing/ &\")\n",
    "get_ipython().system_raw(\"mlflow server -h 0.0.0.0 -p 8012 --backend-store-uri '../../mlrun' &\")\n",
    "!npx localtunnel --port 8012"
   ]
  },
  {
   "attachments": {},
   "cell_type": "markdown",
   "metadata": {},
   "source": [
    "You can open this by typing http://localhost:8000 into your browser"
   ]
  },
  {
   "cell_type": "code",
   "execution_count": 42,
   "metadata": {},
   "outputs": [
    {
     "name": "stdout",
     "output_type": "stream",
     "text": [
      "zsh:1: command not found: npx\n"
     ]
    }
   ],
   "source": [
    "!npx kill-port 5000\n"
   ]
  },
  {
   "cell_type": "code",
   "execution_count": null,
   "metadata": {},
   "outputs": [],
   "source": []
  },
  {
   "cell_type": "code",
   "execution_count": null,
   "metadata": {},
   "outputs": [],
   "source": []
  },
  {
   "cell_type": "code",
   "execution_count": null,
   "metadata": {},
   "outputs": [],
   "source": []
  }
 ],
 "metadata": {
  "kernelspec": {
   "display_name": "base",
   "language": "python",
   "name": "python3"
  },
  "language_info": {
   "codemirror_mode": {
    "name": "ipython",
    "version": 3
   },
   "file_extension": ".py",
   "mimetype": "text/x-python",
   "name": "python",
   "nbconvert_exporter": "python",
   "pygments_lexer": "ipython3",
   "version": "3.9.13"
  },
  "orig_nbformat": 4,
  "vscode": {
   "interpreter": {
    "hash": "cd78fef2128015050713e82ca51c6520b11aee7c9ee8df750520bbbc7384cbaa"
   }
  }
 },
 "nbformat": 4,
 "nbformat_minor": 2
}
