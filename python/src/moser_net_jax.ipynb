{
 "cells": [
  {
   "cell_type": "code",
   "execution_count": null,
   "id": "b2607272",
   "metadata": {
    "pycharm": {
     "name": "#%%\n"
    }
   },
   "outputs": [],
   "source": [
    "!pip install jraph dm-haiku optax python-sat memory_profiler"
   ]
  },
  {
   "cell_type": "code",
   "execution_count": 1,
   "id": "b6873967",
   "metadata": {
    "pycharm": {
     "name": "#%%\n"
    }
   },
   "outputs": [],
   "source": [
    "\n",
    "%load_ext autoreload\n",
    "%autoreload 2\n",
    "%load_ext memory_profiler"
   ]
  },
  {
   "cell_type": "code",
   "execution_count": null,
   "id": "9b7aa901",
   "metadata": {
    "pycharm": {
     "name": "#%%\n"
    }
   },
   "outputs": [],
   "source": [
    "# import jax.tools.colab_tpu\n",
    "# jax.tools.colab_tpu.setup_tpu()"
   ]
  },
  {
   "cell_type": "code",
   "execution_count": 2,
   "id": "113ac60e",
   "metadata": {
    "pycharm": {
     "name": "#%%\n"
    }
   },
   "outputs": [],
   "source": [
    "import jax\n",
    "\n",
    "from constraint_problems import get_problem_from_cnf\n",
    "from model import train_model, network_definition\n",
    "from random_walk import moser_walk_sampler, moser_walk"
   ]
  },
  {
   "cell_type": "code",
   "execution_count": null,
   "id": "946e1762",
   "metadata": {
    "pycharm": {
     "name": "#%%\n"
    }
   },
   "outputs": [],
   "source": [
    "%env XLA_PYTHON_CLIENT_PREALLOCATE=false\n",
    "%env XLA_PYTHON_CLIENT_MEM_FRACTION=.40"
   ]
  },
  {
   "cell_type": "code",
   "execution_count": null,
   "id": "c0fec5c2",
   "metadata": {
    "pycharm": {
     "name": "#%%\n"
    }
   },
   "outputs": [],
   "source": [
    "# from pysat.formula import CNF\n",
    "# import glob\n",
    "# instances = [get_problem_from_cnf(CNF(from_file=f)) for f in glob.glob('../Data/uf20-91/*.cnf')]\n",
    "# train_instances, test_instances = instances[:950],instances[950:]"
   ]
  },
  {
   "cell_type": "code",
   "execution_count": 4,
   "id": "f2504bec",
   "metadata": {
    "pycharm": {
     "name": "#%%\n"
    }
   },
   "outputs": [],
   "source": [
    "from pysat.formula import CNF\n",
    "# import glob\n",
    "# test_instances = [get_problem_from_cnf(CNF(from_file=f)) for f in glob.glob('../Data/blocksworld/*.cnf') if f == '../Data/blocksworld/bw_large.d.cnf']\n",
    "# train_instances = [get_problem_from_cnf(CNF(from_file=f)) for f in glob.glob('../Data/blocksworld/*.cnf') if f != '../Data/blocksworld/bw_large.d.cnf']"
   ]
  },
  {
   "cell_type": "code",
   "execution_count": null,
   "id": "12f424dd",
   "metadata": {
    "pycharm": {
     "name": "#%%\n"
    }
   },
   "outputs": [],
   "source": [
    "import os, gzip\n",
    "\n",
    "instance_name = \"49-122082\"\n",
    "path = os.path.join(\"/Users/p390943/Downloads/10K\", instance_name)\n",
    "with gzip.open(path + \".cnf.gz\", \"rt\") as f:\n",
    "    cnf = CNF(from_string=f.read())"
   ]
  },
  {
   "cell_type": "code",
   "execution_count": null,
   "id": "ed42377a",
   "metadata": {
    "pycharm": {
     "name": "#%%\n"
    }
   },
   "outputs": [],
   "source": [
    "len(cnf.clauses)"
   ]
  },
  {
   "cell_type": "code",
   "execution_count": null,
   "id": "c87f890b",
   "metadata": {
    "pycharm": {
     "name": "#%%\n"
    }
   },
   "outputs": [],
   "source": [
    "del cnf"
   ]
  },
  {
   "cell_type": "code",
   "execution_count": 5,
   "id": "4b648a13",
   "metadata": {
    "pycharm": {
     "name": "#%%\n"
    }
   },
   "outputs": [],
   "source": [
    "train = [get_problem_from_cnf(CNF(from_file=\"../Data/blocksworld/huge.cnf\")), get_problem_from_cnf(CNF(from_file=\"../Data/blocksworld/medium.cnf\"))]\n",
    "test = [get_problem_from_cnf(CNF(from_file=\"../Data/blocksworld/bw_large.a.cnf\"))]"
   ]
  },
  {
   "cell_type": "code",
   "execution_count": null,
   "id": "02d26564",
   "metadata": {
    "pycharm": {
     "name": "#%%\n"
    }
   },
   "outputs": [],
   "source": [
    "# for i in test_instances:\n",
    "#     print(i.graph.n_node, i.graph.n_edge, i.params)"
   ]
  },
  {
   "cell_type": "code",
   "execution_count": null,
   "id": "271005f9",
   "metadata": {
    "pycharm": {
     "name": "#%%\n"
    }
   },
   "outputs": [],
   "source": [
    "network, params = train_model(1000,0.02,train, test, num_steps=10)"
   ]
  },
  {
   "cell_type": "code",
   "execution_count": null,
   "id": "cff1b467",
   "metadata": {
    "pycharm": {
     "name": "#%%\n"
    }
   },
   "outputs": [],
   "source": [
    "planning_problem = test[0]\n",
    "prdictions = network.apply(params, planning_problem.graph)\n",
    "weights = jax.nn.softmax(prdictions)[:,1]\n",
    "trajectory, energies = moser_walk_sampler(weights, planning_problem, 1000, 0)"
   ]
  },
  {
   "cell_type": "code",
   "execution_count": null,
   "id": "8554dbc6",
   "metadata": {
    "pycharm": {
     "name": "#%%\n"
    }
   },
   "outputs": [],
   "source": [
    "with jax.profiler.trace(\"/tmp/jax-trace\", create_perfetto_link=True):\n",
    "    # Run the operations to be profiled\n",
    "    final_assignment, energy = moser_walk(weights, planning_problem, 1000, 0)"
   ]
  },
  {
   "cell_type": "code",
   "execution_count": 6,
   "id": "25d22a67",
   "metadata": {
    "pycharm": {
     "name": "#%%\n"
    }
   },
   "outputs": [
    {
     "ename": "NameError",
     "evalue": "name 'weights' is not defined",
     "output_type": "error",
     "traceback": [
      "\u001b[0;31m---------------------------------------------------------------------------\u001b[0m",
      "\u001b[0;31mNameError\u001b[0m                                 Traceback (most recent call last)",
      "Cell \u001b[0;32mIn [6], line 1\u001b[0m\n\u001b[0;32m----> 1\u001b[0m \u001b[43mget_ipython\u001b[49m\u001b[43m(\u001b[49m\u001b[43m)\u001b[49m\u001b[38;5;241;43m.\u001b[39;49m\u001b[43mrun_line_magic\u001b[49m\u001b[43m(\u001b[49m\u001b[38;5;124;43m'\u001b[39;49m\u001b[38;5;124;43mtimeit\u001b[39;49m\u001b[38;5;124;43m'\u001b[39;49m\u001b[43m,\u001b[49m\u001b[43m \u001b[49m\u001b[38;5;124;43m'\u001b[39;49m\u001b[38;5;124;43mfinal_assignment, energy = moser_walk(weights, planning_problem, 1000, 0)\u001b[39;49m\u001b[38;5;124;43m'\u001b[39;49m\u001b[43m)\u001b[49m\n",
      "File \u001b[0;32m~/opt/anaconda3/envs/moser/lib/python3.10/site-packages/IPython/core/interactiveshell.py:2364\u001b[0m, in \u001b[0;36mInteractiveShell.run_line_magic\u001b[0;34m(self, magic_name, line, _stack_depth)\u001b[0m\n\u001b[1;32m   2362\u001b[0m     kwargs[\u001b[38;5;124m'\u001b[39m\u001b[38;5;124mlocal_ns\u001b[39m\u001b[38;5;124m'\u001b[39m] \u001b[38;5;241m=\u001b[39m \u001b[38;5;28mself\u001b[39m\u001b[38;5;241m.\u001b[39mget_local_scope(stack_depth)\n\u001b[1;32m   2363\u001b[0m \u001b[38;5;28;01mwith\u001b[39;00m \u001b[38;5;28mself\u001b[39m\u001b[38;5;241m.\u001b[39mbuiltin_trap:\n\u001b[0;32m-> 2364\u001b[0m     result \u001b[38;5;241m=\u001b[39m \u001b[43mfn\u001b[49m\u001b[43m(\u001b[49m\u001b[38;5;241;43m*\u001b[39;49m\u001b[43margs\u001b[49m\u001b[43m,\u001b[49m\u001b[43m \u001b[49m\u001b[38;5;241;43m*\u001b[39;49m\u001b[38;5;241;43m*\u001b[39;49m\u001b[43mkwargs\u001b[49m\u001b[43m)\u001b[49m\n\u001b[1;32m   2365\u001b[0m \u001b[38;5;28;01mreturn\u001b[39;00m result\n",
      "File \u001b[0;32m~/opt/anaconda3/envs/moser/lib/python3.10/site-packages/IPython/core/magics/execution.py:1162\u001b[0m, in \u001b[0;36mExecutionMagics.timeit\u001b[0;34m(self, line, cell, local_ns)\u001b[0m\n\u001b[1;32m   1160\u001b[0m \u001b[38;5;28;01mfor\u001b[39;00m index \u001b[38;5;129;01min\u001b[39;00m \u001b[38;5;28mrange\u001b[39m(\u001b[38;5;241m0\u001b[39m, \u001b[38;5;241m10\u001b[39m):\n\u001b[1;32m   1161\u001b[0m     number \u001b[38;5;241m=\u001b[39m \u001b[38;5;241m10\u001b[39m \u001b[38;5;241m*\u001b[39m\u001b[38;5;241m*\u001b[39m index\n\u001b[0;32m-> 1162\u001b[0m     time_number \u001b[38;5;241m=\u001b[39m \u001b[43mtimer\u001b[49m\u001b[38;5;241;43m.\u001b[39;49m\u001b[43mtimeit\u001b[49m\u001b[43m(\u001b[49m\u001b[43mnumber\u001b[49m\u001b[43m)\u001b[49m\n\u001b[1;32m   1163\u001b[0m     \u001b[38;5;28;01mif\u001b[39;00m time_number \u001b[38;5;241m>\u001b[39m\u001b[38;5;241m=\u001b[39m \u001b[38;5;241m0.2\u001b[39m:\n\u001b[1;32m   1164\u001b[0m         \u001b[38;5;28;01mbreak\u001b[39;00m\n",
      "File \u001b[0;32m~/opt/anaconda3/envs/moser/lib/python3.10/site-packages/IPython/core/magics/execution.py:156\u001b[0m, in \u001b[0;36mTimer.timeit\u001b[0;34m(self, number)\u001b[0m\n\u001b[1;32m    154\u001b[0m gc\u001b[38;5;241m.\u001b[39mdisable()\n\u001b[1;32m    155\u001b[0m \u001b[38;5;28;01mtry\u001b[39;00m:\n\u001b[0;32m--> 156\u001b[0m     timing \u001b[38;5;241m=\u001b[39m \u001b[38;5;28;43mself\u001b[39;49m\u001b[38;5;241;43m.\u001b[39;49m\u001b[43minner\u001b[49m\u001b[43m(\u001b[49m\u001b[43mit\u001b[49m\u001b[43m,\u001b[49m\u001b[43m \u001b[49m\u001b[38;5;28;43mself\u001b[39;49m\u001b[38;5;241;43m.\u001b[39;49m\u001b[43mtimer\u001b[49m\u001b[43m)\u001b[49m\n\u001b[1;32m    157\u001b[0m \u001b[38;5;28;01mfinally\u001b[39;00m:\n\u001b[1;32m    158\u001b[0m     \u001b[38;5;28;01mif\u001b[39;00m gcold:\n",
      "File \u001b[0;32m<magic-timeit>:1\u001b[0m, in \u001b[0;36minner\u001b[0;34m(_it, _timer)\u001b[0m\n",
      "\u001b[0;31mNameError\u001b[0m: name 'weights' is not defined"
     ]
    }
   ],
   "source": [
    "%timeit final_assignment, energy = moser_walk(weights, planning_problem, 1000, 0)"
   ]
  },
  {
   "cell_type": "code",
   "execution_count": null,
   "id": "7fb4988b",
   "metadata": {
    "pycharm": {
     "name": "#%%\n"
    }
   },
   "outputs": [],
   "source": [
    "test[0].graph.edges[:, 1].shape"
   ]
  },
  {
   "cell_type": "code",
   "execution_count": null,
   "id": "553eb61a",
   "metadata": {
    "pycharm": {
     "name": "#%%\n"
    }
   },
   "outputs": [],
   "source": [
    "import numpy as np\n",
    "np.histogram(weights)"
   ]
  },
  {
   "cell_type": "code",
   "execution_count": null,
   "id": "08ffa0dc",
   "metadata": {
    "pycharm": {
     "name": "#%%\n"
    }
   },
   "outputs": [],
   "source": [
    "import jax.numpy as jnp\n",
    "\n",
    "def violated_constraints2(edges, senders, mask, assignment):\n",
    "    edge_is_violated = jnp.mod(\n",
    "        edges + assignment[senders], 2\n",
    "    )\n",
    "    violated_constraint_edges = edge_is_violated @ mask  # (x,) @ (x,m)  = (m,)\n",
    "    return violated_constraint_edges == 1"
   ]
  },
  {
   "cell_type": "code",
   "execution_count": null,
   "id": "34d951a9",
   "metadata": {
    "pycharm": {
     "name": "#%%\n"
    }
   },
   "outputs": [],
   "source": [
    "rng_key = jax.random.PRNGKey(0)\n",
    "random_assignment = jax.random.bernoulli(rng_key, weights)\n",
    "\n",
    "edges = planning_problem.graph.edges[:,1].astype(np.int32)\n",
    "senders = planning_problem.graph.senders\n",
    "mask, _, _ = planning_problem.constraint_utils\n",
    "\n",
    "%timeit violated_constraints2(edges, senders, mask, random_assignment).block_until_ready()\n",
    "%timeit jax.jit(violated_constraints2)(edges, senders, mask, random_assignment).block_until_ready()"
   ]
  },
  {
   "cell_type": "code",
   "execution_count": null,
   "id": "d9a7eb3e",
   "metadata": {
    "pycharm": {
     "name": "#%%\n"
    }
   },
   "outputs": [],
   "source": []
  },
  {
   "cell_type": "code",
   "execution_count": null,
   "id": "8ed33124",
   "metadata": {
    "pycharm": {
     "name": "#%%\n"
    }
   },
   "outputs": [],
   "source": [
    "class SATTrainingDataset(data.Dataset):\n",
    "    def __init__(self, data_dir):\n",
    "        self.data_dir = data_dir\n",
    "        processed_instances = glob.glob(os.path.join(data_dir, \"*.pkl\"))\n",
    "        self.solved_instances = []\n",
    "        for f in processed_instances:\n",
    "            with open(f, \"rb\") as fl:\n",
    "                s = pickle.load(fl)\n",
    "                if not s:\n",
    "                    continue\n",
    "                self.solved_instances.append(f.split(\"_\")[0])\n",
    "        self.ratio_of_solved_instances = self.__len__()/len(processed_instances)\n",
    "\n",
    "    def __len__(self):\n",
    "        return len(self.solved_instances)\n",
    "\n",
    "    @staticmethod\n",
    "    def solution_dict_to_array(solution_dict):\n",
    "        return np.array(list(solution_dict.values()), dtype=int)\n",
    "\n",
    "    def __getitem__(self, idx):\n",
    "        instance_name = self.solved_instances[idx]\n",
    "        path = os.path.join(self.data_dir, instance_name)\n",
    "        with gzip.open(path + \".cnf.gz\", \"rt\") as f:\n",
    "            problem = get_problem_from_cnf(CNF(from_string=f.read()))\n",
    "        with open(path + \"_sol.pkl\", \"rb\") as f:\n",
    "            solution_dict = pickle.load(f)\n",
    "        return problem, self.solution_dict_to_array(solution_dict)"
   ]
  },
  {
   "cell_type": "code",
   "execution_count": null,
   "id": "01ba0428",
   "metadata": {
    "pycharm": {
     "name": "#%%\n"
    }
   },
   "outputs": [],
   "source": [
    "sat_data = SATTrainingDataset(\"/Users/p390943/Downloads/10K\")"
   ]
  },
  {
   "cell_type": "code",
   "execution_count": null,
   "id": "fce99769",
   "metadata": {
    "pycharm": {
     "name": "#%%\n"
    }
   },
   "outputs": [],
   "source": [
    "train_data, test_data = data.random_split(sat_data, [0.8,0.2])"
   ]
  },
  {
   "cell_type": "code",
   "execution_count": null,
   "id": "a3861115",
   "metadata": {
    "pycharm": {
     "name": "#%%\n"
    }
   },
   "outputs": [],
   "source": [
    "train_loader = data.DataLoader(train_data, batch_size=1, shuffle=True)\n",
    "test_loader = data.DataLoader(test_data, batch_size=1, shuffle=True)"
   ]
  },
  {
   "cell_type": "code",
   "execution_count": null,
   "id": "5bffb66a",
   "metadata": {
    "pycharm": {
     "name": "#%%\n"
    }
   },
   "outputs": [],
   "source": [
    "test_data.__getitem__(0)"
   ]
  },
  {
   "cell_type": "code",
   "execution_count": null,
   "id": "5e5c0db2",
   "metadata": {
    "pycharm": {
     "name": "#%%\n"
    }
   },
   "outputs": [],
   "source": [
    "import time\n",
    "import optax\n",
    "import haiku as hk\n",
    "import jax.numpy as jnp\n",
    "\n",
    "num_epochs = 10\n",
    "\n",
    "network = hk.without_apply_rng(hk.transform(network_definition))\n",
    "params = network.init(jax.random.PRNGKey(42), train_data[0][0].graph)\n",
    "optimizer = optax.adam(2e-4)\n",
    "opt_state = optimizer.init(params)\n",
    "\n",
    "@jax.jit\n",
    "def prediction_loss(params, problem, solution):\n",
    "    decoded_nodes = network.apply(params, problem.graph)\n",
    "    # We interpret the decoded nodes as a pair of logits for each node.\n",
    "    log_prob = jax.nn.log_softmax(decoded_nodes) * solution\n",
    "    return -jnp.sum(log_prob * problem.mask[:, None]) / jnp.sum(problem.mask)\n",
    "\n",
    "# Make a batched version of the forwarding\n",
    "batched_predict = jax.vmap(network.apply, in_axes=(None, 0))\n",
    "\n",
    "def loss(params, problems, targets):\n",
    "    preds = batched_predict(params, problems)\n",
    "    return -jnp.mean(preds * targets)\n",
    "\n",
    "def one_hot(x, k, dtype=jnp.float32):\n",
    "    \"\"\"Create a one-hot encoding of x of size k.\"\"\"\n",
    "    return jnp.array(x[:, None] == jnp.arange(k), dtype)\n",
    "\n",
    "@jax.jit\n",
    "def update(params, opt_state, x, y):\n",
    "    g = jax.grad(loss)(params, x, y)\n",
    "    updates, opt_state = optimizer.update(g, opt_state)\n",
    "    return  optax.apply_updates(params, updates), opt_state\n",
    "\n",
    "for epoch in range(num_epochs):\n",
    "    start_time = time.time()\n",
    "    for batch, (x, y) in enumerate(sat_data):\n",
    "        y = one_hot(y, 2)\n",
    "        params, opt_state = update(params, opt_state, x, y)\n",
    "    epoch_time = time.time() - start_time\n",
    "    print(f\"{batch} done\")\n",
    "\n",
    "    # train_acc = accuracy(params, train_images, train_labels)\n",
    "    # test_acc = accuracy(params, test_images, test_labels)\n",
    "    print(\"Epoch {} in {:0.2f} sec\".format(epoch, epoch_time))\n",
    "    # print(\"Training set accuracy {}\".format(train_acc))\n",
    "    # print(\"Test set accuracy {}\".format(test_acc))"
   ]
  },
  {
   "cell_type": "code",
   "execution_count": null,
   "metadata": {
    "collapsed": false,
    "pycharm": {
     "name": "#%%\n"
    }
   },
   "outputs": [],
   "source": [
    "train_data, test_data = data.random_split(sat_data, [0.8,0.2])"
   ]
  },
  {
   "cell_type": "code",
   "execution_count": null,
   "metadata": {
    "collapsed": false,
    "pycharm": {
     "name": "#%%\n"
    }
   },
   "outputs": [],
   "source": [
    "train_loader = data.DataLoader(train_data, batch_size=1, shuffle=True)\n",
    "test_loader = data.DataLoader(test_data, batch_size=1, shuffle=True)"
   ]
  },
  {
   "cell_type": "code",
   "execution_count": null,
   "metadata": {
    "collapsed": false,
    "pycharm": {
     "name": "#%%\n"
    }
   },
   "outputs": [],
   "source": [
    "test_data.__getitem__(0)"
   ]
  },
  {
   "cell_type": "code",
   "execution_count": null,
   "metadata": {
    "collapsed": false,
    "pycharm": {
     "name": "#%%\n"
    }
   },
   "outputs": [],
   "source": [
    "import time\n",
    "import optax\n",
    "import haiku as hk\n",
    "import jax.numpy as jnp\n",
    "\n",
    "num_epochs = 10\n",
    "\n",
    "network = hk.without_apply_rng(hk.transform(network_definition))\n",
    "params = network.init(jax.random.PRNGKey(42), train_data[0][0].graph)\n",
    "optimizer = optax.adam(2e-4)\n",
    "opt_state = optimizer.init(params)\n",
    "\n",
    "@jax.jit\n",
    "def prediction_loss(params, problem, solution):\n",
    "    decoded_nodes = network.apply(params, problem.graph)\n",
    "    # We interpret the decoded nodes as a pair of logits for each node.\n",
    "    log_prob = jax.nn.log_softmax(decoded_nodes) * solution\n",
    "    return -jnp.sum(log_prob * problem.mask[:, None]) / jnp.sum(problem.mask)\n",
    "\n",
    "# Make a batched version of the forwarding\n",
    "batched_predict = jax.vmap(network.apply, in_axes=(None, 0))\n",
    "\n",
    "def loss(params, problems, targets):\n",
    "    preds = batched_predict(params, problems)\n",
    "    return -jnp.mean(preds * targets)\n",
    "\n",
    "def one_hot(x, k, dtype=jnp.float32):\n",
    "    \"\"\"Create a one-hot encoding of x of size k.\"\"\"\n",
    "    return jnp.array(x[:, None] == jnp.arange(k), dtype)\n",
    "\n",
    "@jax.jit\n",
    "def update(params, opt_state, x, y):\n",
    "    g = jax.grad(loss)(params, x, y)\n",
    "    updates, opt_state = optimizer.update(g, opt_state)\n",
    "    return  optax.apply_updates(params, updates), opt_state\n",
    "\n",
    "for epoch in range(num_epochs):\n",
    "    start_time = time.time()\n",
    "    for batch, (x, y) in enumerate(sat_data):\n",
    "        y = one_hot(y, 2)\n",
    "        params, opt_state = update(params, opt_state, x, y)\n",
    "    epoch_time = time.time() - start_time\n",
    "    print(f\"{batch} done\")\n",
    "\n",
    "    # train_acc = accuracy(params, train_images, train_labels)\n",
    "    # test_acc = accuracy(params, test_images, test_labels)\n",
    "    print(\"Epoch {} in {:0.2f} sec\".format(epoch, epoch_time))\n",
    "    # print(\"Training set accuracy {}\".format(train_acc))\n",
    "    # print(\"Test set accuracy {}\".format(test_acc))"
   ]
  },
  {
   "cell_type": "code",
   "execution_count": null,
   "metadata": {
    "collapsed": false,
    "pycharm": {
     "name": "#%%\n"
    }
   },
   "outputs": [],
   "source": []
  },
  {
   "cell_type": "code",
   "execution_count": 32,
   "id": "03a81dfe",
   "metadata": {
    "pycharm": {
     "name": "#%%\n"
    }
   },
   "outputs": [],
   "source": [
    "train_loader = data.DataLoader(train_data, batch_size=1, shuffle=True)\n",
    "test_loader = data.DataLoader(test_data, batch_size=1, shuffle=True)"
   ]
  },
  {
   "cell_type": "code",
   "execution_count": 33,
   "id": "b9dadfd4",
   "metadata": {
    "pycharm": {
     "name": "#%%\n"
    }
   },
   "outputs": [
    {
     "name": "stdout",
     "output_type": "stream",
     "text": [
      "done creating objects\n",
      "done creating GraphsTuple\n"
     ]
    },
    {
     "name": "stderr",
     "output_type": "stream",
     "text": [
      "/var/folders/4s/mnw4xd1129g6vmrwysfzd97r0000gp/T/ipykernel_2246/1756192963.py:19: DeprecationWarning: `np.int` is a deprecated alias for the builtin `int`. To silence this warning, use `int` by itself. Doing this will not modify any behavior and is safe. When replacing `np.int`, you may wish to use e.g. `np.int64` or `np.int32` to specify the precision. If you wish to review your current use, check the release note link for additional information.\n",
      "Deprecated in NumPy 1.20; for more details and guidance: https://numpy.org/devdocs/release/1.20.0-notes.html#deprecations\n",
      "  return np.array(list(solution_dict.values()), dtype=np.int)\n"
     ]
    },
    {
     "data": {
      "text/plain": [
       "(SATProblem(graph=GraphsTuple(nodes=array([[1., 0.],\n",
       "        [1., 0.],\n",
       "        [1., 0.],\n",
       "        ...,\n",
       "        [0., 1.],\n",
       "        [0., 1.],\n",
       "        [0., 1.]]), edges=array([[0., 1.],\n",
       "        [0., 1.],\n",
       "        [0., 1.],\n",
       "        ...,\n",
       "        [1., 0.],\n",
       "        [1., 0.],\n",
       "        [1., 0.]]), receivers=array([ 29483,  29483,  29483, ..., 743848, 743849, 743849]), senders=array([   13,    14,    15, ..., 29481, 29460, 29482]), globals=None, n_node=array([743850]), n_edge=array([1455473])), mask=array([1, 1, 1, ..., 0, 0, 0], dtype=int32), params=[29483, 714367, 23]),\n",
       " array([0, 0, 0, ..., 0, 0, 0]))"
      ]
     },
     "execution_count": 33,
     "metadata": {},
     "output_type": "execute_result"
    }
   ],
   "source": [
    "test_data.__getitem__(0)"
   ]
  },
  {
   "cell_type": "code",
   "execution_count": 2,
   "id": "f0f44763",
   "metadata": {
    "pycharm": {
     "name": "#%%\n"
    }
   },
   "outputs": [
    {
     "ename": "NameError",
     "evalue": "name 'network_definition' is not defined",
     "output_type": "error",
     "traceback": [
      "\u001b[0;31m---------------------------------------------------------------------------\u001b[0m",
      "\u001b[0;31mNameError\u001b[0m                                 Traceback (most recent call last)",
      "Cell \u001b[0;32mIn [2], line 8\u001b[0m\n\u001b[1;32m      4\u001b[0m \u001b[38;5;28;01mimport\u001b[39;00m \u001b[38;5;21;01mjax\u001b[39;00m\u001b[38;5;21;01m.\u001b[39;00m\u001b[38;5;21;01mnumpy\u001b[39;00m \u001b[38;5;28;01mas\u001b[39;00m \u001b[38;5;21;01mjnp\u001b[39;00m\n\u001b[1;32m      6\u001b[0m num_epochs \u001b[38;5;241m=\u001b[39m \u001b[38;5;241m10\u001b[39m\n\u001b[0;32m----> 8\u001b[0m network \u001b[38;5;241m=\u001b[39m hk\u001b[38;5;241m.\u001b[39mwithout_apply_rng(hk\u001b[38;5;241m.\u001b[39mtransform(\u001b[43mnetwork_definition\u001b[49m))\n\u001b[1;32m      9\u001b[0m params \u001b[38;5;241m=\u001b[39m network\u001b[38;5;241m.\u001b[39minit(jax\u001b[38;5;241m.\u001b[39mrandom\u001b[38;5;241m.\u001b[39mPRNGKey(\u001b[38;5;241m42\u001b[39m), train_data[\u001b[38;5;241m0\u001b[39m][\u001b[38;5;241m0\u001b[39m]\u001b[38;5;241m.\u001b[39mgraph)\n\u001b[1;32m     10\u001b[0m optimizer \u001b[38;5;241m=\u001b[39m optax\u001b[38;5;241m.\u001b[39madam(\u001b[38;5;241m2e-4\u001b[39m)\n",
      "\u001b[0;31mNameError\u001b[0m: name 'network_definition' is not defined"
     ]
    }
   ],
   "source": [
    "import time\n",
    "import optax\n",
    "import haiku as hk\n",
    "import jax.numpy as jnp\n",
    "\n",
    "num_epochs = 10\n",
    "\n",
    "network = hk.without_apply_rng(hk.transform(network_definition))\n",
    "params = network.init(jax.random.PRNGKey(42), train_data[0][0].graph)\n",
    "optimizer = optax.adam(2e-4)\n",
    "opt_state = optimizer.init(params)\n",
    "\n",
    "@jax.jit\n",
    "def prediction_loss(params, problem, solution):\n",
    "    decoded_nodes = network.apply(params, problem.graph)\n",
    "    # We interpret the decoded nodes as a pair of logits for each node.\n",
    "    log_prob = jax.nn.log_softmax(decoded_nodes) * solution\n",
    "    return -jnp.sum(log_prob * problem.mask[:, None]) / jnp.sum(problem.mask)\n",
    "\n",
    "# Make a batched version of the forwarding\n",
    "batched_predict = jax.vmap(network.apply, in_axes=(None, 0))\n",
    "\n",
    "def loss(params, problems, targets):\n",
    "    preds = batched_predict(params, problems)\n",
    "    return -jnp.mean(preds * targets)\n",
    "\n",
    "def one_hot(x, k, dtype=jnp.float32):\n",
    "    \"\"\"Create a one-hot encoding of x of size k.\"\"\"\n",
    "    return jnp.array(x[:, None] == jnp.arange(k), dtype)\n",
    "\n",
    "@jax.jit\n",
    "def update(params, opt_state, x, y):\n",
    "    g = jax.grad(loss)(params, x, y)\n",
    "    updates, opt_state = optimizer.update(g, opt_state)\n",
    "    return  optax.apply_updates(params, updates), opt_state\n",
    "\n",
    "for epoch in range(num_epochs):\n",
    "    start_time = time.time()\n",
    "    for batch, (x, y) in enumerate(sat_data):\n",
    "        y = one_hot(y, 2)\n",
    "        params, opt_state = update(params, opt_state, x, y)\n",
    "    epoch_time = time.time() - start_time\n",
    "    print(f\"{batch} done\")\n",
    "\n",
    "    # train_acc = accuracy(params, train_images, train_labels)\n",
    "    # test_acc = accuracy(params, test_images, test_labels)\n",
    "    print(\"Epoch {} in {:0.2f} sec\".format(epoch, epoch_time))\n",
    "    # print(\"Training set accuracy {}\".format(train_acc))\n",
    "    # print(\"Test set accuracy {}\".format(test_acc))"
   ]
  },
  {
   "cell_type": "code",
   "execution_count": null,
   "id": "9b597bf9",
   "metadata": {
    "pycharm": {
     "name": "#%%\n"
    }
   },
   "outputs": [],
   "source": []
  }
 ],
 "metadata": {
  "kernelspec": {
   "display_name": "base",
   "language": "python",
   "name": "python3"
  },
  "language_info": {
   "codemirror_mode": {
    "name": "ipython",
    "version": 3
   },
   "file_extension": ".py",
   "mimetype": "text/x-python",
   "name": "python",
   "nbconvert_exporter": "python",
   "pygments_lexer": "ipython3",
   "version": "3.9.13 (main, Aug 25 2022, 18:29:29) \n[Clang 12.0.0 ]"
  },
  "vscode": {
   "interpreter": {
    "hash": "cd78fef2128015050713e82ca51c6520b11aee7c9ee8df750520bbbc7384cbaa"
   }
  }
 },
 "nbformat": 4,
 "nbformat_minor": 5
}
