{
 "cells": [
  {
   "cell_type": "code",
   "execution_count": 2,
   "metadata": {},
   "outputs": [
    {
     "name": "stdout",
     "output_type": "stream",
     "text": [
      "<class 'python.src.sat_representations.VCG'>\n",
      "['/Users/p403830/Library/CloudStorage/OneDrive-PorscheDigitalGmbH/programming/generateSAT/random_3SAT_subset/random_KCNF3_100_119_9283351.cnf', '/Users/p403830/Library/CloudStorage/OneDrive-PorscheDigitalGmbH/programming/generateSAT/random_3SAT_subset/random_KCNF3_100_119_6639307.cnf', '/Users/p403830/Library/CloudStorage/OneDrive-PorscheDigitalGmbH/programming/generateSAT/random_3SAT_subset/random_KCNF3_100_119_4391198.cnf', '/Users/p403830/Library/CloudStorage/OneDrive-PorscheDigitalGmbH/programming/generateSAT/random_3SAT_subset/random_KCNF3_100_100_3602064.cnf', '/Users/p403830/Library/CloudStorage/OneDrive-PorscheDigitalGmbH/programming/generateSAT/random_3SAT_subset/random_KCNF3_100_100_2658295.cnf', '/Users/p403830/Library/CloudStorage/OneDrive-PorscheDigitalGmbH/programming/generateSAT/random_3SAT_subset/random_KCNF3_100_100_2924554.cnf']\n"
     ]
    },
    {
     "ename": "FileNotFoundError",
     "evalue": "[Errno 2] No such file or directory: 'experiments/params_save'",
     "output_type": "error",
     "traceback": [
      "\u001b[0;31m---------------------------------------------------------------------------\u001b[0m",
      "\u001b[0;31mFileNotFoundError\u001b[0m                         Traceback (most recent call last)",
      "Cell \u001b[0;32mIn[2], line 43\u001b[0m\n\u001b[1;32m     39\u001b[0m \u001b[39mprint\u001b[39m(rep)\n\u001b[1;32m     40\u001b[0m \u001b[39mprint\u001b[39m(glob\u001b[39m.\u001b[39mglob(glob\u001b[39m.\u001b[39mescape(path) \u001b[39m+\u001b[39m \u001b[39m\"\u001b[39m\u001b[39m/*.cnf\u001b[39m\u001b[39m\"\u001b[39m))\n\u001b[0;32m---> 43\u001b[0m experiment_tracking_train(\n\u001b[1;32m     44\u001b[0m     MODEL_REGISTRY,\n\u001b[1;32m     45\u001b[0m     EXPERIMENT_NAME,\n\u001b[1;32m     46\u001b[0m     batch_size,\n\u001b[1;32m     47\u001b[0m     f,\n\u001b[1;32m     48\u001b[0m     alpha,\n\u001b[1;32m     49\u001b[0m     beta,\n\u001b[1;32m     50\u001b[0m     gamma,\n\u001b[1;32m     51\u001b[0m     NUM_EPOCHS,\n\u001b[1;32m     52\u001b[0m     N_STEPS_MOSER,\n\u001b[1;32m     53\u001b[0m     N_RUNS_MOSER,\n\u001b[1;32m     54\u001b[0m     path,\n\u001b[1;32m     55\u001b[0m     \u001b[39m\"\u001b[39;49m\u001b[39mVCG\u001b[39;49m\u001b[39m\"\u001b[39;49m,\n\u001b[1;32m     56\u001b[0m     network_type \u001b[39m=\u001b[39;49m network_type,\n\u001b[1;32m     57\u001b[0m     return_candidates\u001b[39m=\u001b[39;49m\u001b[39mTrue\u001b[39;49;00m,\n\u001b[1;32m     58\u001b[0m )\n",
      "File \u001b[0;32m~/Library/CloudStorage/OneDrive-PorscheDigitalGmbH/GIT_SAT_ML3/ml_based_sat_solver/python/notebooks/../../python/src/train.py:240\u001b[0m, in \u001b[0;36mexperiment_tracking_train\u001b[0;34m(MODEL_REGISTRY, EXPERIMENT_NAME, batch_size, inv_temp, alpha, beta, gamma, NUM_EPOCHS, N_STEPS_MOSER, N_RUNS_MOSER, data_path, graph_representation, network_type, return_candidates)\u001b[0m\n\u001b[1;32m    238\u001b[0m timestr \u001b[39m=\u001b[39m time\u001b[39m.\u001b[39mstrftime(\u001b[39m\"\u001b[39m\u001b[39m%\u001b[39m\u001b[39mY\u001b[39m\u001b[39m%\u001b[39m\u001b[39mm\u001b[39m\u001b[39m%d\u001b[39;00m\u001b[39m-\u001b[39m\u001b[39m%\u001b[39m\u001b[39mH\u001b[39m\u001b[39m%\u001b[39m\u001b[39mM\u001b[39m\u001b[39m%\u001b[39m\u001b[39mS\u001b[39m\u001b[39m\"\u001b[39m)\n\u001b[1;32m    239\u001b[0m params_save \u001b[39m=\u001b[39m Path(\u001b[39m\"\u001b[39m\u001b[39mexperiments\u001b[39m\u001b[39m\"\u001b[39m, \u001b[39m\"\u001b[39m\u001b[39mparams_save\u001b[39m\u001b[39m\"\u001b[39m)\n\u001b[0;32m--> 240\u001b[0m params_save\u001b[39m.\u001b[39;49mmkdir(exist_ok\u001b[39m=\u001b[39;49m\u001b[39mTrue\u001b[39;49;00m)\n\u001b[1;32m    241\u001b[0m model_path \u001b[39m=\u001b[39m os\u001b[39m.\u001b[39mpath\u001b[39m.\u001b[39mjoin(params_save, EXPERIMENT_NAME \u001b[39m+\u001b[39m timestr)\n\u001b[1;32m    242\u001b[0m img_path \u001b[39m=\u001b[39m model_path \u001b[39m+\u001b[39m \u001b[39m\"\u001b[39m\u001b[39m_plot\u001b[39m\u001b[39m\"\u001b[39m\n",
      "File \u001b[0;32m/usr/local/Cellar/python@3.11/3.11.3/Frameworks/Python.framework/Versions/3.11/lib/python3.11/pathlib.py:1116\u001b[0m, in \u001b[0;36mPath.mkdir\u001b[0;34m(self, mode, parents, exist_ok)\u001b[0m\n\u001b[1;32m   1112\u001b[0m \u001b[39m\u001b[39m\u001b[39m\"\"\"\u001b[39;00m\n\u001b[1;32m   1113\u001b[0m \u001b[39mCreate a new directory at this given path.\u001b[39;00m\n\u001b[1;32m   1114\u001b[0m \u001b[39m\"\"\"\u001b[39;00m\n\u001b[1;32m   1115\u001b[0m \u001b[39mtry\u001b[39;00m:\n\u001b[0;32m-> 1116\u001b[0m     os\u001b[39m.\u001b[39;49mmkdir(\u001b[39mself\u001b[39;49m, mode)\n\u001b[1;32m   1117\u001b[0m \u001b[39mexcept\u001b[39;00m \u001b[39mFileNotFoundError\u001b[39;00m:\n\u001b[1;32m   1118\u001b[0m     \u001b[39mif\u001b[39;00m \u001b[39mnot\u001b[39;00m parents \u001b[39mor\u001b[39;00m \u001b[39mself\u001b[39m\u001b[39m.\u001b[39mparent \u001b[39m==\u001b[39m \u001b[39mself\u001b[39m:\n",
      "\u001b[0;31mFileNotFoundError\u001b[0m: [Errno 2] No such file or directory: 'experiments/params_save'"
     ]
    }
   ],
   "source": [
    "import sys\n",
    "import glob\n",
    "sys.path.append(\"../../\")\n",
    "sys.path.append(\"../../experiments/params_save/\")\n",
    "\n",
    "from python.src.train import experiment_tracking_train\n",
    "from python.src.sat_representations import VCG, LCG, SATRepresentation\n",
    "from pathlib import Path\n",
    "NUM_EPOCHS = 5  # 10\n",
    "f = 0.0000001\n",
    "alpha = 1\n",
    "beta = 1\n",
    "gamma = 0\n",
    "batch_size = 3\n",
    "# path = \"/Users/p403830/Library/CloudStorage/OneDrive-PorscheDigitalGmbH/GIT_SAT_ML/data/blocksworld\"\n",
    "path = \"/Users/p403830/Library/CloudStorage/OneDrive-PorscheDigitalGmbH/programming/generateSAT/random_3SAT_subset\"\n",
    "# path = \"../../Data/blocksworld\"\n",
    "# path = \"/Users/p403830/Library/CloudStorage/OneDrive-PorscheDigitalGmbH/GIT_SAT_ML/data/LLL_sample_one\"\n",
    "# path = \"/Users/p403830/Library/CloudStorage/OneDrive-PorscheDigitalGmbH/programming/generateSAT/samples_LLL_n80/\"\n",
    "N_STEPS_MOSER = 1000\n",
    "N_RUNS_MOSER = 5\n",
    "SEED = 0\n",
    "graph_representation = \"VCG\"\n",
    "network_type = \"interaction\"\n",
    "return_candidates = True\n",
    "# network_definition = get_network_definition(network_type = network_type, graph_representation = graph_representation) #network_definition_interaction_new\n",
    "\n",
    "MODEL_REGISTRY = Path(\"../../../mlrun_save\")\n",
    "EXPERIMENT_NAME = \"blocksworld_LCG_interaction\"\n",
    "\n",
    "model_path = \"../../../params_save/\" + EXPERIMENT_NAME\n",
    "img_path = False # model_path + \"_plot\"\n",
    "\n",
    "match graph_representation:\n",
    "    case \"LCG\":\n",
    "            rep = LCG\n",
    "    case \"VCG\":\n",
    "            rep = VCG\n",
    "print(rep)\n",
    "print(glob.glob(glob.escape(path) + \"/*.cnf\"))\n",
    "\n",
    "\n",
    "experiment_tracking_train(\n",
    "    MODEL_REGISTRY,\n",
    "    EXPERIMENT_NAME,\n",
    "    batch_size,\n",
    "    f,\n",
    "    alpha,\n",
    "    beta,\n",
    "    gamma,\n",
    "    NUM_EPOCHS,\n",
    "    N_STEPS_MOSER,\n",
    "    N_RUNS_MOSER,\n",
    "    path,\n",
    "    \"VCG\",\n",
    "    network_type = network_type,\n",
    "    return_candidates=True,\n",
    ")"
   ]
  },
  {
   "cell_type": "code",
   "execution_count": 6,
   "metadata": {},
   "outputs": [
    {
     "data": {
      "text/plain": [
       "array([0, 0, 0, 1, 1])"
      ]
     },
     "execution_count": 6,
     "metadata": {},
     "output_type": "execute_result"
    }
   ],
   "source": [
    "import numpy as np\n",
    "x = np.array([1,1,1,0,0])\n",
    "np.array(np.logical_not(x),dtype = int)"
   ]
  },
  {
   "cell_type": "code",
   "execution_count": null,
   "metadata": {},
   "outputs": [],
   "source": []
  }
 ],
 "metadata": {
  "kernelspec": {
   "display_name": ".venv",
   "language": "python",
   "name": "python3"
  },
  "language_info": {
   "codemirror_mode": {
    "name": "ipython",
    "version": 3
   },
   "file_extension": ".py",
   "mimetype": "text/x-python",
   "name": "python",
   "nbconvert_exporter": "python",
   "pygments_lexer": "ipython3",
   "version": "3.11.3"
  },
  "orig_nbformat": 4
 },
 "nbformat": 4,
 "nbformat_minor": 2
}
