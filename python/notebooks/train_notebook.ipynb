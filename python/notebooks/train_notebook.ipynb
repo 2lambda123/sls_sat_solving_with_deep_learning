{
 "cells": [
  {
   "cell_type": "code",
   "execution_count": 1,
   "metadata": {},
   "outputs": [
    {
     "name": "stdout",
     "output_type": "stream",
     "text": [
      "['/Users/p403830/Library/CloudStorage/OneDrive-PorscheDigitalGmbH/programming/generateSAT/random_3SAT_subset/random_KCNF3_100_119_9283351.cnf', '/Users/p403830/Library/CloudStorage/OneDrive-PorscheDigitalGmbH/programming/generateSAT/random_3SAT_subset/random_KCNF3_100_119_6639307.cnf', '/Users/p403830/Library/CloudStorage/OneDrive-PorscheDigitalGmbH/programming/generateSAT/random_3SAT_subset/random_KCNF3_100_119_4391198.cnf', '/Users/p403830/Library/CloudStorage/OneDrive-PorscheDigitalGmbH/programming/generateSAT/random_3SAT_subset/random_KCNF3_100_100_3602064.cnf', '/Users/p403830/Library/CloudStorage/OneDrive-PorscheDigitalGmbH/programming/generateSAT/random_3SAT_subset/random_KCNF3_100_100_2658295.cnf', '/Users/p403830/Library/CloudStorage/OneDrive-PorscheDigitalGmbH/programming/generateSAT/random_3SAT_subset/random_KCNF3_100_100_2924554.cnf']\n"
     ]
    },
    {
     "ename": "AttributeError",
     "evalue": "'list' object has no attribute 'values'",
     "output_type": "error",
     "traceback": [
      "\u001b[0;31m---------------------------------------------------------------------------\u001b[0m",
      "\u001b[0;31mAttributeError\u001b[0m                            Traceback (most recent call last)",
      "Cell \u001b[0;32mIn[1], line 39\u001b[0m\n\u001b[1;32m     35\u001b[0m             rep \u001b[39m=\u001b[39m VCG\n\u001b[1;32m     36\u001b[0m \u001b[39mprint\u001b[39m(glob\u001b[39m.\u001b[39mglob(glob\u001b[39m.\u001b[39mescape(path) \u001b[39m+\u001b[39m \u001b[39m\"\u001b[39m\u001b[39m/*.cnf\u001b[39m\u001b[39m\"\u001b[39m))\n\u001b[0;32m---> 39\u001b[0m experiment_tracking_train(\n\u001b[1;32m     40\u001b[0m         MODEL_REGISTRY,\n\u001b[1;32m     41\u001b[0m         EXPERIMENT_NAME,\n\u001b[1;32m     42\u001b[0m         batch_size,\n\u001b[1;32m     43\u001b[0m         f,\n\u001b[1;32m     44\u001b[0m         alpha,\n\u001b[1;32m     45\u001b[0m         beta,\n\u001b[1;32m     46\u001b[0m         gamma,\n\u001b[1;32m     47\u001b[0m         NUM_EPOCHS,\n\u001b[1;32m     48\u001b[0m         N_STEPS_MOSER,\n\u001b[1;32m     49\u001b[0m         N_RUNS_MOSER,\n\u001b[1;32m     50\u001b[0m         path,\n\u001b[1;32m     51\u001b[0m         img_path\u001b[39m=\u001b[39;49mimg_path,\n\u001b[1;32m     52\u001b[0m         model_path\u001b[39m=\u001b[39;49mmodel_path,\n\u001b[1;32m     53\u001b[0m         graph_representation\u001b[39m=\u001b[39;49mrep,\n\u001b[1;32m     54\u001b[0m         network_type\u001b[39m=\u001b[39;49mnetwork_type,\n\u001b[1;32m     55\u001b[0m     )\n",
      "File \u001b[0;32m~/Library/CloudStorage/OneDrive-PorscheDigitalGmbH/GIT_SAT_ML3/ml_based_sat_solver/python/notebooks/../../python/src/train.py:255\u001b[0m, in \u001b[0;36mexperiment_tracking_train\u001b[0;34m(MODEL_REGISTRY, EXPERIMENT_NAME, batch_size, f, alpha, beta, gamma, NUM_EPOCHS, N_STEPS_MOSER, N_RUNS_MOSER, path, img_path, model_path, graph_representation, network_type)\u001b[0m\n\u001b[1;32m    236\u001b[0m \u001b[39m\u001b[39m\u001b[39m\"\"\"\u001b[39;00m\n\u001b[1;32m    237\u001b[0m \u001b[39mmlflow.log_params(\u001b[39;00m\n\u001b[1;32m    238\u001b[0m \u001b[39m    {\u001b[39;00m\n\u001b[0;32m   (...)\u001b[0m\n\u001b[1;32m    252\u001b[0m \u001b[39m)\u001b[39;00m\n\u001b[1;32m    253\u001b[0m \u001b[39m\"\"\"\u001b[39;00m\n\u001b[1;32m    254\u001b[0m \u001b[39m# train and evaluate\u001b[39;00m\n\u001b[0;32m--> 255\u001b[0m artifacts \u001b[39m=\u001b[39m train(\n\u001b[1;32m    256\u001b[0m     batch_size,\n\u001b[1;32m    257\u001b[0m     f,\n\u001b[1;32m    258\u001b[0m     alpha,\n\u001b[1;32m    259\u001b[0m     beta,\n\u001b[1;32m    260\u001b[0m     gamma,\n\u001b[1;32m    261\u001b[0m     NUM_EPOCHS,\n\u001b[1;32m    262\u001b[0m     N_STEPS_MOSER,\n\u001b[1;32m    263\u001b[0m     N_RUNS_MOSER,\n\u001b[1;32m    264\u001b[0m     path,\n\u001b[1;32m    265\u001b[0m     img_path\u001b[39m=\u001b[39;49mimg_path,\n\u001b[1;32m    266\u001b[0m     model_path\u001b[39m=\u001b[39;49mmodel_path,\n\u001b[1;32m    267\u001b[0m     experiment_tracking\u001b[39m=\u001b[39;49m\u001b[39mTrue\u001b[39;49;00m,\n\u001b[1;32m    268\u001b[0m     graph_representation\u001b[39m=\u001b[39;49mgraph_representation,\n\u001b[1;32m    269\u001b[0m     network_type\u001b[39m=\u001b[39;49mnetwork_type,\n\u001b[1;32m    270\u001b[0m )\n\u001b[1;32m    271\u001b[0m \u001b[39m# log params which are a result of learning\u001b[39;00m\n\u001b[1;32m    272\u001b[0m \u001b[39mwith\u001b[39;00m tempfile\u001b[39m.\u001b[39mTemporaryDirectory() \u001b[39mas\u001b[39;00m dp:\n",
      "File \u001b[0;32m~/Library/CloudStorage/OneDrive-PorscheDigitalGmbH/GIT_SAT_ML3/ml_based_sat_solver/python/notebooks/../../python/src/train.py:61\u001b[0m, in \u001b[0;36mtrain\u001b[0;34m(batch_size, f, alpha, beta, gamma, NUM_EPOCHS, N_STEPS_MOSER, N_RUNS_MOSER, path, img_path, model_path, experiment_tracking, graph_representation, network_type, return_candidates)\u001b[0m\n\u001b[1;32m     57\u001b[0m network_definition \u001b[39m=\u001b[39m get_network_definition(\n\u001b[1;32m     58\u001b[0m     network_type\u001b[39m=\u001b[39mnetwork_type, graph_representation\u001b[39m=\u001b[39mgraph_representation\n\u001b[1;32m     59\u001b[0m )\n\u001b[1;32m     60\u001b[0m network \u001b[39m=\u001b[39m hk\u001b[39m.\u001b[39mwithout_apply_rng(hk\u001b[39m.\u001b[39mtransform(network_definition))\n\u001b[0;32m---> 61\u001b[0m params \u001b[39m=\u001b[39m network\u001b[39m.\u001b[39minit(jax\u001b[39m.\u001b[39mrandom\u001b[39m.\u001b[39mPRNGKey(\u001b[39m42\u001b[39m), sat_data[\u001b[39m0\u001b[39;49m][\u001b[39m0\u001b[39m]\u001b[39m.\u001b[39mgraph)\n\u001b[1;32m     63\u001b[0m opt_init, opt_update \u001b[39m=\u001b[39m optax\u001b[39m.\u001b[39madam(\u001b[39m1e-3\u001b[39m)\n\u001b[1;32m     64\u001b[0m opt_state \u001b[39m=\u001b[39m opt_init(params)\n",
      "File \u001b[0;32m~/Library/CloudStorage/OneDrive-PorscheDigitalGmbH/GIT_SAT_ML3/ml_based_sat_solver/python/notebooks/../../python/src/data_utils.py:101\u001b[0m, in \u001b[0;36mSATTrainingDataset.__getitem__\u001b[0;34m(self, idx)\u001b[0m\n\u001b[1;32m     99\u001b[0m     \u001b[39mwith\u001b[39;00m \u001b[39mopen\u001b[39m(target_name, \u001b[39m\"\u001b[39m\u001b[39mrb\u001b[39m\u001b[39m\"\u001b[39m) \u001b[39mas\u001b[39;00m f:\n\u001b[1;32m    100\u001b[0m         solution_dict \u001b[39m=\u001b[39m pickle\u001b[39m.\u001b[39mload(f)\n\u001b[0;32m--> 101\u001b[0m         candidates \u001b[39m=\u001b[39m np\u001b[39m.\u001b[39marray(\u001b[39mlist\u001b[39m(solution_dict\u001b[39m.\u001b[39;49mvalues()), dtype\u001b[39m=\u001b[39m\u001b[39mint\u001b[39m)\u001b[39m.\u001b[39mreshape(\n\u001b[1;32m    102\u001b[0m             \u001b[39m1\u001b[39m, \u001b[39m-\u001b[39m\u001b[39m1\u001b[39m\n\u001b[1;32m    103\u001b[0m         )  \u001b[39m# (1, n_node)\u001b[39;00m\n\u001b[1;32m    105\u001b[0m padded_candidates \u001b[39m=\u001b[39m np\u001b[39m.\u001b[39mpad(\n\u001b[1;32m    106\u001b[0m     candidates,\n\u001b[1;32m    107\u001b[0m     pad_width\u001b[39m=\u001b[39m((\u001b[39m0\u001b[39m, \u001b[39m0\u001b[39m), (\u001b[39m0\u001b[39m, \u001b[39mself\u001b[39m\u001b[39m.\u001b[39mmax_n_node \u001b[39m-\u001b[39m instance\u001b[39m.\u001b[39mn)),\n\u001b[1;32m    108\u001b[0m )  \u001b[39m# (n_candidates, max_n_node)\u001b[39;00m\n\u001b[1;32m    109\u001b[0m \u001b[39mprint\u001b[39m(\u001b[39m\"\u001b[39m\u001b[39mshape candidates\u001b[39m\u001b[39m\"\u001b[39m, np\u001b[39m.\u001b[39mshape(candidates))\n",
      "\u001b[0;31mAttributeError\u001b[0m: 'list' object has no attribute 'values'"
     ]
    }
   ],
   "source": [
    "import sys\n",
    "import glob\n",
    "sys.path.append(\"../../\")\n",
    "\n",
    "from python.src.train import experiment_tracking_train\n",
    "from python.src.sat_representations import VCG, LCG, SATRepresentation\n",
    "from pathlib import Path\n",
    "NUM_EPOCHS = 20  # 10\n",
    "f = 0.0000001\n",
    "alpha = 1\n",
    "beta = 0\n",
    "gamma = 0\n",
    "batch_size = 1\n",
    "# path = \"/Users/p403830/Library/CloudStorage/OneDrive-PorscheDigitalGmbH/GIT_SAT_ML/data/blocksworld\"\n",
    "path = \"/Users/p403830/Library/CloudStorage/OneDrive-PorscheDigitalGmbH/programming/generateSAT/random_3SAT_subset\"\n",
    "# path = \"/Users/p403830/Library/CloudStorage/OneDrive-PorscheDigitalGmbH/GIT_SAT_ML/data/LLL_sample_one\"\n",
    "# path = \"/Users/p403830/Library/CloudStorage/OneDrive-PorscheDigitalGmbH/programming/generateSAT/samples_LLL_n80/\"\n",
    "N_STEPS_MOSER = 100\n",
    "N_RUNS_MOSER = 5\n",
    "SEED = 0\n",
    "graph_representation = \"LCG\"\n",
    "network_type = \"interaction\"\n",
    "# network_definition = get_network_definition(network_type = network_type, graph_representation = graph_representation) #network_definition_interaction_new\n",
    "\n",
    "MODEL_REGISTRY = Path(\"../../../mlrun_save\")\n",
    "EXPERIMENT_NAME = \"trash\"\n",
    "\n",
    "model_path = False # \"../../params_save/\" + EXPERIMENT_NAME\n",
    "img_path = False # model_path + \"_plot\"\n",
    "\n",
    "match graph_representation:\n",
    "    case \"LCG\":\n",
    "            rep = LCG\n",
    "    case \"VCG\":\n",
    "            rep = VCG\n",
    "print(glob.glob(glob.escape(path) + \"/*.cnf\"))\n",
    "\n",
    "\n",
    "experiment_tracking_train(\n",
    "        MODEL_REGISTRY,\n",
    "        EXPERIMENT_NAME,\n",
    "        batch_size,\n",
    "        f,\n",
    "        alpha,\n",
    "        beta,\n",
    "        gamma,\n",
    "        NUM_EPOCHS,\n",
    "        N_STEPS_MOSER,\n",
    "        N_RUNS_MOSER,\n",
    "        path,\n",
    "        img_path=img_path,\n",
    "        model_path=model_path,\n",
    "        graph_representation=rep,\n",
    "        network_type=network_type,\n",
    "    )"
   ]
  },
  {
   "cell_type": "code",
   "execution_count": null,
   "metadata": {},
   "outputs": [],
   "source": []
  }
 ],
 "metadata": {
  "kernelspec": {
   "display_name": ".venv",
   "language": "python",
   "name": "python3"
  },
  "language_info": {
   "codemirror_mode": {
    "name": "ipython",
    "version": 3
   },
   "file_extension": ".py",
   "mimetype": "text/x-python",
   "name": "python",
   "nbconvert_exporter": "python",
   "pygments_lexer": "ipython3",
   "version": "3.11.3"
  },
  "orig_nbformat": 4
 },
 "nbformat": 4,
 "nbformat_minor": 2
}
