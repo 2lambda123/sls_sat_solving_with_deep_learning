{
 "cells": [
  {
   "cell_type": "code",
   "execution_count": 3,
   "metadata": {},
   "outputs": [
    {
     "name": "stdout",
     "output_type": "stream",
     "text": [
      "['/Users/p403830/Library/CloudStorage/OneDrive-PorscheDigitalGmbH/programming/generateSAT/random_3SAT_subset/random_KCNF3_100_119_9283351.cnf', '/Users/p403830/Library/CloudStorage/OneDrive-PorscheDigitalGmbH/programming/generateSAT/random_3SAT_subset/random_KCNF3_100_119_6639307.cnf', '/Users/p403830/Library/CloudStorage/OneDrive-PorscheDigitalGmbH/programming/generateSAT/random_3SAT_subset/random_KCNF3_100_119_4391198.cnf', '/Users/p403830/Library/CloudStorage/OneDrive-PorscheDigitalGmbH/programming/generateSAT/random_3SAT_subset/random_KCNF3_100_100_3602064.cnf', '/Users/p403830/Library/CloudStorage/OneDrive-PorscheDigitalGmbH/programming/generateSAT/random_3SAT_subset/random_KCNF3_100_100_2658295.cnf', '/Users/p403830/Library/CloudStorage/OneDrive-PorscheDigitalGmbH/programming/generateSAT/random_3SAT_subset/random_KCNF3_100_100_2924554.cnf']\n",
      "pad_nodes, pad_edges 320 457\n",
      "n_node, n_edge 300 400\n"
     ]
    },
    {
     "ename": "AttributeError",
     "evalue": "'list' object has no attribute 'values'",
     "output_type": "error",
     "traceback": [
      "\u001b[0;31m---------------------------------------------------------------------------\u001b[0m",
      "\u001b[0;31mAttributeError\u001b[0m                            Traceback (most recent call last)",
      "Cell \u001b[0;32mIn[3], line 39\u001b[0m\n\u001b[1;32m     35\u001b[0m             rep \u001b[39m=\u001b[39m VCG\n\u001b[1;32m     36\u001b[0m \u001b[39mprint\u001b[39m(glob\u001b[39m.\u001b[39mglob(glob\u001b[39m.\u001b[39mescape(path) \u001b[39m+\u001b[39m \u001b[39m\"\u001b[39m\u001b[39m/*.cnf\u001b[39m\u001b[39m\"\u001b[39m))\n\u001b[0;32m---> 39\u001b[0m experiment_tracking_train(\n\u001b[1;32m     40\u001b[0m         MODEL_REGISTRY,\n\u001b[1;32m     41\u001b[0m         EXPERIMENT_NAME,\n\u001b[1;32m     42\u001b[0m         batch_size,\n\u001b[1;32m     43\u001b[0m         f,\n\u001b[1;32m     44\u001b[0m         alpha,\n\u001b[1;32m     45\u001b[0m         beta,\n\u001b[1;32m     46\u001b[0m         gamma,\n\u001b[1;32m     47\u001b[0m         NUM_EPOCHS,\n\u001b[1;32m     48\u001b[0m         N_STEPS_MOSER,\n\u001b[1;32m     49\u001b[0m         N_RUNS_MOSER,\n\u001b[1;32m     50\u001b[0m         path,\n\u001b[1;32m     51\u001b[0m         img_path\u001b[39m=\u001b[39;49m\u001b[39m\"\u001b[39;49m\u001b[39mshow\u001b[39;49m\u001b[39m\"\u001b[39;49m,\n\u001b[1;32m     52\u001b[0m         model_path\u001b[39m=\u001b[39;49mmodel_path,\n\u001b[1;32m     53\u001b[0m         graph_representation\u001b[39m=\u001b[39;49mrep,\n\u001b[1;32m     54\u001b[0m         network_type\u001b[39m=\u001b[39;49mnetwork_type,\n\u001b[1;32m     55\u001b[0m     )\n",
      "File \u001b[0;32m~/Library/CloudStorage/OneDrive-PorscheDigitalGmbH/GIT_SAT_ML3/ml_based_sat_solver/python/notebooks/../../python/src/train.py:239\u001b[0m, in \u001b[0;36mexperiment_tracking_train\u001b[0;34m(MODEL_REGISTRY, EXPERIMENT_NAME, batch_size, f, alpha, beta, gamma, NUM_EPOCHS, N_STEPS_MOSER, N_RUNS_MOSER, path, img_path, model_path, graph_representation, network_type)\u001b[0m\n\u001b[1;32m    221\u001b[0m mlflow\u001b[39m.\u001b[39mlog_params(\n\u001b[1;32m    222\u001b[0m     {\n\u001b[1;32m    223\u001b[0m         \u001b[39m\"\u001b[39m\u001b[39mf\u001b[39m\u001b[39m\"\u001b[39m: f,\n\u001b[0;32m   (...)\u001b[0m\n\u001b[1;32m    235\u001b[0m     }\n\u001b[1;32m    236\u001b[0m )\n\u001b[1;32m    238\u001b[0m \u001b[39m# train and evaluate\u001b[39;00m\n\u001b[0;32m--> 239\u001b[0m artifacts \u001b[39m=\u001b[39m train(\n\u001b[1;32m    240\u001b[0m     batch_size,\n\u001b[1;32m    241\u001b[0m     f,\n\u001b[1;32m    242\u001b[0m     alpha,\n\u001b[1;32m    243\u001b[0m     beta,\n\u001b[1;32m    244\u001b[0m     gamma,\n\u001b[1;32m    245\u001b[0m     NUM_EPOCHS,\n\u001b[1;32m    246\u001b[0m     N_STEPS_MOSER,\n\u001b[1;32m    247\u001b[0m     N_RUNS_MOSER,\n\u001b[1;32m    248\u001b[0m     path,\n\u001b[1;32m    249\u001b[0m     img_path\u001b[39m=\u001b[39;49mimg_path,\n\u001b[1;32m    250\u001b[0m     model_path\u001b[39m=\u001b[39;49mmodel_path,\n\u001b[1;32m    251\u001b[0m     experiment_tracking\u001b[39m=\u001b[39;49m\u001b[39mTrue\u001b[39;49;00m,\n\u001b[1;32m    252\u001b[0m     graph_representation\u001b[39m=\u001b[39;49mgraph_representation,\n\u001b[1;32m    253\u001b[0m     network_type\u001b[39m=\u001b[39;49mnetwork_type,\n\u001b[1;32m    254\u001b[0m )\n\u001b[1;32m    255\u001b[0m \u001b[39m# log params which are a result of learning\u001b[39;00m\n\u001b[1;32m    256\u001b[0m \u001b[39mwith\u001b[39;00m tempfile\u001b[39m.\u001b[39mTemporaryDirectory() \u001b[39mas\u001b[39;00m dp:\n",
      "File \u001b[0;32m~/Library/CloudStorage/OneDrive-PorscheDigitalGmbH/GIT_SAT_ML3/ml_based_sat_solver/python/notebooks/../../python/src/train.py:68\u001b[0m, in \u001b[0;36mtrain\u001b[0;34m(batch_size, f, alpha, beta, gamma, NUM_EPOCHS, N_STEPS_MOSER, N_RUNS_MOSER, path, img_path, model_path, experiment_tracking, graph_representation, network_type, return_candidates)\u001b[0m\n\u001b[1;32m     64\u001b[0m network_definition \u001b[39m=\u001b[39m get_network_definition(\n\u001b[1;32m     65\u001b[0m     network_type\u001b[39m=\u001b[39mnetwork_type, graph_representation\u001b[39m=\u001b[39mgraph_representation\n\u001b[1;32m     66\u001b[0m )\n\u001b[1;32m     67\u001b[0m network \u001b[39m=\u001b[39m hk\u001b[39m.\u001b[39mwithout_apply_rng(hk\u001b[39m.\u001b[39mtransform(network_definition))\n\u001b[0;32m---> 68\u001b[0m params \u001b[39m=\u001b[39m network\u001b[39m.\u001b[39minit(jax\u001b[39m.\u001b[39mrandom\u001b[39m.\u001b[39mPRNGKey(\u001b[39m42\u001b[39m), sat_data[\u001b[39m0\u001b[39;49m][\u001b[39m0\u001b[39m]\u001b[39m.\u001b[39mgraph)\n\u001b[1;32m     70\u001b[0m opt_init, opt_update \u001b[39m=\u001b[39m optax\u001b[39m.\u001b[39madam(\u001b[39m1e-3\u001b[39m)\n\u001b[1;32m     71\u001b[0m opt_state \u001b[39m=\u001b[39m opt_init(params)\n",
      "File \u001b[0;32m~/Library/CloudStorage/OneDrive-PorscheDigitalGmbH/GIT_SAT_ML3/ml_based_sat_solver/python/notebooks/../../python/src/data_utils.py:97\u001b[0m, in \u001b[0;36mSATTrainingDataset.__getitem__\u001b[0;34m(self, idx)\u001b[0m\n\u001b[1;32m     95\u001b[0m     \u001b[39mwith\u001b[39;00m \u001b[39mopen\u001b[39m(target_name, \u001b[39m\"\u001b[39m\u001b[39mrb\u001b[39m\u001b[39m\"\u001b[39m) \u001b[39mas\u001b[39;00m f:\n\u001b[1;32m     96\u001b[0m         solution_dict \u001b[39m=\u001b[39m pickle\u001b[39m.\u001b[39mload(f)\n\u001b[0;32m---> 97\u001b[0m         candidates \u001b[39m=\u001b[39m np\u001b[39m.\u001b[39marray(\u001b[39mlist\u001b[39m(solution_dict\u001b[39m.\u001b[39;49mvalues()), dtype\u001b[39m=\u001b[39m\u001b[39mint\u001b[39m)\u001b[39m.\u001b[39mreshape(\n\u001b[1;32m     98\u001b[0m             \u001b[39m1\u001b[39m, \u001b[39m-\u001b[39m\u001b[39m1\u001b[39m\n\u001b[1;32m     99\u001b[0m         )  \u001b[39m# (1, n_node)\u001b[39;00m\n\u001b[1;32m    101\u001b[0m padded_candidates \u001b[39m=\u001b[39m np\u001b[39m.\u001b[39mpad(\n\u001b[1;32m    102\u001b[0m     candidates,\n\u001b[1;32m    103\u001b[0m     pad_width\u001b[39m=\u001b[39m((\u001b[39m0\u001b[39m, \u001b[39m0\u001b[39m), (\u001b[39m0\u001b[39m, \u001b[39mself\u001b[39m\u001b[39m.\u001b[39mmax_n_node \u001b[39m-\u001b[39m instance\u001b[39m.\u001b[39mn)),\n\u001b[1;32m    104\u001b[0m )  \u001b[39m# (n_candidates, max_n_node) # @TODO: Check whether this is really necessary! See padding that is done already above -> depends on representation\u001b[39;00m\n\u001b[1;32m    105\u001b[0m energies \u001b[39m=\u001b[39m vmap(\n\u001b[1;32m    106\u001b[0m     \u001b[39mself\u001b[39m\u001b[39m.\u001b[39mrepresentation\u001b[39m.\u001b[39mget_violated_constraints, in_axes\u001b[39m=\u001b[39m(\u001b[39mNone\u001b[39;00m, \u001b[39m0\u001b[39m), out_axes\u001b[39m=\u001b[39m\u001b[39m0\u001b[39m\n\u001b[1;32m    107\u001b[0m )(problem, candidates)\n",
      "\u001b[0;31mAttributeError\u001b[0m: 'list' object has no attribute 'values'"
     ]
    }
   ],
   "source": [
    "import sys\n",
    "import glob\n",
    "sys.path.append(\"../../\")\n",
    "\n",
    "from python.src.train import experiment_tracking_train\n",
    "from python.src.sat_representations import VCG, LCG, SATRepresentation\n",
    "from pathlib import Path\n",
    "NUM_EPOCHS = 5  # 10\n",
    "f = 0.0000001\n",
    "alpha = 1\n",
    "beta = 0\n",
    "gamma = 0\n",
    "batch_size = 2\n",
    "# path = \"/Users/p403830/Library/CloudStorage/OneDrive-PorscheDigitalGmbH/GIT_SAT_ML/data/blocksworld\"\n",
    "path = \"/Users/p403830/Library/CloudStorage/OneDrive-PorscheDigitalGmbH/programming/generateSAT/random_3SAT_subset\"\n",
    "# path = \"/Users/p403830/Library/CloudStorage/OneDrive-PorscheDigitalGmbH/GIT_SAT_ML/data/LLL_sample_one\"\n",
    "# path = \"/Users/p403830/Library/CloudStorage/OneDrive-PorscheDigitalGmbH/programming/generateSAT/samples_LLL_n80/\"\n",
    "N_STEPS_MOSER = 100\n",
    "N_RUNS_MOSER = 5\n",
    "SEED = 0\n",
    "graph_representation = \"LCG\"\n",
    "network_type = \"interaction\"\n",
    "# network_definition = get_network_definition(network_type = network_type, graph_representation = graph_representation) #network_definition_interaction_new\n",
    "\n",
    "MODEL_REGISTRY = Path(\"../../../mlrun_save\")\n",
    "EXPERIMENT_NAME = \"trash\"\n",
    "\n",
    "model_path = False # \"../../params_save/\" + EXPERIMENT_NAME\n",
    "img_path = False # model_path + \"_plot\"\n",
    "\n",
    "match graph_representation:\n",
    "    case \"LCG\":\n",
    "            rep = LCG\n",
    "    case \"VCG\":\n",
    "            rep = VCG\n",
    "print(glob.glob(glob.escape(path) + \"/*.cnf\"))\n",
    "\n",
    "\n",
    "experiment_tracking_train(\n",
    "        MODEL_REGISTRY,\n",
    "        EXPERIMENT_NAME,\n",
    "        batch_size,\n",
    "        f,\n",
    "        alpha,\n",
    "        beta,\n",
    "        gamma,\n",
    "        NUM_EPOCHS,\n",
    "        N_STEPS_MOSER,\n",
    "        N_RUNS_MOSER,\n",
    "        path,\n",
    "        img_path=\"show\",\n",
    "        model_path=model_path,\n",
    "        graph_representation=rep,\n",
    "        network_type=network_type,\n",
    "    )"
   ]
  },
  {
   "cell_type": "code",
   "execution_count": 23,
   "metadata": {},
   "outputs": [],
   "source": [
    "import jax\n",
    "import jax.numpy as jnp\n",
    "import jraph\n",
    "from jraph import GraphsTuple\n",
    "from jraph import get_graph_padding_mask\n",
    "\n",
    "key = jax.random.PRNGKey(0)\n",
    "graph_1 = GraphsTuple(nodes=jax.random.normal(key, (3, 64)),\n",
    "                  edges=jax.random.normal(key, (5, 64)),\n",
    "                  senders=jnp.array([0,0,1,1,2]),\n",
    "                  receivers=jnp.array([1,2,0,2,1]),\n",
    "                  n_node=jnp.array([3]),\n",
    "                  n_edge=jnp.array([6]),\n",
    "                  globals=jnp.array([0,0,0,1,2,0,2]))\n",
    "graph_2 = GraphsTuple(nodes=jax.random.normal(key, (5, 64)),\n",
    "                  edges=jax.random.normal(key, (10, 64)),\n",
    "                  senders=jnp.array([0,0,1,1,2,2,3,3,4,4]),\n",
    "                  receivers=jnp.array([1,2,0,2,1,0,2,1,3,2]),\n",
    "                  n_node=jnp.array([5]),\n",
    "                  n_edge=jnp.array([13]),\n",
    "                  globals=jnp.array([0,3,0,1,2,0,3]))\n",
    "batch = jraph.batch([graph_1, graph_2])"
   ]
  },
  {
   "cell_type": "code",
   "execution_count": null,
   "metadata": {},
   "outputs": [
    {
     "name": "stdout",
     "output_type": "stream",
     "text": [
      "0\n",
      "[0 0 1 1 2 2 3 3 4 4]\n",
      "[0 0 1 1 2 3 3 4 4 5 5 6 6 7 7]\n"
     ]
    }
   ],
   "source": [
    "print(graph_1.senders)\n",
    "print(graph_2.senders)\n",
    "\n",
    "print(batch.senders)"
   ]
  },
  {
   "cell_type": "code",
   "execution_count": 10,
   "metadata": {},
   "outputs": [],
   "source": [
    "import sys\n",
    "import glob\n",
    "sys.path.append(\"../../\")\n",
    "from pysat.formula import CNF\n",
    "import numpy as np\n",
    "from python.src.sat_instances import get_problem_from_cnf\n",
    "from python.src.sat_representations import VCG, LCG, SATRepresentation\n",
    "def do():\n",
    "        n = 10\n",
    "        m = 25\n",
    "        k = 2\n",
    "        mask = LCG.get_mask(n, 2*n + m)\n",
    "        H = CNF()\n",
    "        counter = 0\n",
    "        for i in range(m):\n",
    "            c = []\n",
    "            for j in range(k):\n",
    "                c.append(-1*((counter + j)%n + 1))\n",
    "            counter += 1\n",
    "            H.append(c)\n",
    "        problem = get_problem_from_cnf(H, LCG, include_constraint_graph=0)\n",
    "        g = problem.graph\n",
    "        decoded_nodes = []\n",
    "        for i in range(2*n + m):\n",
    "            if i%2 == 0 and i< 2*n:\n",
    "                decoded_nodes.append(10000)\n",
    "            else:\n",
    "                decoded_nodes.append(0)\n",
    "        decoded_nodes = np.array([decoded_nodes]).T\n",
    "        print(decoded_nodes)\n",
    "        assert decoded_nodes.shape == (2*n + m, 1)\n",
    "        mask = LCG.get_mask(n, 2*n + m)\n",
    "        neighbors_list = LCG.get_constraint_graph(n, m, g.senders, g.receivers)\n",
    "        print(neighbors_list)\n",
    "        loss = LCG.local_lovasz_loss(decoded_nodes, mask, g, neighbors_list)\n",
    "        print(loss)"
   ]
  },
  {
   "cell_type": "code",
   "execution_count": 11,
   "metadata": {},
   "outputs": [
    {
     "name": "stdout",
     "output_type": "stream",
     "text": [
      "[[10000]\n",
      " [    0]\n",
      " [10000]\n",
      " [    0]\n",
      " [10000]\n",
      " [    0]\n",
      " [10000]\n",
      " [    0]\n",
      " [10000]\n",
      " [    0]\n",
      " [10000]\n",
      " [    0]\n",
      " [10000]\n",
      " [    0]\n",
      " [10000]\n",
      " [    0]\n",
      " [10000]\n",
      " [    0]\n",
      " [10000]\n",
      " [    0]\n",
      " [    0]\n",
      " [    0]\n",
      " [    0]\n",
      " [    0]\n",
      " [    0]\n",
      " [    0]\n",
      " [    0]\n",
      " [    0]\n",
      " [    0]\n",
      " [    0]\n",
      " [    0]\n",
      " [    0]\n",
      " [    0]\n",
      " [    0]\n",
      " [    0]\n",
      " [    0]\n",
      " [    0]\n",
      " [    0]\n",
      " [    0]\n",
      " [    0]\n",
      " [    0]\n",
      " [    0]\n",
      " [    0]\n",
      " [    0]\n",
      " [    0]]\n",
      "[[20 20 20 20 20 20 20 21 21 21 21 21 21 21 21 22 22 22 22 22 22 22 22 23\n",
      "  23 23 23 23 23 23 23 24 24 24 24 24 24 24 25 25 25 25 25 25 26 26 26 26\n",
      "  26 27 27 27 27 27 28 28 28 28 28 29 29 29 29 29 29 30 30 30 30 30 30 30\n",
      "  31 31 31 31 31 31 31 31 32 32 32 32 32 32 32 32 33 33 33 33 33 33 33 33\n",
      "  34 34 34 34 34 34 34 35 35 35 35 35 35 36 36 36 36 36 37 37 37 37 37 38\n",
      "  38 38 38 38 39 39 39 39 39 39 40 40 40 40 40 40 40 41 41 41 41 41 41 41\n",
      "  41 42 42 42 42 42 42 42 42 43 43 43 43 43 43 43 43 44 44 44 44 44 44 44]\n",
      " [41 31 21 40 39 30 29 42 32 22 41 40 31 30 20 43 33 23 42 41 32 31 21 44\n",
      "  34 24 43 42 33 32 22 35 25 44 43 34 33 23 36 26 44 35 34 24 37 27 36 35\n",
      "  25 38 28 37 36 26 39 29 38 37 27 38 28 40 39 30 20 41 31 21 40 39 29 20\n",
      "  42 32 22 41 40 30 21 20 43 33 23 42 41 31 22 21 44 34 24 43 42 32 23 22\n",
      "  35 25 44 43 33 24 23 36 26 44 34 25 24 37 27 35 26 25 38 28 36 27 26 39\n",
      "  29 37 28 27 38 28 40 30 29 20 41 31 21 39 30 29 20 42 32 22 40 31 30 21\n",
      "  20 43 33 23 41 32 31 22 21 44 34 24 42 33 32 23 22 35 25 43 34 33 24 23]]\n"
     ]
    },
    {
     "ename": "TypeError",
     "evalue": "logistic does not accept dtype int32. Accepted dtypes are subtypes of floating, complexfloating.",
     "output_type": "error",
     "traceback": [
      "\u001b[0;31m---------------------------------------------------------------------------\u001b[0m",
      "\u001b[0;31mTypeError\u001b[0m                                 Traceback (most recent call last)",
      "Cell \u001b[0;32mIn[11], line 1\u001b[0m\n\u001b[0;32m----> 1\u001b[0m do()\n",
      "Cell \u001b[0;32mIn[10], line 35\u001b[0m, in \u001b[0;36mdo\u001b[0;34m()\u001b[0m\n\u001b[1;32m     33\u001b[0m neighbors_list \u001b[39m=\u001b[39m LCG\u001b[39m.\u001b[39mget_constraint_graph(n, m, g\u001b[39m.\u001b[39msenders, g\u001b[39m.\u001b[39mreceivers)\n\u001b[1;32m     34\u001b[0m \u001b[39mprint\u001b[39m(neighbors_list)\n\u001b[0;32m---> 35\u001b[0m loss \u001b[39m=\u001b[39m LCG\u001b[39m.\u001b[39;49mlocal_lovasz_loss(decoded_nodes, mask, g, neighbors_list)\n\u001b[1;32m     36\u001b[0m \u001b[39mprint\u001b[39m(loss)\n",
      "File \u001b[0;32m~/Library/CloudStorage/OneDrive-PorscheDigitalGmbH/GIT_SAT_ML3/ml_based_sat_solver/python/notebooks/../../python/src/sat_representations.py:420\u001b[0m, in \u001b[0;36mLCG.local_lovasz_loss\u001b[0;34m(decoded_nodes, mask, graph, neighbors_list)\u001b[0m\n\u001b[1;32m    418\u001b[0m constraint_senders \u001b[39m=\u001b[39m jnp\u001b[39m.\u001b[39marray(constraint_senders, \u001b[39mint\u001b[39m)\n\u001b[1;32m    419\u001b[0m constraint_receivers \u001b[39m=\u001b[39m jnp\u001b[39m.\u001b[39marray(constraint_receivers, \u001b[39mint\u001b[39m)\n\u001b[0;32m--> 420\u001b[0m x_sigmoid \u001b[39m=\u001b[39m jnp\u001b[39m.\u001b[39mravel(jax\u001b[39m.\u001b[39;49mnn\u001b[39m.\u001b[39;49msigmoid(decoded_nodes))\n\u001b[1;32m    421\u001b[0m relevant_x_sigmoid \u001b[39m=\u001b[39m x_sigmoid[constraint_senders]\n\u001b[1;32m    422\u001b[0m rhs_values \u001b[39m=\u001b[39m utils\u001b[39m.\u001b[39msegment_sum(\n\u001b[1;32m    423\u001b[0m     data\u001b[39m=\u001b[39mjnp\u001b[39m.\u001b[39mravel(jnp\u001b[39m.\u001b[39mlog(\u001b[39m1\u001b[39m \u001b[39m-\u001b[39m relevant_x_sigmoid)),\n\u001b[1;32m    424\u001b[0m     segment_ids\u001b[39m=\u001b[39mconstraint_receivers,\n\u001b[1;32m    425\u001b[0m     num_segments\u001b[39m=\u001b[39mn,\n\u001b[1;32m    426\u001b[0m )\n",
      "    \u001b[0;31m[... skipping hidden 12 frame]\u001b[0m\n",
      "File \u001b[0;32m~/Library/CloudStorage/OneDrive-PorscheDigitalGmbH/GIT_SAT_ML3/ml_based_sat_solver/.venv/lib/python3.11/site-packages/jax/_src/nn/functions.py:103\u001b[0m, in \u001b[0;36msigmoid\u001b[0;34m(x)\u001b[0m\n\u001b[1;32m     91\u001b[0m \u001b[39m@jax\u001b[39m\u001b[39m.\u001b[39mjit\n\u001b[1;32m     92\u001b[0m \u001b[39mdef\u001b[39;00m \u001b[39msigmoid\u001b[39m(x: Array) \u001b[39m-\u001b[39m\u001b[39m>\u001b[39m Array:\n\u001b[1;32m     93\u001b[0m \u001b[39m  \u001b[39m\u001b[39mr\u001b[39m\u001b[39m\"\"\"Sigmoid activation function.\u001b[39;00m\n\u001b[1;32m     94\u001b[0m \n\u001b[1;32m     95\u001b[0m \u001b[39m  Computes the element-wise function:\u001b[39;00m\n\u001b[0;32m   (...)\u001b[0m\n\u001b[1;32m    101\u001b[0m \u001b[39m    x : input array\u001b[39;00m\n\u001b[1;32m    102\u001b[0m \u001b[39m  \"\"\"\u001b[39;00m\n\u001b[0;32m--> 103\u001b[0m   \u001b[39mreturn\u001b[39;00m lax\u001b[39m.\u001b[39;49mlogistic(x)\n",
      "    \u001b[0;31m[... skipping hidden 7 frame]\u001b[0m\n",
      "File \u001b[0;32m~/Library/CloudStorage/OneDrive-PorscheDigitalGmbH/GIT_SAT_ML3/ml_based_sat_solver/.venv/lib/python3.11/site-packages/jax/_src/lax/lax.py:1508\u001b[0m, in \u001b[0;36munop_dtype_rule\u001b[0;34m(result_dtype, accepted_dtypes, name, aval, **kwargs)\u001b[0m\n\u001b[1;32m   1506\u001b[0m   typename \u001b[39m=\u001b[39m dtype_to_string(aval\u001b[39m.\u001b[39mdtype)\n\u001b[1;32m   1507\u001b[0m   accepted_typenames \u001b[39m=\u001b[39m (t\u001b[39m.\u001b[39m\u001b[39m__name__\u001b[39m \u001b[39mfor\u001b[39;00m t \u001b[39min\u001b[39;00m accepted_dtypes)\n\u001b[0;32m-> 1508\u001b[0m   \u001b[39mraise\u001b[39;00m \u001b[39mTypeError\u001b[39;00m(msg\u001b[39m.\u001b[39mformat(name, typename, \u001b[39m'\u001b[39m\u001b[39m, \u001b[39m\u001b[39m'\u001b[39m\u001b[39m.\u001b[39mjoin(accepted_typenames)))\n\u001b[1;32m   1509\u001b[0m \u001b[39mreturn\u001b[39;00m result_dtype(aval\u001b[39m.\u001b[39mdtype)\n",
      "\u001b[0;31mTypeError\u001b[0m: logistic does not accept dtype int32. Accepted dtypes are subtypes of floating, complexfloating."
     ]
    }
   ],
   "source": [
    "do()"
   ]
  },
  {
   "cell_type": "code",
   "execution_count": null,
   "metadata": {},
   "outputs": [],
   "source": []
  }
 ],
 "metadata": {
  "kernelspec": {
   "display_name": ".venv",
   "language": "python",
   "name": "python3"
  },
  "language_info": {
   "codemirror_mode": {
    "name": "ipython",
    "version": 3
   },
   "file_extension": ".py",
   "mimetype": "text/x-python",
   "name": "python",
   "nbconvert_exporter": "python",
   "pygments_lexer": "ipython3",
   "version": "3.11.3"
  },
  "orig_nbformat": 4
 },
 "nbformat": 4,
 "nbformat_minor": 2
}
