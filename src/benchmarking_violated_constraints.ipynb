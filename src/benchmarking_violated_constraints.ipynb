{
 "cells": [
  {
   "cell_type": "code",
   "execution_count": 1,
   "outputs": [],
   "source": [
    "import jraph\n",
    "import numpy as np\n",
    "import jax\n",
    "from jax.experimental.sparse import BCOO\n",
    "from pysat.formula import CNF\n",
    "import jax.numpy as jnp\n",
    "import collections\n",
    "from functools import partial"
   ],
   "metadata": {
    "collapsed": false,
    "pycharm": {
     "name": "#%%\n"
    }
   }
  },
  {
   "cell_type": "code",
   "execution_count": 2,
   "metadata": {
    "collapsed": true,
    "pycharm": {
     "name": "#%%\n"
    }
   },
   "outputs": [],
   "source": [
    "SATProblem = collections.namedtuple(\"SATProblem\", (\"graph\", \"mask\", \"params\", \"clause_lengths\"))\n",
    "\n",
    "class HashableSATProblem(SATProblem):\n",
    "    def __hash__(self):\n",
    "        return hash((self.graph.senders.tostring(),\n",
    "                     self.graph.receivers.tostring(),\n",
    "                     self.graph.edges.tostring(),\n",
    "                     self.params,\n",
    "                     tuple(self.clause_lengths)\n",
    "                     ))\n",
    "\n",
    "    def __eq__(self, other):\n",
    "        return self.__hash__() == other.__hash__()\n",
    "\n",
    "\n",
    "def get_problem_from_cnf(cnf: CNF, pad_nodes=0, pad_edges=0):\n",
    "    cnf.clauses = [c for c in cnf.clauses if len(c) > 0]\n",
    "    n = cnf.nv\n",
    "    m = len(cnf.clauses)\n",
    "    n_node = n + m\n",
    "    clause_lengths = [len(c) for c in cnf.clauses]\n",
    "    k = max(clause_lengths)\n",
    "    n_edge = sum(clause_lengths)\n",
    "\n",
    "    # for sake of jitting, if the cnf isn't already strictly in k-cnf form, we introduce\n",
    "    # additional dummy variables and constraints. NB: While this in principles solves the problem,\n",
    "    # it actually is to be avoided, if possible: This is because it very easy to satisfy all constraint except one\n",
    "    # by just setting the dummy variables to True. This creates local minima and also breaks locality.\n",
    "    # if any([len(c) != k for c in cnf.clauses]):\n",
    "    #     m += 2 ** k - 1\n",
    "    #     n += k\n",
    "    #\n",
    "    #     dummy_vars = np.arange(n - k, n)\n",
    "    #     senders.extend(np.repeat(dummy_vars, 2 ** k - 1))\n",
    "    #\n",
    "    #     # we introduce additional constraints to force the dummy variables into the all zeros string\n",
    "    #     additional_constraints = all_bitstrings(k)[1:, :]\n",
    "    #\n",
    "    #     for j in range(2 ** k - 1):\n",
    "    #         edges.extend(additional_constraints[j, :])\n",
    "    #         receivers.extend(np.repeat(m - 2 ** k + 1, k))\n",
    "\n",
    "    edges = []\n",
    "    senders = []\n",
    "    receivers = []\n",
    "    nodes = [0 if i < n else 1 for i in range(n_node)]\n",
    "    for j, c in enumerate(cnf.clauses):\n",
    "        support = [(abs(l) - 1) for l in c]\n",
    "        assert len(support) == len(\n",
    "            set(support)\n",
    "        ), \"Multiple occurrences of single variable in constraint\"\n",
    "\n",
    "        vals = ((np.sign(c) + 1) // 2).astype(np.int32)\n",
    "\n",
    "        senders.extend(support)\n",
    "        edges.extend(vals)\n",
    "        receivers.extend(np.repeat(j + n, len(c)))\n",
    "\n",
    "    assert len(nodes) == n_node\n",
    "    assert len(receivers) == len(senders)\n",
    "    assert len(senders) == len(edges)\n",
    "    assert len(edges) == n_edge\n",
    "\n",
    "    graph = jraph.GraphsTuple(\n",
    "        n_node=np.asarray([n_node]),\n",
    "        n_edge=np.asarray([n_edge]),\n",
    "        edges=np.eye(2)[edges],\n",
    "        nodes=np.eye(2)[nodes],\n",
    "        globals=None,\n",
    "        senders=np.asarray(senders),\n",
    "        receivers=np.asarray(receivers),\n",
    "    )\n",
    "\n",
    "    # padding done in case we want to jit the graph, this is relevant mostly for training the gnn model, not for\n",
    "    # executing moser's walk on single instances\n",
    "\n",
    "    if pad_nodes > n_node or pad_edges > n_edge:\n",
    "        n_node = max(pad_nodes, n_node)\n",
    "        n_edge = max(pad_edges, n_edge)\n",
    "        graph = jraph.pad_with_graphs(\n",
    "            graph, n_node, n_edge\n",
    "        )\n",
    "\n",
    "    # For the loss calculation we create a mask for the nodes, which masks\n",
    "    # the constraint nodes and the padding nodes.\n",
    "\n",
    "    mask = (np.arange(pad_nodes) < n).astype(np.int32)\n",
    "\n",
    "    return HashableSATProblem(\n",
    "        graph=graph,\n",
    "        mask=mask,\n",
    "        clause_lengths=clause_lengths,\n",
    "        params=(n, m, k)\n",
    "    )\n",
    "\n",
    "@partial(jax.jit, static_argnames=(\"problem\",))\n",
    "def violated_constraints(problem: SATProblem, assignment):\n",
    "    graph = problem.graph\n",
    "    edge_is_violated = jnp.mod(graph.edges[:, 1] + assignment[graph.senders].T, 2)\n",
    "\n",
    "    e = len(graph.edges)\n",
    "    _, m, k = problem.params\n",
    "    edge_mask_sp = BCOO(\n",
    "        (np.ones(e), np.column_stack((np.arange(e), graph.receivers))), shape=(e, m)\n",
    "    )\n",
    "\n",
    "    violated_constraint_edges = edge_is_violated @ edge_mask_sp  # (,x) @ (x,m)  = (,m)\n",
    "    constraint_is_violated = violated_constraint_edges == jnp.asarray(problem.clause_lengths)\n",
    "\n",
    "    # if all clauses have the same length, then we could implement the above simply as\n",
    "    # constraint_is_violated = (\n",
    "    #     jax.vmap(jnp.sum)(jnp.reshape(edge_is_violated, (m, k))) == k\n",
    "    # )\n",
    "    return constraint_is_violated"
   ]
  },
  {
   "cell_type": "code",
   "execution_count": 3,
   "outputs": [],
   "source": [
    "test_cnf = get_problem_from_cnf(CNF(from_file=\"../Data/BroadcastTestSet/41-20486.cnf\"))\n",
    "n,m,k = test_cnf.params\n",
    "np.random.seed(42)\n",
    "assignment = np.random.randint(0,2,n)"
   ],
   "metadata": {
    "collapsed": false,
    "pycharm": {
     "name": "#%%\n"
    }
   }
  },
  {
   "cell_type": "code",
   "execution_count": 4,
   "outputs": [
    {
     "name": "stderr",
     "output_type": "stream",
     "text": [
      "/var/folders/4s/mnw4xd1129g6vmrwysfzd97r0000gp/T/ipykernel_92120/371944591.py:5: DeprecationWarning: tostring() is deprecated. Use tobytes() instead.\n",
      "  return hash((self.graph.senders.tostring(),\n",
      "/var/folders/4s/mnw4xd1129g6vmrwysfzd97r0000gp/T/ipykernel_92120/371944591.py:6: DeprecationWarning: tostring() is deprecated. Use tobytes() instead.\n",
      "  self.graph.receivers.tostring(),\n",
      "/var/folders/4s/mnw4xd1129g6vmrwysfzd97r0000gp/T/ipykernel_92120/371944591.py:7: DeprecationWarning: tostring() is deprecated. Use tobytes() instead.\n",
      "  self.graph.edges.tostring(),\n"
     ]
    },
    {
     "name": "stdout",
     "output_type": "stream",
     "text": [
      "10 ms ± 465 µs per loop (mean ± std. dev. of 7 runs, 1 loop each)\n"
     ]
    }
   ],
   "source": [
    "%timeit violated_constraints(test_cnf, assignment).block_until_ready()"
   ],
   "metadata": {
    "collapsed": false,
    "pycharm": {
     "name": "#%%\n"
    }
   }
  },
  {
   "cell_type": "code",
   "execution_count": null,
   "outputs": [],
   "source": [],
   "metadata": {
    "collapsed": false,
    "pycharm": {
     "name": "#%%\n"
    }
   }
  }
 ],
 "metadata": {
  "kernelspec": {
   "display_name": "Python 3",
   "language": "python",
   "name": "python3"
  },
  "language_info": {
   "codemirror_mode": {
    "name": "ipython",
    "version": 2
   },
   "file_extension": ".py",
   "mimetype": "text/x-python",
   "name": "python",
   "nbconvert_exporter": "python",
   "pygments_lexer": "ipython2",
   "version": "2.7.6"
  }
 },
 "nbformat": 4,
 "nbformat_minor": 0
}