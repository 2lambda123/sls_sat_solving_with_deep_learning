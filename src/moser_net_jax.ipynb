{
 "cells": [
  {
   "cell_type": "code",
   "execution_count": 1,
   "outputs": [],
   "source": [
    "import numpy as n\n",
    "%load_ext autoreload\n",
    "%autoreload 2"
   ],
   "metadata": {
    "collapsed": false,
    "pycharm": {
     "name": "#%%\n"
    }
   }
  },
  {
   "cell_type": "code",
   "execution_count": 2,
   "outputs": [],
   "source": [
    "# import jax.tools.colab_tpu\n",
    "# jax.tools.colab_tpu.setup_tpu()"
   ],
   "metadata": {
    "collapsed": false,
    "pycharm": {
     "name": "#%%\n"
    }
   }
  },
  {
   "cell_type": "code",
   "execution_count": 3,
   "outputs": [],
   "source": [
    "from model import train_model\n",
    "from constraint_problems import get_problem_from_cnf\n",
    "from random_walk import moser_walk_sampler\n",
    "import jax"
   ],
   "metadata": {
    "collapsed": false,
    "pycharm": {
     "name": "#%%\n"
    }
   }
  },
  {
   "cell_type": "code",
   "execution_count": 49,
   "outputs": [],
   "source": [
    "from pysat.formula import CNF\n",
    "import glob\n",
    "instances = [get_problem_from_cnf(CNF(from_file=f)) for f in glob.glob('../Data/uf20-91/*.cnf')]\n",
    "train_instances, test_instances = instances[:950],instances[950:]"
   ],
   "metadata": {
    "collapsed": false,
    "pycharm": {
     "name": "#%%\n"
    }
   }
  },
  {
   "cell_type": "code",
   "execution_count": 56,
   "outputs": [
    {
     "ename": "KeyboardInterrupt",
     "evalue": "",
     "output_type": "error",
     "traceback": [
      "\u001B[0;31m---------------------------------------------------------------------------\u001B[0m",
      "\u001B[0;31mKeyboardInterrupt\u001B[0m                         Traceback (most recent call last)",
      "Cell \u001B[0;32mIn [56], line 1\u001B[0m\n\u001B[0;32m----> 1\u001B[0m \u001B[43mtrain_model\u001B[49m\u001B[43m(\u001B[49m\u001B[38;5;241;43m10\u001B[39;49m\u001B[43m,\u001B[49m\u001B[38;5;241;43m0.1\u001B[39;49m\u001B[43m,\u001B[49m\u001B[43m \u001B[49m\u001B[43mtrain_instances\u001B[49m\u001B[43m,\u001B[49m\u001B[43m \u001B[49m\u001B[43mtest_instances\u001B[49m\u001B[43m)\u001B[49m\n",
      "File \u001B[0;32m~/Documents/Programming/Moser/src/model.py:110\u001B[0m, in \u001B[0;36mtrain_model\u001B[0;34m(sample_steps, field_strength, train_dataset, test_dataset)\u001B[0m\n\u001B[1;32m    104\u001B[0m params, opt_state \u001B[38;5;241m=\u001B[39m update(\n\u001B[1;32m    105\u001B[0m     sample_steps, field_strength, params, opt_state, instance\n\u001B[1;32m    106\u001B[0m )\n\u001B[1;32m    107\u001B[0m \u001B[38;5;28;01mif\u001B[39;00m i \u001B[38;5;241m%\u001B[39m \u001B[38;5;241m10\u001B[39m \u001B[38;5;241m==\u001B[39m \u001B[38;5;241m0\u001B[39m:\n\u001B[1;32m    108\u001B[0m     test_loss \u001B[38;5;241m=\u001B[39m jnp\u001B[38;5;241m.\u001B[39mmean(\n\u001B[1;32m    109\u001B[0m         jnp\u001B[38;5;241m.\u001B[39masarray(\n\u001B[0;32m--> 110\u001B[0m             [\n\u001B[1;32m    111\u001B[0m                 unsupervised_prediction_loss(\n\u001B[1;32m    112\u001B[0m                     sample_steps, field_strength, params, p\n\u001B[1;32m    113\u001B[0m                 )\n\u001B[1;32m    114\u001B[0m                 \u001B[38;5;28;01mfor\u001B[39;00m p \u001B[38;5;129;01min\u001B[39;00m test_dataset\n\u001B[1;32m    115\u001B[0m             ]\n\u001B[1;32m    116\u001B[0m         )\n\u001B[1;32m    117\u001B[0m     )\u001B[38;5;241m.\u001B[39mitem()\n\u001B[1;32m    118\u001B[0m     \u001B[38;5;28mprint\u001B[39m(\u001B[38;5;124m\"\u001B[39m\u001B[38;5;124mstep \u001B[39m\u001B[38;5;132;01m%r\u001B[39;00m\u001B[38;5;124m loss train \u001B[39m\u001B[38;5;132;01m%r\u001B[39;00m\u001B[38;5;124m test \u001B[39m\u001B[38;5;132;01m%r\u001B[39;00m\u001B[38;5;124m\"\u001B[39m, i, test_loss)\n\u001B[1;32m    119\u001B[0m     \u001B[38;5;66;03m# logging.info(\"step %r loss train %r test %r\", step, train_loss, test_loss)\u001B[39;00m\n",
      "File \u001B[0;32m~/Documents/Programming/Moser/src/model.py:111\u001B[0m, in \u001B[0;36m<listcomp>\u001B[0;34m(.0)\u001B[0m\n\u001B[1;32m    104\u001B[0m params, opt_state \u001B[38;5;241m=\u001B[39m update(\n\u001B[1;32m    105\u001B[0m     sample_steps, field_strength, params, opt_state, instance\n\u001B[1;32m    106\u001B[0m )\n\u001B[1;32m    107\u001B[0m \u001B[38;5;28;01mif\u001B[39;00m i \u001B[38;5;241m%\u001B[39m \u001B[38;5;241m10\u001B[39m \u001B[38;5;241m==\u001B[39m \u001B[38;5;241m0\u001B[39m:\n\u001B[1;32m    108\u001B[0m     test_loss \u001B[38;5;241m=\u001B[39m jnp\u001B[38;5;241m.\u001B[39mmean(\n\u001B[1;32m    109\u001B[0m         jnp\u001B[38;5;241m.\u001B[39masarray(\n\u001B[1;32m    110\u001B[0m             [\n\u001B[0;32m--> 111\u001B[0m                 \u001B[43munsupervised_prediction_loss\u001B[49m\u001B[43m(\u001B[49m\n\u001B[1;32m    112\u001B[0m \u001B[43m                    \u001B[49m\u001B[43msample_steps\u001B[49m\u001B[43m,\u001B[49m\u001B[43m \u001B[49m\u001B[43mfield_strength\u001B[49m\u001B[43m,\u001B[49m\u001B[43m \u001B[49m\u001B[43mparams\u001B[49m\u001B[43m,\u001B[49m\u001B[43m \u001B[49m\u001B[43mp\u001B[49m\n\u001B[1;32m    113\u001B[0m \u001B[43m                \u001B[49m\u001B[43m)\u001B[49m\n\u001B[1;32m    114\u001B[0m                 \u001B[38;5;28;01mfor\u001B[39;00m p \u001B[38;5;129;01min\u001B[39;00m test_dataset\n\u001B[1;32m    115\u001B[0m             ]\n\u001B[1;32m    116\u001B[0m         )\n\u001B[1;32m    117\u001B[0m     )\u001B[38;5;241m.\u001B[39mitem()\n\u001B[1;32m    118\u001B[0m     \u001B[38;5;28mprint\u001B[39m(\u001B[38;5;124m\"\u001B[39m\u001B[38;5;124mstep \u001B[39m\u001B[38;5;132;01m%r\u001B[39;00m\u001B[38;5;124m loss train \u001B[39m\u001B[38;5;132;01m%r\u001B[39;00m\u001B[38;5;124m test \u001B[39m\u001B[38;5;132;01m%r\u001B[39;00m\u001B[38;5;124m\"\u001B[39m, i, test_loss)\n\u001B[1;32m    119\u001B[0m     \u001B[38;5;66;03m# logging.info(\"step %r loss train %r test %r\", step, train_loss, test_loss)\u001B[39;00m\n",
      "File \u001B[0;32m~/Documents/Programming/Moser/src/model.py:81\u001B[0m, in \u001B[0;36mtrain_model.<locals>.unsupervised_prediction_loss\u001B[0;34m(s, f, ps, problem)\u001B[0m\n\u001B[1;32m     78\u001B[0m \u001B[38;5;66;03m# here we feed the model the second column of the output, since that is the probability that a \"1\" assignment\u001B[39;00m\n\u001B[1;32m     79\u001B[0m \u001B[38;5;66;03m# for each variable should be drawn\u001B[39;00m\n\u001B[1;32m     80\u001B[0m model_probs \u001B[38;5;241m=\u001B[39m jax\u001B[38;5;241m.\u001B[39mnn\u001B[38;5;241m.\u001B[39msoftmax(logits)[: problem\u001B[38;5;241m.\u001B[39mparams[\u001B[38;5;241m0\u001B[39m]][:, \u001B[38;5;241m1\u001B[39m]\n\u001B[0;32m---> 81\u001B[0m trajectory, energies \u001B[38;5;241m=\u001B[39m \u001B[43mmoser_walk_sampler\u001B[49m\u001B[43m(\u001B[49m\u001B[43mmodel_probs\u001B[49m\u001B[43m,\u001B[49m\u001B[43m \u001B[49m\u001B[43mproblem\u001B[49m\u001B[43m,\u001B[49m\u001B[43m \u001B[49m\u001B[43ms\u001B[49m\u001B[43m)\u001B[49m\n\u001B[1;32m     82\u001B[0m one_hot_encoded_trajectories \u001B[38;5;241m=\u001B[39m jnp\u001B[38;5;241m.\u001B[39meye(\u001B[38;5;241m2\u001B[39m)[trajectory\u001B[38;5;241m.\u001B[39mastype(dtype\u001B[38;5;241m=\u001B[39mnp\u001B[38;5;241m.\u001B[39mint32)]\n\u001B[1;32m     83\u001B[0m trajectory_log_probs \u001B[38;5;241m=\u001B[39m jnp\u001B[38;5;241m.\u001B[39mtensordot(\n\u001B[1;32m     84\u001B[0m     one_hot_encoded_trajectories,\n\u001B[1;32m     85\u001B[0m     jax\u001B[38;5;241m.\u001B[39mnn\u001B[38;5;241m.\u001B[39mlog_softmax(logits)[: problem\u001B[38;5;241m.\u001B[39mparams[\u001B[38;5;241m0\u001B[39m]],\n\u001B[1;32m     86\u001B[0m     \u001B[38;5;241m2\u001B[39m,\n\u001B[1;32m     87\u001B[0m )\n",
      "File \u001B[0;32m~/Documents/Programming/Moser/src/random_walk.py:44\u001B[0m, in \u001B[0;36mmoser_walk_sampler\u001B[0;34m(weights, problem, n_steps)\u001B[0m\n\u001B[1;32m     42\u001B[0m random_assignments \u001B[38;5;241m=\u001B[39m jax\u001B[38;5;241m.\u001B[39mrandom\u001B[38;5;241m.\u001B[39mbernoulli(rng_key, weights, (n_steps, n))\n\u001B[1;32m     43\u001B[0m init_energies \u001B[38;5;241m=\u001B[39m np\u001B[38;5;241m.\u001B[39mzeros(n_steps, dtype\u001B[38;5;241m=\u001B[39mnp\u001B[38;5;241m.\u001B[39mint32)\n\u001B[0;32m---> 44\u001B[0m trajectory, energy \u001B[38;5;241m=\u001B[39m \u001B[43mjax\u001B[49m\u001B[38;5;241;43m.\u001B[39;49m\u001B[43mlax\u001B[49m\u001B[38;5;241;43m.\u001B[39;49m\u001B[43mfori_loop\u001B[49m\u001B[43m(\u001B[49m\n\u001B[1;32m     45\u001B[0m \u001B[43m    \u001B[49m\u001B[38;5;241;43m0\u001B[39;49m\u001B[43m,\u001B[49m\u001B[43m \u001B[49m\u001B[43mn_steps\u001B[49m\u001B[43m,\u001B[49m\u001B[43m \u001B[49m\u001B[43mpartial\u001B[49m\u001B[43m(\u001B[49m\u001B[43mstep\u001B[49m\u001B[43m,\u001B[49m\u001B[43m \u001B[49m\u001B[43mprob\u001B[49m\u001B[38;5;241;43m=\u001B[39;49m\u001B[43mproblem\u001B[49m\u001B[43m)\u001B[49m\u001B[43m,\u001B[49m\u001B[43m \u001B[49m\u001B[43m(\u001B[49m\u001B[43mrandom_assignments\u001B[49m\u001B[43m,\u001B[49m\u001B[43m \u001B[49m\u001B[43minit_energies\u001B[49m\u001B[43m)\u001B[49m\u001B[43m,\u001B[49m\n\u001B[1;32m     46\u001B[0m \u001B[43m\u001B[49m\u001B[43m)\u001B[49m\n\u001B[1;32m     48\u001B[0m \u001B[38;5;28;01mreturn\u001B[39;00m trajectory, energy\n",
      "    \u001B[0;31m[... skipping hidden 1 frame]\u001B[0m\n",
      "File \u001B[0;32m~/opt/anaconda3/envs/moser/lib/python3.10/site-packages/jax/_src/lax/control_flow/loops.py:1689\u001B[0m, in \u001B[0;36mfori_loop\u001B[0;34m(lower, upper, body_fun, init_val)\u001B[0m\n\u001B[1;32m   1685\u001B[0m   \u001B[38;5;28;01mif\u001B[39;00m config\u001B[38;5;241m.\u001B[39mjax_disable_jit \u001B[38;5;129;01mand\u001B[39;00m upper_ \u001B[38;5;241m==\u001B[39m lower_:\n\u001B[1;32m   1686\u001B[0m     \u001B[38;5;66;03m# non-jit implementation of scan does not support length=0\u001B[39;00m\n\u001B[1;32m   1687\u001B[0m     \u001B[38;5;28;01mreturn\u001B[39;00m init_val\n\u001B[0;32m-> 1689\u001B[0m   (_, result), _ \u001B[38;5;241m=\u001B[39m \u001B[43mscan\u001B[49m\u001B[43m(\u001B[49m\u001B[43m_fori_scan_body_fun\u001B[49m\u001B[43m(\u001B[49m\u001B[43mbody_fun\u001B[49m\u001B[43m)\u001B[49m\u001B[43m,\u001B[49m\u001B[43m \u001B[49m\u001B[43m(\u001B[49m\u001B[43mlower_\u001B[49m\u001B[43m,\u001B[49m\u001B[43m \u001B[49m\u001B[43minit_val\u001B[49m\u001B[43m)\u001B[49m\u001B[43m,\u001B[49m\n\u001B[1;32m   1690\u001B[0m \u001B[43m                        \u001B[49m\u001B[38;5;28;43;01mNone\u001B[39;49;00m\u001B[43m,\u001B[49m\u001B[43m \u001B[49m\u001B[43mlength\u001B[49m\u001B[38;5;241;43m=\u001B[39;49m\u001B[43mupper_\u001B[49m\u001B[43m \u001B[49m\u001B[38;5;241;43m-\u001B[39;49m\u001B[43m \u001B[49m\u001B[43mlower_\u001B[49m\u001B[43m)\u001B[49m\n\u001B[1;32m   1691\u001B[0m \u001B[38;5;28;01melse\u001B[39;00m:\n\u001B[1;32m   1692\u001B[0m   _, _, result \u001B[38;5;241m=\u001B[39m while_loop(_fori_cond_fun, _fori_body_fun(body_fun),\n\u001B[1;32m   1693\u001B[0m                             (lower, upper, init_val))\n",
      "    \u001B[0;31m[... skipping hidden 1 frame]\u001B[0m\n",
      "File \u001B[0;32m~/opt/anaconda3/envs/moser/lib/python3.10/site-packages/jax/_src/lax/control_flow/loops.py:275\u001B[0m, in \u001B[0;36mscan\u001B[0;34m(f, init, xs, length, reverse, unroll)\u001B[0m\n\u001B[1;32m    271\u001B[0m \u001B[38;5;28;01mif\u001B[39;00m disallowed_effects:\n\u001B[1;32m    272\u001B[0m   \u001B[38;5;28;01mraise\u001B[39;00m \u001B[38;5;167;01mNotImplementedError\u001B[39;00m(\n\u001B[1;32m    273\u001B[0m       \u001B[38;5;124mf\u001B[39m\u001B[38;5;124m'\u001B[39m\u001B[38;5;124mEffects not supported in `scan`: \u001B[39m\u001B[38;5;132;01m{\u001B[39;00mdisallowed_effects\u001B[38;5;132;01m}\u001B[39;00m\u001B[38;5;124m'\u001B[39m)\n\u001B[0;32m--> 275\u001B[0m out \u001B[38;5;241m=\u001B[39m \u001B[43mscan_p\u001B[49m\u001B[38;5;241;43m.\u001B[39;49m\u001B[43mbind\u001B[49m\u001B[43m(\u001B[49m\u001B[38;5;241;43m*\u001B[39;49m\u001B[43mconsts\u001B[49m\u001B[43m,\u001B[49m\u001B[43m \u001B[49m\u001B[38;5;241;43m*\u001B[39;49m\u001B[43min_flat\u001B[49m\u001B[43m,\u001B[49m\n\u001B[1;32m    276\u001B[0m \u001B[43m                  \u001B[49m\u001B[43mreverse\u001B[49m\u001B[38;5;241;43m=\u001B[39;49m\u001B[43mreverse\u001B[49m\u001B[43m,\u001B[49m\u001B[43m \u001B[49m\u001B[43mlength\u001B[49m\u001B[38;5;241;43m=\u001B[39;49m\u001B[43mlength\u001B[49m\u001B[43m,\u001B[49m\u001B[43m \u001B[49m\u001B[43mjaxpr\u001B[49m\u001B[38;5;241;43m=\u001B[39;49m\u001B[43mjaxpr\u001B[49m\u001B[43m,\u001B[49m\n\u001B[1;32m    277\u001B[0m \u001B[43m                  \u001B[49m\u001B[43mnum_consts\u001B[49m\u001B[38;5;241;43m=\u001B[39;49m\u001B[38;5;28;43mlen\u001B[39;49m\u001B[43m(\u001B[49m\u001B[43mconsts\u001B[49m\u001B[43m)\u001B[49m\u001B[43m,\u001B[49m\u001B[43m \u001B[49m\u001B[43mnum_carry\u001B[49m\u001B[38;5;241;43m=\u001B[39;49m\u001B[38;5;28;43mlen\u001B[39;49m\u001B[43m(\u001B[49m\u001B[43minit_flat\u001B[49m\u001B[43m)\u001B[49m\u001B[43m,\u001B[49m\n\u001B[1;32m    278\u001B[0m \u001B[43m                  \u001B[49m\u001B[43mlinear\u001B[49m\u001B[38;5;241;43m=\u001B[39;49m\u001B[43m(\u001B[49m\u001B[38;5;28;43;01mFalse\u001B[39;49;00m\u001B[43m,\u001B[49m\u001B[43m)\u001B[49m\u001B[43m \u001B[49m\u001B[38;5;241;43m*\u001B[39;49m\u001B[43m \u001B[49m\u001B[43m(\u001B[49m\u001B[38;5;28;43mlen\u001B[39;49m\u001B[43m(\u001B[49m\u001B[43mconsts\u001B[49m\u001B[43m)\u001B[49m\u001B[43m \u001B[49m\u001B[38;5;241;43m+\u001B[39;49m\u001B[43m \u001B[49m\u001B[38;5;28;43mlen\u001B[39;49m\u001B[43m(\u001B[49m\u001B[43min_flat\u001B[49m\u001B[43m)\u001B[49m\u001B[43m)\u001B[49m\u001B[43m,\u001B[49m\n\u001B[1;32m    279\u001B[0m \u001B[43m                  \u001B[49m\u001B[43munroll\u001B[49m\u001B[38;5;241;43m=\u001B[39;49m\u001B[43munroll\u001B[49m\u001B[43m)\u001B[49m\n\u001B[1;32m    280\u001B[0m \u001B[38;5;28;01mreturn\u001B[39;00m tree_unflatten(out_tree, out)\n",
      "File \u001B[0;32m~/opt/anaconda3/envs/moser/lib/python3.10/site-packages/jax/_src/lax/control_flow/loops.py:1000\u001B[0m, in \u001B[0;36mscan_bind\u001B[0;34m(*args, **params)\u001B[0m\n\u001B[1;32m    998\u001B[0m   _scan_typecheck(\u001B[38;5;28;01mTrue\u001B[39;00m, \u001B[38;5;241m*\u001B[39min_atoms, \u001B[38;5;241m*\u001B[39m\u001B[38;5;241m*\u001B[39mparams)\n\u001B[1;32m    999\u001B[0m   core\u001B[38;5;241m.\u001B[39mcheck_jaxpr(params[\u001B[38;5;124m'\u001B[39m\u001B[38;5;124mjaxpr\u001B[39m\u001B[38;5;124m'\u001B[39m]\u001B[38;5;241m.\u001B[39mjaxpr)\n\u001B[0;32m-> 1000\u001B[0m \u001B[38;5;28;01mreturn\u001B[39;00m \u001B[43mcore\u001B[49m\u001B[38;5;241;43m.\u001B[39;49m\u001B[43mAxisPrimitive\u001B[49m\u001B[38;5;241;43m.\u001B[39;49m\u001B[43mbind\u001B[49m\u001B[43m(\u001B[49m\u001B[43mscan_p\u001B[49m\u001B[43m,\u001B[49m\u001B[43m \u001B[49m\u001B[38;5;241;43m*\u001B[39;49m\u001B[43margs\u001B[49m\u001B[43m,\u001B[49m\u001B[43m \u001B[49m\u001B[38;5;241;43m*\u001B[39;49m\u001B[38;5;241;43m*\u001B[39;49m\u001B[43mparams\u001B[49m\u001B[43m)\u001B[49m\n",
      "File \u001B[0;32m~/opt/anaconda3/envs/moser/lib/python3.10/site-packages/jax/core.py:2366\u001B[0m, in \u001B[0;36mAxisPrimitive.bind\u001B[0;34m(self, *args, **params)\u001B[0m\n\u001B[1;32m   2362\u001B[0m axis_main \u001B[38;5;241m=\u001B[39m \u001B[38;5;28mmax\u001B[39m((axis_frame(a)\u001B[38;5;241m.\u001B[39mmain_trace \u001B[38;5;28;01mfor\u001B[39;00m a \u001B[38;5;129;01min\u001B[39;00m used_axis_names(\u001B[38;5;28mself\u001B[39m, params)),\n\u001B[1;32m   2363\u001B[0m                 default\u001B[38;5;241m=\u001B[39m\u001B[38;5;28;01mNone\u001B[39;00m, key\u001B[38;5;241m=\u001B[39m\u001B[38;5;28;01mlambda\u001B[39;00m t: \u001B[38;5;28mgetattr\u001B[39m(t, \u001B[38;5;124m'\u001B[39m\u001B[38;5;124mlevel\u001B[39m\u001B[38;5;124m'\u001B[39m, \u001B[38;5;241m-\u001B[39m\u001B[38;5;241m1\u001B[39m))\n\u001B[1;32m   2364\u001B[0m top_trace \u001B[38;5;241m=\u001B[39m (top_trace \u001B[38;5;28;01mif\u001B[39;00m \u001B[38;5;129;01mnot\u001B[39;00m axis_main \u001B[38;5;129;01mor\u001B[39;00m axis_main\u001B[38;5;241m.\u001B[39mlevel \u001B[38;5;241m<\u001B[39m top_trace\u001B[38;5;241m.\u001B[39mlevel\n\u001B[1;32m   2365\u001B[0m              \u001B[38;5;28;01melse\u001B[39;00m axis_main\u001B[38;5;241m.\u001B[39mwith_cur_sublevel())\n\u001B[0;32m-> 2366\u001B[0m \u001B[38;5;28;01mreturn\u001B[39;00m \u001B[38;5;28;43mself\u001B[39;49m\u001B[38;5;241;43m.\u001B[39;49m\u001B[43mbind_with_trace\u001B[49m\u001B[43m(\u001B[49m\u001B[43mtop_trace\u001B[49m\u001B[43m,\u001B[49m\u001B[43m \u001B[49m\u001B[43margs\u001B[49m\u001B[43m,\u001B[49m\u001B[43m \u001B[49m\u001B[43mparams\u001B[49m\u001B[43m)\u001B[49m\n",
      "File \u001B[0;32m~/opt/anaconda3/envs/moser/lib/python3.10/site-packages/jax/core.py:331\u001B[0m, in \u001B[0;36mPrimitive.bind_with_trace\u001B[0;34m(self, trace, args, params)\u001B[0m\n\u001B[1;32m    330\u001B[0m \u001B[38;5;28;01mdef\u001B[39;00m \u001B[38;5;21mbind_with_trace\u001B[39m(\u001B[38;5;28mself\u001B[39m, trace, args, params):\n\u001B[0;32m--> 331\u001B[0m   out \u001B[38;5;241m=\u001B[39m \u001B[43mtrace\u001B[49m\u001B[38;5;241;43m.\u001B[39;49m\u001B[43mprocess_primitive\u001B[49m\u001B[43m(\u001B[49m\u001B[38;5;28;43mself\u001B[39;49m\u001B[43m,\u001B[49m\u001B[43m \u001B[49m\u001B[38;5;28;43mmap\u001B[39;49m\u001B[43m(\u001B[49m\u001B[43mtrace\u001B[49m\u001B[38;5;241;43m.\u001B[39;49m\u001B[43mfull_raise\u001B[49m\u001B[43m,\u001B[49m\u001B[43m \u001B[49m\u001B[43margs\u001B[49m\u001B[43m)\u001B[49m\u001B[43m,\u001B[49m\u001B[43m \u001B[49m\u001B[43mparams\u001B[49m\u001B[43m)\u001B[49m\n\u001B[1;32m    332\u001B[0m   \u001B[38;5;28;01mreturn\u001B[39;00m \u001B[38;5;28mmap\u001B[39m(full_lower, out) \u001B[38;5;28;01mif\u001B[39;00m \u001B[38;5;28mself\u001B[39m\u001B[38;5;241m.\u001B[39mmultiple_results \u001B[38;5;28;01melse\u001B[39;00m full_lower(out)\n",
      "File \u001B[0;32m~/opt/anaconda3/envs/moser/lib/python3.10/site-packages/jax/core.py:698\u001B[0m, in \u001B[0;36mEvalTrace.process_primitive\u001B[0;34m(self, primitive, tracers, params)\u001B[0m\n\u001B[1;32m    697\u001B[0m \u001B[38;5;28;01mdef\u001B[39;00m \u001B[38;5;21mprocess_primitive\u001B[39m(\u001B[38;5;28mself\u001B[39m, primitive, tracers, params):\n\u001B[0;32m--> 698\u001B[0m   \u001B[38;5;28;01mreturn\u001B[39;00m \u001B[43mprimitive\u001B[49m\u001B[38;5;241;43m.\u001B[39;49m\u001B[43mimpl\u001B[49m\u001B[43m(\u001B[49m\u001B[38;5;241;43m*\u001B[39;49m\u001B[43mtracers\u001B[49m\u001B[43m,\u001B[49m\u001B[43m \u001B[49m\u001B[38;5;241;43m*\u001B[39;49m\u001B[38;5;241;43m*\u001B[39;49m\u001B[43mparams\u001B[49m\u001B[43m)\u001B[49m\n",
      "File \u001B[0;32m~/opt/anaconda3/envs/moser/lib/python3.10/site-packages/jax/_src/dispatch.py:109\u001B[0m, in \u001B[0;36mapply_primitive\u001B[0;34m(prim, *args, **params)\u001B[0m\n\u001B[1;32m    107\u001B[0m \u001B[38;5;28;01mdef\u001B[39;00m \u001B[38;5;21mapply_primitive\u001B[39m(prim, \u001B[38;5;241m*\u001B[39margs, \u001B[38;5;241m*\u001B[39m\u001B[38;5;241m*\u001B[39mparams):\n\u001B[1;32m    108\u001B[0m   \u001B[38;5;124;03m\"\"\"Impl rule that compiles and runs a single primitive 'prim' using XLA.\"\"\"\u001B[39;00m\n\u001B[0;32m--> 109\u001B[0m   compiled_fun \u001B[38;5;241m=\u001B[39m \u001B[43mxla_primitive_callable\u001B[49m\u001B[43m(\u001B[49m\u001B[43mprim\u001B[49m\u001B[43m,\u001B[49m\u001B[43m \u001B[49m\u001B[38;5;241;43m*\u001B[39;49m\u001B[43munsafe_map\u001B[49m\u001B[43m(\u001B[49m\u001B[43marg_spec\u001B[49m\u001B[43m,\u001B[49m\u001B[43m \u001B[49m\u001B[43margs\u001B[49m\u001B[43m)\u001B[49m\u001B[43m,\u001B[49m\n\u001B[1;32m    110\u001B[0m \u001B[43m                                        \u001B[49m\u001B[38;5;241;43m*\u001B[39;49m\u001B[38;5;241;43m*\u001B[39;49m\u001B[43mparams\u001B[49m\u001B[43m)\u001B[49m\n\u001B[1;32m    111\u001B[0m   \u001B[38;5;28;01mreturn\u001B[39;00m compiled_fun(\u001B[38;5;241m*\u001B[39margs)\n",
      "File \u001B[0;32m~/opt/anaconda3/envs/moser/lib/python3.10/site-packages/jax/_src/util.py:222\u001B[0m, in \u001B[0;36mcache.<locals>.wrap.<locals>.wrapper\u001B[0;34m(*args, **kwargs)\u001B[0m\n\u001B[1;32m    220\u001B[0m   \u001B[38;5;28;01mreturn\u001B[39;00m f(\u001B[38;5;241m*\u001B[39margs, \u001B[38;5;241m*\u001B[39m\u001B[38;5;241m*\u001B[39mkwargs)\n\u001B[1;32m    221\u001B[0m \u001B[38;5;28;01melse\u001B[39;00m:\n\u001B[0;32m--> 222\u001B[0m   \u001B[38;5;28;01mreturn\u001B[39;00m \u001B[43mcached\u001B[49m\u001B[43m(\u001B[49m\u001B[43mconfig\u001B[49m\u001B[38;5;241;43m.\u001B[39;49m\u001B[43m_trace_context\u001B[49m\u001B[43m(\u001B[49m\u001B[43m)\u001B[49m\u001B[43m,\u001B[49m\u001B[43m \u001B[49m\u001B[38;5;241;43m*\u001B[39;49m\u001B[43margs\u001B[49m\u001B[43m,\u001B[49m\u001B[43m \u001B[49m\u001B[38;5;241;43m*\u001B[39;49m\u001B[38;5;241;43m*\u001B[39;49m\u001B[43mkwargs\u001B[49m\u001B[43m)\u001B[49m\n",
      "File \u001B[0;32m~/opt/anaconda3/envs/moser/lib/python3.10/site-packages/jax/_src/util.py:215\u001B[0m, in \u001B[0;36mcache.<locals>.wrap.<locals>.cached\u001B[0;34m(_, *args, **kwargs)\u001B[0m\n\u001B[1;32m    213\u001B[0m \u001B[38;5;129m@functools\u001B[39m\u001B[38;5;241m.\u001B[39mlru_cache(max_size)\n\u001B[1;32m    214\u001B[0m \u001B[38;5;28;01mdef\u001B[39;00m \u001B[38;5;21mcached\u001B[39m(_, \u001B[38;5;241m*\u001B[39margs, \u001B[38;5;241m*\u001B[39m\u001B[38;5;241m*\u001B[39mkwargs):\n\u001B[0;32m--> 215\u001B[0m   \u001B[38;5;28;01mreturn\u001B[39;00m \u001B[43mf\u001B[49m\u001B[43m(\u001B[49m\u001B[38;5;241;43m*\u001B[39;49m\u001B[43margs\u001B[49m\u001B[43m,\u001B[49m\u001B[43m \u001B[49m\u001B[38;5;241;43m*\u001B[39;49m\u001B[38;5;241;43m*\u001B[39;49m\u001B[43mkwargs\u001B[49m\u001B[43m)\u001B[49m\n",
      "File \u001B[0;32m~/opt/anaconda3/envs/moser/lib/python3.10/site-packages/jax/_src/dispatch.py:193\u001B[0m, in \u001B[0;36mxla_primitive_callable\u001B[0;34m(prim, *arg_specs, **params)\u001B[0m\n\u001B[1;32m    191\u001B[0m   \u001B[38;5;28;01melse\u001B[39;00m:\n\u001B[1;32m    192\u001B[0m     \u001B[38;5;28;01mreturn\u001B[39;00m out,\n\u001B[0;32m--> 193\u001B[0m compiled \u001B[38;5;241m=\u001B[39m \u001B[43m_xla_callable_uncached\u001B[49m\u001B[43m(\u001B[49m\u001B[43mlu\u001B[49m\u001B[38;5;241;43m.\u001B[39;49m\u001B[43mwrap_init\u001B[49m\u001B[43m(\u001B[49m\u001B[43mprim_fun\u001B[49m\u001B[43m)\u001B[49m\u001B[43m,\u001B[49m\u001B[43m \u001B[49m\u001B[43mdevice\u001B[49m\u001B[43m,\u001B[49m\u001B[43m \u001B[49m\u001B[38;5;28;43;01mNone\u001B[39;49;00m\u001B[43m,\u001B[49m\n\u001B[1;32m    194\u001B[0m \u001B[43m                                  \u001B[49m\u001B[43mprim\u001B[49m\u001B[38;5;241;43m.\u001B[39;49m\u001B[43mname\u001B[49m\u001B[43m,\u001B[49m\u001B[43m \u001B[49m\u001B[43mdonated_invars\u001B[49m\u001B[43m,\u001B[49m\u001B[43m \u001B[49m\u001B[38;5;28;43;01mFalse\u001B[39;49;00m\u001B[43m,\u001B[49m\u001B[43m \u001B[49m\u001B[38;5;241;43m*\u001B[39;49m\u001B[43marg_specs\u001B[49m\u001B[43m)\u001B[49m\n\u001B[1;32m    195\u001B[0m \u001B[38;5;28;01mif\u001B[39;00m \u001B[38;5;129;01mnot\u001B[39;00m prim\u001B[38;5;241m.\u001B[39mmultiple_results:\n\u001B[1;32m    196\u001B[0m   \u001B[38;5;28;01mreturn\u001B[39;00m \u001B[38;5;28;01mlambda\u001B[39;00m \u001B[38;5;241m*\u001B[39margs, \u001B[38;5;241m*\u001B[39m\u001B[38;5;241m*\u001B[39mkw: compiled(\u001B[38;5;241m*\u001B[39margs, \u001B[38;5;241m*\u001B[39m\u001B[38;5;241m*\u001B[39mkw)[\u001B[38;5;241m0\u001B[39m]\n",
      "File \u001B[0;32m~/opt/anaconda3/envs/moser/lib/python3.10/site-packages/jax/_src/dispatch.py:367\u001B[0m, in \u001B[0;36m_xla_callable_uncached\u001B[0;34m(fun, device, backend, name, donated_invars, keep_unused, *arg_specs)\u001B[0m\n\u001B[1;32m    364\u001B[0m   \u001B[38;5;28;01mreturn\u001B[39;00m computation\u001B[38;5;241m.\u001B[39mcompile(_allow_propagation_to_outputs\u001B[38;5;241m=\u001B[39m\u001B[38;5;28;01mTrue\u001B[39;00m)\u001B[38;5;241m.\u001B[39munsafe_call\n\u001B[1;32m    365\u001B[0m \u001B[38;5;28;01melse\u001B[39;00m:\n\u001B[1;32m    366\u001B[0m   \u001B[38;5;28;01mreturn\u001B[39;00m \u001B[43mlower_xla_callable\u001B[49m\u001B[43m(\u001B[49m\u001B[43mfun\u001B[49m\u001B[43m,\u001B[49m\u001B[43m \u001B[49m\u001B[43mdevice\u001B[49m\u001B[43m,\u001B[49m\u001B[43m \u001B[49m\u001B[43mbackend\u001B[49m\u001B[43m,\u001B[49m\u001B[43m \u001B[49m\u001B[43mname\u001B[49m\u001B[43m,\u001B[49m\u001B[43m \u001B[49m\u001B[43mdonated_invars\u001B[49m\u001B[43m,\u001B[49m\u001B[43m \u001B[49m\u001B[38;5;28;43;01mFalse\u001B[39;49;00m\u001B[43m,\u001B[49m\n\u001B[0;32m--> 367\u001B[0m \u001B[43m                            \u001B[49m\u001B[43mkeep_unused\u001B[49m\u001B[43m,\u001B[49m\u001B[43m \u001B[49m\u001B[38;5;241;43m*\u001B[39;49m\u001B[43marg_specs\u001B[49m\u001B[43m)\u001B[49m\u001B[38;5;241;43m.\u001B[39;49m\u001B[43mcompile\u001B[49m\u001B[43m(\u001B[49m\u001B[43m)\u001B[49m\u001B[38;5;241m.\u001B[39munsafe_call\n",
      "File \u001B[0;32m~/opt/anaconda3/envs/moser/lib/python3.10/site-packages/jax/_src/dispatch.py:977\u001B[0m, in \u001B[0;36mXlaComputation.compile\u001B[0;34m(self)\u001B[0m\n\u001B[1;32m    974\u001B[0m     \u001B[38;5;28mself\u001B[39m\u001B[38;5;241m.\u001B[39m_executable \u001B[38;5;241m=\u001B[39m XlaCompiledComputation\u001B[38;5;241m.\u001B[39mfrom_trivial_jaxpr(\n\u001B[1;32m    975\u001B[0m         \u001B[38;5;241m*\u001B[39m\u001B[38;5;241m*\u001B[39m\u001B[38;5;28mself\u001B[39m\u001B[38;5;241m.\u001B[39mcompile_args)\n\u001B[1;32m    976\u001B[0m   \u001B[38;5;28;01melse\u001B[39;00m:\n\u001B[0;32m--> 977\u001B[0m     \u001B[38;5;28mself\u001B[39m\u001B[38;5;241m.\u001B[39m_executable \u001B[38;5;241m=\u001B[39m \u001B[43mXlaCompiledComputation\u001B[49m\u001B[38;5;241;43m.\u001B[39;49m\u001B[43mfrom_xla_computation\u001B[49m\u001B[43m(\u001B[49m\n\u001B[1;32m    978\u001B[0m \u001B[43m        \u001B[49m\u001B[38;5;28;43mself\u001B[39;49m\u001B[38;5;241;43m.\u001B[39;49m\u001B[43mname\u001B[49m\u001B[43m,\u001B[49m\u001B[43m \u001B[49m\u001B[38;5;28;43mself\u001B[39;49m\u001B[38;5;241;43m.\u001B[39;49m\u001B[43m_hlo\u001B[49m\u001B[43m,\u001B[49m\u001B[43m \u001B[49m\u001B[38;5;28;43mself\u001B[39;49m\u001B[38;5;241;43m.\u001B[39;49m\u001B[43m_in_type\u001B[49m\u001B[43m,\u001B[49m\u001B[43m \u001B[49m\u001B[38;5;28;43mself\u001B[39;49m\u001B[38;5;241;43m.\u001B[39;49m\u001B[43m_out_type\u001B[49m\u001B[43m,\u001B[49m\n\u001B[1;32m    979\u001B[0m \u001B[43m        \u001B[49m\u001B[38;5;241;43m*\u001B[39;49m\u001B[38;5;241;43m*\u001B[39;49m\u001B[38;5;28;43mself\u001B[39;49m\u001B[38;5;241;43m.\u001B[39;49m\u001B[43mcompile_args\u001B[49m\u001B[43m)\u001B[49m\n\u001B[1;32m    981\u001B[0m \u001B[38;5;28;01mreturn\u001B[39;00m \u001B[38;5;28mself\u001B[39m\u001B[38;5;241m.\u001B[39m_executable\n",
      "File \u001B[0;32m~/opt/anaconda3/envs/moser/lib/python3.10/site-packages/jax/_src/dispatch.py:1098\u001B[0m, in \u001B[0;36mXlaCompiledComputation.from_xla_computation\u001B[0;34m(name, xla_computation, in_type, out_type, nreps, device, backend, tuple_args, in_avals, out_avals, has_unordered_effects, ordered_effects, kept_var_idx, keepalive, host_callbacks)\u001B[0m\n\u001B[1;32m   1095\u001B[0m options\u001B[38;5;241m.\u001B[39mparameter_is_tupled_arguments \u001B[38;5;241m=\u001B[39m tuple_args\n\u001B[1;32m   1096\u001B[0m \u001B[38;5;28;01mwith\u001B[39;00m log_elapsed_time(\u001B[38;5;124mf\u001B[39m\u001B[38;5;124m\"\u001B[39m\u001B[38;5;124mFinished XLA compilation of \u001B[39m\u001B[38;5;132;01m{\u001B[39;00mname\u001B[38;5;132;01m}\u001B[39;00m\u001B[38;5;124m \u001B[39m\u001B[38;5;124m\"\u001B[39m\n\u001B[1;32m   1097\u001B[0m                       \u001B[38;5;124m\"\u001B[39m\u001B[38;5;124min \u001B[39m\u001B[38;5;132;01m{elapsed_time}\u001B[39;00m\u001B[38;5;124m sec\u001B[39m\u001B[38;5;124m\"\u001B[39m):\n\u001B[0;32m-> 1098\u001B[0m   compiled \u001B[38;5;241m=\u001B[39m \u001B[43mcompile_or_get_cached\u001B[49m\u001B[43m(\u001B[49m\u001B[43mbackend\u001B[49m\u001B[43m,\u001B[49m\u001B[43m \u001B[49m\u001B[43mxla_computation\u001B[49m\u001B[43m,\u001B[49m\u001B[43m \u001B[49m\u001B[43moptions\u001B[49m\u001B[43m,\u001B[49m\n\u001B[1;32m   1099\u001B[0m \u001B[43m                                   \u001B[49m\u001B[43mhost_callbacks\u001B[49m\u001B[43m)\u001B[49m\n\u001B[1;32m   1100\u001B[0m buffer_counts \u001B[38;5;241m=\u001B[39m get_buffer_counts(out_avals, ordered_effects,\n\u001B[1;32m   1101\u001B[0m                                   has_unordered_effects)\n\u001B[1;32m   1102\u001B[0m execute \u001B[38;5;241m=\u001B[39m _execute_compiled \u001B[38;5;28;01mif\u001B[39;00m nreps \u001B[38;5;241m==\u001B[39m \u001B[38;5;241m1\u001B[39m \u001B[38;5;28;01melse\u001B[39;00m _execute_replicated\n",
      "File \u001B[0;32m~/opt/anaconda3/envs/moser/lib/python3.10/site-packages/jax/_src/dispatch.py:1051\u001B[0m, in \u001B[0;36mcompile_or_get_cached\u001B[0;34m(backend, computation, compile_options, host_callbacks)\u001B[0m\n\u001B[1;32m   1049\u001B[0m \u001B[38;5;28;01mif\u001B[39;00m FLAGS\u001B[38;5;241m.\u001B[39mjax_dump_ir_to:\n\u001B[1;32m   1050\u001B[0m   _dump_ir_to_file(module_name, mlir\u001B[38;5;241m.\u001B[39mmodule_to_string(computation))\n\u001B[0;32m-> 1051\u001B[0m \u001B[38;5;28;01mreturn\u001B[39;00m \u001B[43mbackend_compile\u001B[49m\u001B[43m(\u001B[49m\u001B[43mbackend\u001B[49m\u001B[43m,\u001B[49m\u001B[43m \u001B[49m\u001B[43mserialized_computation\u001B[49m\u001B[43m,\u001B[49m\u001B[43m \u001B[49m\u001B[43mcompile_options\u001B[49m\u001B[43m,\u001B[49m\n\u001B[1;32m   1052\u001B[0m \u001B[43m                       \u001B[49m\u001B[43mhost_callbacks\u001B[49m\u001B[43m)\u001B[49m\n",
      "File \u001B[0;32m~/opt/anaconda3/envs/moser/lib/python3.10/site-packages/jax/_src/profiler.py:313\u001B[0m, in \u001B[0;36mannotate_function.<locals>.wrapper\u001B[0;34m(*args, **kwargs)\u001B[0m\n\u001B[1;32m    310\u001B[0m \u001B[38;5;129m@wraps\u001B[39m(func)\n\u001B[1;32m    311\u001B[0m \u001B[38;5;28;01mdef\u001B[39;00m \u001B[38;5;21mwrapper\u001B[39m(\u001B[38;5;241m*\u001B[39margs, \u001B[38;5;241m*\u001B[39m\u001B[38;5;241m*\u001B[39mkwargs):\n\u001B[1;32m    312\u001B[0m   \u001B[38;5;28;01mwith\u001B[39;00m TraceAnnotation(name, \u001B[38;5;241m*\u001B[39m\u001B[38;5;241m*\u001B[39mdecorator_kwargs):\n\u001B[0;32m--> 313\u001B[0m     \u001B[38;5;28;01mreturn\u001B[39;00m \u001B[43mfunc\u001B[49m\u001B[43m(\u001B[49m\u001B[38;5;241;43m*\u001B[39;49m\u001B[43margs\u001B[49m\u001B[43m,\u001B[49m\u001B[43m \u001B[49m\u001B[38;5;241;43m*\u001B[39;49m\u001B[38;5;241;43m*\u001B[39;49m\u001B[43mkwargs\u001B[49m\u001B[43m)\u001B[49m\n\u001B[1;32m    314\u001B[0m   \u001B[38;5;28;01mreturn\u001B[39;00m wrapper\n",
      "File \u001B[0;32m~/opt/anaconda3/envs/moser/lib/python3.10/site-packages/jax/_src/dispatch.py:993\u001B[0m, in \u001B[0;36mbackend_compile\u001B[0;34m(backend, built_c, options, host_callbacks)\u001B[0m\n\u001B[1;32m    988\u001B[0m   \u001B[38;5;28;01mreturn\u001B[39;00m backend\u001B[38;5;241m.\u001B[39mcompile(built_c, compile_options\u001B[38;5;241m=\u001B[39moptions,\n\u001B[1;32m    989\u001B[0m                          host_callbacks\u001B[38;5;241m=\u001B[39mhost_callbacks)\n\u001B[1;32m    990\u001B[0m \u001B[38;5;66;03m# Some backends don't have `host_callbacks` option yet\u001B[39;00m\n\u001B[1;32m    991\u001B[0m \u001B[38;5;66;03m# TODO(sharadmv): remove this fallback when all backends allow `compile`\u001B[39;00m\n\u001B[1;32m    992\u001B[0m \u001B[38;5;66;03m# to take in `host_callbacks`\u001B[39;00m\n\u001B[0;32m--> 993\u001B[0m \u001B[38;5;28;01mreturn\u001B[39;00m \u001B[43mbackend\u001B[49m\u001B[38;5;241;43m.\u001B[39;49m\u001B[43mcompile\u001B[49m\u001B[43m(\u001B[49m\u001B[43mbuilt_c\u001B[49m\u001B[43m,\u001B[49m\u001B[43m \u001B[49m\u001B[43mcompile_options\u001B[49m\u001B[38;5;241;43m=\u001B[39;49m\u001B[43moptions\u001B[49m\u001B[43m)\u001B[49m\n",
      "\u001B[0;31mKeyboardInterrupt\u001B[0m: "
     ]
    }
   ],
   "source": [
    "train_model(1000,0.1, train_instances, test_instances)"
   ],
   "metadata": {
    "collapsed": false,
    "pycharm": {
     "name": "#%%\n"
    }
   }
  },
  {
   "cell_type": "code",
   "execution_count": 9,
   "outputs": [],
   "source": [
    "from pysat.formula import CNF\n",
    "planning_problem = get_problem_from_cnf(CNF(from_file=\"../Data/blocksworld/medium.cnf\"))"
   ],
   "metadata": {
    "collapsed": false,
    "pycharm": {
     "name": "#%%\n"
    }
   }
  },
  {
   "cell_type": "code",
   "execution_count": 14,
   "outputs": [
    {
     "name": "stdout",
     "output_type": "stream",
     "text": [
      "step %r loss train %r test %r 0 0.6930736303329468\n",
      "step %r loss train %r test %r 10 0.6928116679191589\n",
      "step %r loss train %r test %r 20 0.6922646164894104\n",
      "step %r loss train %r test %r 30 0.6913454532623291\n",
      "step %r loss train %r test %r 40 0.6905084848403931\n"
     ]
    }
   ],
   "source": [
    "network, params = train_model(1000,0.1,[planning_problem], [planning_problem], num_steps=50)"
   ],
   "metadata": {
    "collapsed": false,
    "pycharm": {
     "name": "#%%\n"
    }
   }
  },
  {
   "cell_type": "code",
   "execution_count": 12,
   "outputs": [],
   "source": [
    "prdictions = network.apply(params, planning_problem.graph)\n",
    "weights = jax.nn.softmax(prdictions)[: planning_problem.params[0], 1]\n",
    "trajectory, energies = moser_walk_sampler(weights, planning_problem, 1000)"
   ],
   "metadata": {
    "collapsed": false,
    "pycharm": {
     "name": "#%%\n"
    }
   }
  },
  {
   "cell_type": "code",
   "execution_count": 13,
   "outputs": [
    {
     "data": {
      "text/plain": "DeviceArray([201, 200, 200, 201, 201, 201, 201, 199, 199, 198, 194, 191,\n             191, 196, 196, 197, 197, 196, 193, 193, 187, 186, 183, 211,\n             199, 195, 190, 191, 191, 191, 188, 185, 184, 189, 182, 183,\n             184, 196, 185, 182, 185, 182, 182, 183, 184, 185, 182, 186,\n             187, 186, 186, 186, 186, 186, 190, 188, 188, 187, 182, 182,\n             192, 186, 186, 187, 186, 186, 183, 182, 182, 184, 184, 182,\n             186, 182, 184, 184, 182, 182, 182, 191, 185, 184, 189, 185,\n             184, 184, 189, 189, 185, 182, 182, 182, 182, 186, 184, 184,\n             202, 193, 188, 186, 185, 184, 185, 182, 182, 182, 183, 184,\n             215, 204, 197, 187, 187, 187, 187, 187, 185, 182, 183, 182,\n             187, 186, 187, 185, 185, 185, 185, 184, 185, 182, 182, 182,\n             180, 185, 182, 182, 181, 180, 180, 185, 185, 182, 182, 182,\n             182, 184, 182, 182, 182, 185, 183, 182, 182, 182, 182, 182,\n             182, 185, 185, 182, 182, 183, 183, 183, 183, 182, 186, 182,\n             182, 185, 185, 185, 182, 183, 182, 185, 185, 182, 182, 183,\n             183, 186, 183, 182, 191, 191, 185, 184, 189, 185, 184, 215,\n             208, 195, 195, 188, 195, 189, 182, 182, 182, 182, 182, 186,\n             187, 187, 186, 187, 185, 185, 186, 187, 187, 186, 184, 186,\n             183, 182, 182, 184, 184, 185, 182, 190, 185, 182, 182, 182,\n             182, 182, 182, 183, 182, 198, 198, 198, 193, 191, 191, 191,\n             188, 190, 188, 188, 190, 188, 188, 190, 190, 184, 185, 184,\n             184, 185, 185, 185, 185, 182, 182, 182, 182, 182, 182, 182,\n             183, 182, 199, 190, 191, 190, 190, 190, 192, 192, 187, 187,\n             187, 186, 184, 184, 187, 187, 187, 187, 187, 185, 183, 185,\n             184, 185, 184, 186, 183, 183, 182, 191, 185, 182, 187, 188,\n             188, 189, 186, 186, 184, 185, 184, 184, 185, 181, 182, 181,\n             182, 182, 182, 182, 182, 186, 186, 184, 185, 181, 181, 186,\n             185, 185, 185, 182, 186, 187, 190, 191, 190, 191, 186, 184,\n             186, 184, 194, 189, 188, 184, 185, 185, 184, 184, 184, 186,\n             182, 182, 182, 187, 188, 189, 187, 188, 187, 186, 182, 183,\n             183, 182, 182, 187, 186, 186, 188, 185, 185, 185, 184, 184,\n             184, 182, 184, 182, 192, 192, 190, 185, 184, 185, 185, 186,\n             186, 186, 184, 191, 185, 185, 185, 184, 184, 184, 185, 185,\n             184, 184, 185, 182, 188, 187, 187, 185, 183, 186, 185, 184,\n             187, 184, 184, 203, 202, 201, 200, 195, 195, 195, 195, 195,\n             195, 191, 188, 191, 187, 185, 184, 185, 184, 185, 184, 187,\n             187, 185, 185, 184, 184, 187, 186, 184, 184, 187, 184, 193,\n             194, 188, 190, 191, 194, 188, 190, 190, 191, 200, 195, 195,\n             190, 190, 187, 189, 184, 185, 182, 188, 188, 187, 187, 187,\n             186, 182, 182, 182, 182, 182, 182, 182, 186, 182, 182, 183,\n             183, 184, 191, 184, 187, 185, 184, 196, 197, 191, 187, 185,\n             185, 185, 184, 185, 182, 182, 182, 182, 182, 183, 182, 180,\n             184, 181, 180, 180, 181, 180, 178, 170, 170, 171, 171, 164,\n             164, 164, 165, 165, 166, 166, 165, 167, 167, 165, 166, 166,\n             166, 165, 175, 169, 166, 168, 172, 170, 167, 165, 165, 166,\n             165, 164, 164, 163, 164, 164, 164, 164, 165, 165, 165, 166,\n             166, 166, 166, 167, 166, 169, 167, 169, 167, 169, 166, 166,\n             167, 166, 167, 165, 170, 170, 170, 167, 167, 167, 165, 164,\n             167, 167, 165, 164, 164, 161, 161, 163, 163, 165, 163, 161,\n             160, 154, 157, 157, 160, 154, 157, 161, 152, 152, 143, 143,\n             138, 136, 134, 140, 140, 140, 143, 144, 144, 139, 161, 153,\n             153, 145, 140, 140, 140, 140, 141, 141, 144, 141, 141, 141,\n             144, 141, 139, 139, 150, 147, 142, 140, 141, 141, 142, 144,\n             141, 141, 141, 142, 142, 154, 154, 150, 146, 143, 144, 149,\n             146, 146, 142, 141, 142, 141, 142, 141, 141, 145, 145, 142,\n             142, 142, 141, 141, 142, 142, 141, 142, 142, 142, 142, 144,\n             142, 142, 143, 142, 142, 142, 142, 143, 141, 142, 142, 142,\n             142, 142, 144, 144, 144, 144, 144, 141, 140, 144, 140, 144,\n             142, 141, 139, 140, 143, 139, 144, 143, 142, 163, 157, 150,\n             144, 142, 143, 141, 144, 141, 143, 141, 142, 142, 147, 143,\n             141, 140, 140, 146, 147, 147, 146, 142, 141, 142, 141, 141,\n             141, 142, 141, 141, 141, 151, 145, 144, 144, 142, 144, 145,\n             143, 141, 144, 140, 145, 141, 140, 140, 143, 143, 140, 144,\n             141, 144, 140, 146, 146, 142, 142, 142, 140, 144, 140, 139,\n             139, 139, 144, 146, 142, 143, 139, 144, 143, 143, 142, 155,\n             144, 140, 141, 140, 141, 143, 142, 143, 141, 141, 140, 149,\n             149, 150, 145, 145, 145, 142, 142, 142, 147, 143, 143, 143,\n             140, 144, 140, 141, 141, 141, 141, 142, 155, 147, 147, 147,\n             145, 145, 143, 143, 143, 143, 144, 146, 146, 146, 146, 141,\n             142, 141, 142, 141, 142, 142, 142, 142, 142, 141, 142, 142,\n             141, 141, 144, 143, 144, 144, 144, 144, 143, 144, 142, 141,\n             141, 144, 144, 143, 141, 146, 142, 141, 142, 142, 142, 141,\n             142, 143, 143, 141, 142, 141, 142, 144, 143, 140, 143, 141,\n             141, 141, 141, 140, 143, 140, 141, 143, 142, 140, 145, 145,\n             145, 145, 143, 141, 150, 144, 141, 140, 145, 145, 143, 143,\n             143, 141, 145, 141, 141, 145, 142, 143, 143, 144, 144, 142,\n             149, 149, 142, 142, 143, 145, 142, 140, 141, 140, 141, 141,\n             143, 141, 142, 142, 141, 145, 141, 141, 142, 141, 139, 138,\n             139, 138, 139, 140, 141, 141, 142, 141, 141, 141, 145, 145,\n             146, 143, 143, 144, 146, 146, 143, 143, 143, 144, 151, 146,\n             143, 144, 151, 147, 146, 146, 144, 144, 146, 146, 143, 144,\n             146, 143, 144, 146, 144, 144, 144, 141, 144, 143, 144, 157,\n             150, 147, 147, 147, 143, 143, 143, 143, 143, 144, 144, 143,\n             144, 158, 146, 141], dtype=int32)"
     },
     "execution_count": 13,
     "metadata": {},
     "output_type": "execute_result"
    }
   ],
   "source": [
    "energies"
   ],
   "metadata": {
    "collapsed": false,
    "pycharm": {
     "name": "#%%\n"
    }
   }
  },
  {
   "cell_type": "code",
   "execution_count": null,
   "outputs": [],
   "source": [],
   "metadata": {
    "collapsed": false,
    "pycharm": {
     "name": "#%%\n"
    }
   }
  }
 ],
 "metadata": {
  "kernelspec": {
   "display_name": "Python 3 (ipykernel)",
   "language": "python",
   "name": "python3"
  },
  "language_info": {
   "codemirror_mode": {
    "name": "ipython",
    "version": 3
   },
   "file_extension": ".py",
   "mimetype": "text/x-python",
   "name": "python",
   "nbconvert_exporter": "python",
   "pygments_lexer": "ipython3",
   "version": "3.10.6"
  }
 },
 "nbformat": 4,
 "nbformat_minor": 5
}