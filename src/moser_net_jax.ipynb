{
 "cells": [
  {
   "cell_type": "code",
   "execution_count": 1,
   "outputs": [],
   "source": [
    "# import jax.tools.colab_tpu\n",
    "# jax.tools.colab_tpu.setup_tpu()"
   ],
   "metadata": {
    "collapsed": false,
    "pycharm": {
     "name": "#%%\n"
    }
   }
  },
  {
   "cell_type": "code",
   "execution_count": 2,
   "outputs": [],
   "source": [
    "from typing import Sequence\n",
    "import jax\n",
    "import jax.numpy as jnp\n",
    "import flax.linen as nn\n",
    "\n",
    "class MLP(nn.Module):\n",
    "    features: Sequence[int]\n",
    "\n",
    "    @nn.compact\n",
    "    def __call__(self, x):\n",
    "        for feat in self.features[:-1]:\n",
    "            x = nn.relu(nn.Dense(feat)(x))\n",
    "        x = nn.Dense(self.features[-1])(x)\n",
    "        return x\n",
    "\n",
    "model = MLP([12, 8, 4])\n",
    "batch = jnp.ones((32, 10))\n",
    "variables = model.init(jax.random.PRNGKey(0), batch)\n",
    "output = model.apply(variables, batch)"
   ],
   "metadata": {
    "collapsed": false,
    "pycharm": {
     "name": "#%%\n"
    }
   }
  },
  {
   "cell_type": "code",
   "execution_count": 90,
   "outputs": [],
   "source": [
    "# Copyright 2020 DeepMind Technologies Limited.\n",
    "\n",
    "\n",
    "# Licensed under the Apache License, Version 2.0 (the \"License\");\n",
    "# you may not use this file except in compliance with the License.\n",
    "# You may obtain a copy of the License at\n",
    "\n",
    "# https://www.apache.org/licenses/LICENSE-2.0\n",
    "\n",
    "# Unless required by applicable law or agreed to in writing, software\n",
    "# distributed under the License is distributed on an \"AS IS\" BASIS,\n",
    "# WITHOUT WARRANTIES OR CONDITIONS OF ANY KIND, either express or implied.\n",
    "# See the License for the specific language governing permissions and\n",
    "# limitations under the License.\n",
    "r\"\"\"2-SAT solver example.\n",
    "Here we train a graph neural network to solve 2-sat problems.\n",
    "https://en.wikipedia.org/wiki/2-satisfiability\n",
    "For instance a 2 sat problem with 3 literals would look like this:\n",
    "   (a or b)  and  (not a or c)  and (not b or not c)\n",
    "We represent this problem in form of a bipartite-graph, with edges\n",
    "connecting the literal-nodes (a, b, c) with the constraint-nodes (O).\n",
    "The corresponding graph looks like this:\n",
    "     O    O   O\n",
    "     |\\  /\\  /|\n",
    "     | \\/  \\/ |\n",
    "     | /\\  /\\ |\n",
    "     |/  \\/  \\|\n",
    "     a    b   c\n",
    "The nodes are one-hot encoded with literal nodes as (1, 0) and constraint nodes\n",
    "as (0, 1). The edges are one-hot encoded with (1, 0) if the literal should be\n",
    "true and (0, 1) if the literal should be false.\n",
    "The graph neural network encodes the nodes and the edges and runs multiple\n",
    "message passing steps by calculating message for each edge and aggregating\n",
    "all the messages of the nodes.\n",
    "The training dataset consists of randomly generated 2-sat problems with 2 to 15\n",
    "literals.\n",
    "The test dataset consists of randomly generated 2-sat problems with 16 to 20\n",
    "literals.\n",
    "\"\"\"\n",
    "\n",
    "import collections\n",
    "import random\n",
    "import haiku as hk\n",
    "import jax\n",
    "import jax.numpy as jnp\n",
    "import jraph\n",
    "import numpy as np\n",
    "import optax\n",
    "from functools import partial\n",
    "\n",
    "\n",
    "LabeledProblem = collections.namedtuple(\"Problem\", (\"graph\", \"labels\", \"mask\", \"meta\"))\n",
    "\n",
    "Problem = collections.namedtuple(\"Problem\", (\"graph\", \"mask\", \"meta\"))\n",
    "\n",
    "def get_2sat_problem(min_n_literals: int, max_n_literals: int) -> LabeledProblem:\n",
    "    \"\"\"Creates bipartite-graph representing a randomly generated 2-sat problem.\n",
    "    Args:\n",
    "      min_n_literals: minimum number of literals in the 2-sat problem.\n",
    "      max_n_literals: maximum number of literals in the 2-sat problem.\n",
    "    Returns:\n",
    "      bipartite-graph, node labels and node mask.\n",
    "    \"\"\"\n",
    "    n_literals = random.randint(min_n_literals, max_n_literals)\n",
    "    n_literals_true = random.randint(1, n_literals - 1)\n",
    "    n_constraints = n_literals * (n_literals - 1) // 2\n",
    "\n",
    "    n_node = n_literals +  n_constraints\n",
    "    # 0 indicates a literal node\n",
    "    # 1 indicates a constraint node.\n",
    "    nodes = [0 if i < n_literals else 1 for i in range(n_node)]\n",
    "    edges = []\n",
    "    senders = []\n",
    "    for literal_node1 in range(n_literals):\n",
    "        for literal_node2 in range(literal_node1 + 1, n_literals):\n",
    "            senders.append(literal_node1)\n",
    "            senders.append(literal_node2)\n",
    "            # 1 indicates that the literal must be true for this constraint.\n",
    "            # 0 indicates that the literal must be false for this constraint.\n",
    "            # I.e. with literals a and b, we have the following possible constraints:\n",
    "            # 0, 0 -> a or b\n",
    "            # 1, 0 -> not a or b\n",
    "            # 0, 1 -> a or not b\n",
    "            # 1, 1 -> not a or not b\n",
    "            edges.append(1 if literal_node1 < n_literals_true else 0)\n",
    "            edges.append(1 if literal_node2 < n_literals_true else 0)\n",
    "\n",
    "    graph = jraph.GraphsTuple(\n",
    "        n_node=np.asarray([n_node]),\n",
    "        n_edge=np.asarray([2 * n_constraints]),\n",
    "        # One-hot encoding for nodes and edges.\n",
    "        edges=np.eye(2)[edges],\n",
    "        nodes=np.eye(2)[nodes],\n",
    "        globals=None,\n",
    "        senders=np.asarray(senders),\n",
    "        receivers=np.repeat(np.arange(n_constraints) + n_literals, 2))\n",
    "\n",
    "    # In order to jit compile our code, we have to pad the nodes and edges of\n",
    "    # the GraphsTuple to a static shape.\n",
    "    max_n_constraints = max_n_literals * (max_n_literals - 1) // 2\n",
    "    max_nodes = max_n_literals + max_n_constraints  + 1\n",
    "    max_edges = 2 * max_n_constraints\n",
    "    graph = jraph.pad_with_graphs(graph, max_nodes, max_edges)\n",
    "\n",
    "    # The ground truth solution for the 2-sat problem.\n",
    "    labels = (np.arange(max_nodes) < n_literals_true).astype(np.int32)\n",
    "    labels = np.eye(2)[labels]\n",
    "\n",
    "    # For the loss calculation we create a mask for the nodes, which masks\n",
    "    # the constraint nodes and the padding nodes.\n",
    "    mask = (np.arange(max_nodes) < n_literals).astype(np.int32)\n",
    "    meta = {\"n_vars\": n_literals, \"n_constraints\": n_constraints}\n",
    "    return LabeledProblem(graph=graph, labels=labels, mask=mask, meta=meta)\n",
    "\n",
    "def get_k_sat_problem(n, m, k):\n",
    "    n_node = n + m\n",
    "    nodes = [0 if i < n else 1 for i in range(n_node)]\n",
    "    edges = []\n",
    "    senders = []\n",
    "    receivers = []\n",
    "\n",
    "    for c in range(n, n_node):\n",
    "        support = np.random.choice(n, replace=False, size=(k,))\n",
    "        bits = np.random.randint(2, size=(k,))\n",
    "        senders.extend(support)\n",
    "        edges.extend(bits)\n",
    "        receivers.extend(np.repeat(c,k))\n",
    "\n",
    "    graph = jraph.GraphsTuple(\n",
    "        n_node=jnp.asarray([n_node]),\n",
    "        n_edge=jnp.asarray([m * k]),\n",
    "        edges=np.eye(2)[edges],\n",
    "        nodes=np.eye(2)[nodes],\n",
    "        globals=None,\n",
    "        senders=jnp.asarray(senders),\n",
    "        receivers=jnp.asarray(receivers)\n",
    "    )\n",
    "\n",
    "\n",
    "    # For the loss calculation we create a mask for the nodes, which masks\n",
    "    # the constraint nodes and the padding nodes.\n",
    "    mask = (np.arange(n_node) < n).astype(np.int32)\n",
    "    meta = {\"n\": n, \"m\": m, \"k\": k}\n",
    "    return Problem(graph=graph, mask=mask, meta=meta)\n",
    "\n",
    "\n",
    "\n",
    "def network_definition(\n",
    "        graph: jraph.GraphsTuple,\n",
    "        num_message_passing_steps: int = 5) -> jraph.ArrayTree:\n",
    "    \"\"\"Defines a graph neural network.\n",
    "    Args:\n",
    "      graph: Graphstuple the network processes.\n",
    "      num_message_passing_steps: number of message passing steps.\n",
    "    Returns:\n",
    "      Decoded nodes.\n",
    "    \"\"\"\n",
    "    embedding = jraph.GraphMapFeatures(\n",
    "        embed_edge_fn=jax.vmap(hk.Linear(output_size=16)),\n",
    "        embed_node_fn=jax.vmap(hk.Linear(output_size=16)))\n",
    "    graph = embedding(graph)\n",
    "\n",
    "    @jax.vmap\n",
    "    @jraph.concatenated_args\n",
    "    def update_fn(features):\n",
    "        net = hk.Sequential([\n",
    "            hk.Linear(10), jax.nn.relu,\n",
    "            hk.Linear(10), jax.nn.relu,\n",
    "            hk.Linear(10), jax.nn.relu])\n",
    "        return net(features)\n",
    "\n",
    "    for _ in range(num_message_passing_steps):\n",
    "        gn = jraph.InteractionNetwork(\n",
    "            update_edge_fn=update_fn,\n",
    "            update_node_fn=update_fn,\n",
    "            include_sent_messages_in_node_update=True)\n",
    "        graph = gn(graph)\n",
    "\n",
    "    return hk.Linear(2)(graph.nodes)\n",
    "\n",
    "\n",
    "def train(num_steps: int):\n",
    "    \"\"\"Trains a graph neural network on a 2-sat problem.\"\"\"\n",
    "    train_dataset = (2, 15)\n",
    "    test_dataset = (16, 20)\n",
    "    random.seed(42)\n",
    "\n",
    "    network = hk.without_apply_rng(hk.transform(network_definition))\n",
    "    problem = get_2sat_problem(*train_dataset)\n",
    "    params = network.init(jax.random.PRNGKey(42), problem.graph)\n",
    "\n",
    "    @jax.jit\n",
    "    def supervised_prediction_loss(params, problem):\n",
    "        decoded_nodes = network.apply(params, problem.graph)\n",
    "        # We interpret the decoded nodes as a pair of logits for each node.\n",
    "        log_prob = jax.nn.log_softmax(decoded_nodes) * problem.labels\n",
    "        return -jnp.sum(log_prob * problem.mask[:, None]) / jnp.sum(problem.mask)\n",
    "\n",
    "    opt_init, opt_update = optax.adam(2e-4)\n",
    "    opt_state = opt_init(params)\n",
    "\n",
    "    @jax.jit\n",
    "    def update(params, opt_state, problem):\n",
    "        g = jax.grad(supervised_prediction_loss)(params, problem)\n",
    "        updates, opt_state = opt_update(g, opt_state)\n",
    "        return optax.apply_updates(params, updates), opt_state\n",
    "\n",
    "    for step in range(num_steps):\n",
    "        problem = get_2sat_problem(*train_dataset)\n",
    "        params, opt_state = update(params, opt_state, problem)\n",
    "        if step % 1000 == 0:\n",
    "            train_loss = jnp.mean(\n",
    "                jnp.asarray([\n",
    "                    supervised_prediction_loss(params, get_2sat_problem(*train_dataset))\n",
    "                    for _ in range(100)\n",
    "                ])).item()\n",
    "            test_loss = jnp.mean(\n",
    "                jnp.asarray([\n",
    "                    supervised_prediction_loss(params, get_2sat_problem(*test_dataset))\n",
    "                    for _ in range(100)\n",
    "                ])).item()\n",
    "            print(\"step %r loss train %r test %r\", step, train_loss, test_loss)\n",
    "            #logging.info(\"step %r loss train %r test %r\", step, train_loss, test_loss)\n",
    "    return network, params"
   ],
   "metadata": {
    "collapsed": false,
    "pycharm": {
     "name": "#%%\n"
    }
   }
  },
  {
   "cell_type": "code",
   "execution_count": 91,
   "outputs": [],
   "source": [
    "def moser_walk_sampler(weights, problem, n_samples = 1000):\n",
    "    \"\"\"\n",
    "    This is a modified moser walker that will run [n_samples] iterations of the random walk even if it has found a solution already\n",
    "    :param n_samples: int\n",
    "    :param weights: np array of size n_vars\n",
    "    :param graph: jraph.GraphTuple\n",
    "    :return:\n",
    "    \"\"\"\n",
    "    n,m,k = problem.meta.values()\n",
    "    graph = problem.graph\n",
    "    # we assume that the instance is k-CNF, so all clauses have the same length\n",
    "    # This means there k*m edges.\n",
    "\n",
    "    @jax.jit\n",
    "    def resample_constraint(rng_key, assignment, j):\n",
    "        _, rng_key = jax.random.split(rng_key)\n",
    "        support = jnp.where(jnp.asarray(graph.receivers) == j, size=k)\n",
    "        support_mask = jnp.zeros(n)\n",
    "        support_mask.at[support].set(1)\n",
    "        assignment_proposals = jax.random.bernoulli(rng_key, weights, (n,))\n",
    "        new_assignment = jnp.where(support_mask, assignment_proposals, assignment)\n",
    "        return rng_key, new_assignment # assignment.at[support].set(sub_assignment)\n",
    "\n",
    "    @jax.jit\n",
    "    def identify_violated_constraint(assignment, graph):\n",
    "\n",
    "        edge_is_violated = jnp.mod(jnp.asarray(graph.edges)[:,1].astype(np.int32) + assignment[graph.senders], 2)\n",
    "        constraint_is_violated = jax.vmap(jnp.sum)(jnp.reshape(edge_is_violated, (m,k))) == k\n",
    "        return jnp.where(constraint_is_violated, size=1)[0], jnp.sum(constraint_is_violated)\n",
    "\n",
    "    @jax.jit\n",
    "    def step(i, state):\n",
    "        rng_key, assignment = state\n",
    "        violated_constraint, number_violations = identify_violated_constraint(assignment, graph)\n",
    "        return resample_constraint(rng_key, assignment, violated_constraint)\n",
    "\n",
    "    rng_key = jax.random.PRNGKey(42)\n",
    "    init_assignment = jax.random.bernoulli(rng_key, weights, (n,))\n",
    "    final_assignment = jax.lax.fori_loop(0, n_samples, step, (rng_key, init_assignment))\n",
    "\n",
    "    return final_assignment\n"
   ],
   "metadata": {
    "collapsed": false,
    "pycharm": {
     "name": "#%%\n"
    }
   }
  },
  {
   "cell_type": "code",
   "execution_count": 92,
   "outputs": [
    {
     "data": {
      "text/plain": "Problem(graph=GraphsTuple(nodes=array([[1., 0.],\n       [1., 0.],\n       [0., 1.]]), edges=array([[0., 1.],\n       [1., 0.]]), receivers=DeviceArray([2, 2], dtype=int32), senders=DeviceArray([0, 1], dtype=int32), globals=None, n_node=DeviceArray([3], dtype=int32), n_edge=DeviceArray([2], dtype=int32)), mask=array([1, 1, 0], dtype=int32), meta={'n': 2, 'm': 1, 'k': 2})"
     },
     "execution_count": 92,
     "metadata": {},
     "output_type": "execute_result"
    }
   ],
   "source": [
    "get_k_sat_problem(2,1,2)"
   ],
   "metadata": {
    "collapsed": false,
    "pycharm": {
     "name": "#%%\n"
    }
   }
  },
  {
   "cell_type": "code",
   "execution_count": 93,
   "outputs": [
    {
     "data": {
      "text/plain": "Problem(graph=GraphsTuple(nodes=array([[1., 0.],\n       [1., 0.],\n       [0., 1.],\n       [0., 0.]]), edges=array([[0., 1.],\n       [1., 0.]]), receivers=array([2, 2]), senders=array([0, 1]), globals=None, n_node=array([3, 1]), n_edge=array([2, 0])), labels=array([[0., 1.],\n       [1., 0.],\n       [1., 0.],\n       [1., 0.]]), mask=array([1, 1, 0, 0], dtype=int32), meta={'n_vars': 2, 'n_constraints': 1})"
     },
     "execution_count": 93,
     "metadata": {},
     "output_type": "execute_result"
    }
   ],
   "source": [
    "get_2sat_problem(2,2)"
   ],
   "metadata": {
    "collapsed": false,
    "pycharm": {
     "name": "#%%\n"
    }
   }
  },
  {
   "cell_type": "code",
   "execution_count": 96,
   "outputs": [],
   "source": [
    "network = hk.without_apply_rng(hk.transform(network_definition))\n",
    "problem = get_k_sat_problem(100,150,3)\n",
    "# problem = get_2sat_problem(16,20)\n",
    "params = network.init(jax.random.PRNGKey(42), problem.graph)\n",
    "prdictions = network.apply(params, problem.graph)\n",
    "weights = jax.nn.softmax(prdictions)[: problem.meta[\"n\"],0]\n",
    "final_assignment = moser_walk_sampler(weights, problem, 10000)"
   ],
   "metadata": {
    "collapsed": false,
    "pycharm": {
     "name": "#%%\n"
    }
   }
  },
  {
   "cell_type": "code",
   "execution_count": 97,
   "outputs": [
    {
     "data": {
      "text/plain": "(DeviceArray([1680141627, 3487984247], dtype=uint32),\n DeviceArray([False, False, False,  True,  True,  True,  True, False,\n               True,  True, False,  True, False, False, False, False,\n              False,  True,  True,  True,  True,  True, False, False,\n              False,  True, False,  True,  True, False,  True,  True,\n               True,  True,  True, False, False,  True,  True,  True,\n              False, False, False,  True,  True, False, False, False,\n              False, False,  True, False, False, False,  True,  True,\n               True, False, False,  True,  True, False, False, False,\n              False, False, False,  True, False, False,  True, False,\n               True, False,  True,  True,  True, False, False,  True,\n              False, False,  True, False, False, False, False,  True,\n               True,  True, False,  True,  True,  True,  True,  True,\n               True,  True, False,  True], dtype=bool))"
     },
     "execution_count": 97,
     "metadata": {},
     "output_type": "execute_result"
    }
   ],
   "source": [
    "final_assignment"
   ],
   "metadata": {
    "collapsed": false,
    "pycharm": {
     "name": "#%%\n"
    }
   }
  },
  {
   "cell_type": "code",
   "execution_count": 102,
   "outputs": [
    {
     "ename": "ConcretizationTypeError",
     "evalue": "Abstract tracer value encountered where concrete value is expected: Traced<ShapedArray(bool[], weak_type=True)>with<DynamicJaxprTrace(level=2/1)>\nThe problem arose with the `bool` function. \nThe error occurred while tracing the function constraint_satisfied at /var/folders/4s/mnw4xd1129g6vmrwysfzd97r0000gp/T/ipykernel_65648/4198255437.py:128 for xla_call. This concrete value was not available in Python because it depends on the value of the argument 'j'.\n\nSee https://jax.readthedocs.io/en/latest/errors.html#jax.errors.ConcretizationTypeError",
     "output_type": "error",
     "traceback": [
      "\u001B[0;31m---------------------------------------------------------------------------\u001B[0m",
      "\u001B[0;31mConcretizationTypeError\u001B[0m                   Traceback (most recent call last)",
      "Cell \u001B[0;32mIn [102], line 1\u001B[0m\n\u001B[0;32m----> 1\u001B[0m \u001B[43mmoser_walk_sampler\u001B[49m\u001B[43m(\u001B[49m\u001B[43mweights\u001B[49m\u001B[43m,\u001B[49m\u001B[43m \u001B[49m\u001B[43mproblem\u001B[49m\u001B[43m,\u001B[49m\u001B[43m \u001B[49m\u001B[38;5;241;43m100\u001B[39;49m\u001B[43m)\u001B[49m\n",
      "Cell \u001B[0;32mIn [101], line 153\u001B[0m, in \u001B[0;36mmoser_walk_sampler\u001B[0;34m(weights, graph, n_samples)\u001B[0m\n\u001B[1;32m    151\u001B[0m rng_key \u001B[38;5;241m=\u001B[39m jax\u001B[38;5;241m.\u001B[39mrandom\u001B[38;5;241m.\u001B[39mPRNGKey(\u001B[38;5;241m42\u001B[39m)\n\u001B[1;32m    152\u001B[0m init_assignment \u001B[38;5;241m=\u001B[39m jax\u001B[38;5;241m.\u001B[39mrandom\u001B[38;5;241m.\u001B[39mbernoulli(rng_key, weights, (n_vars,))\n\u001B[0;32m--> 153\u001B[0m final_assignment \u001B[38;5;241m=\u001B[39m \u001B[43mjax\u001B[49m\u001B[38;5;241;43m.\u001B[39;49m\u001B[43mlax\u001B[49m\u001B[38;5;241;43m.\u001B[39;49m\u001B[43mfori_loop\u001B[49m\u001B[43m(\u001B[49m\u001B[38;5;241;43m0\u001B[39;49m\u001B[43m,\u001B[49m\u001B[43m \u001B[49m\u001B[43mn_samples\u001B[49m\u001B[43m,\u001B[49m\u001B[43m \u001B[49m\u001B[43mstep\u001B[49m\u001B[43m,\u001B[49m\u001B[43m \u001B[49m\u001B[43m(\u001B[49m\u001B[43mrng_key\u001B[49m\u001B[43m,\u001B[49m\u001B[43m \u001B[49m\u001B[43minit_assignment\u001B[49m\u001B[43m)\u001B[49m\u001B[43m)\u001B[49m\n\u001B[1;32m    155\u001B[0m \u001B[38;5;28;01mreturn\u001B[39;00m final_assignment\n",
      "    \u001B[0;31m[... skipping hidden 14 frame]\u001B[0m\n",
      "Cell \u001B[0;32mIn [101], line 143\u001B[0m, in \u001B[0;36mmoser_walk_sampler.<locals>.step\u001B[0;34m(i, state)\u001B[0m\n\u001B[1;32m    141\u001B[0m \u001B[38;5;28;01mdef\u001B[39;00m \u001B[38;5;21mstep\u001B[39m(i, state):\n\u001B[1;32m    142\u001B[0m     rng_key, assignment \u001B[38;5;241m=\u001B[39m state\n\u001B[0;32m--> 143\u001B[0m     violated_j, assignment \u001B[38;5;241m=\u001B[39m  \u001B[43mjax\u001B[49m\u001B[38;5;241;43m.\u001B[39;49m\u001B[43mlax\u001B[49m\u001B[38;5;241;43m.\u001B[39;49m\u001B[43mwhile_loop\u001B[49m\u001B[43m(\u001B[49m\n\u001B[1;32m    144\u001B[0m \u001B[43m        \u001B[49m\u001B[43mcond_fun\u001B[49m\u001B[38;5;241;43m=\u001B[39;49m\u001B[43mpartial\u001B[49m\u001B[43m(\u001B[49m\u001B[43mconstraint_satisfied\u001B[49m\u001B[43m,\u001B[49m\u001B[43m \u001B[49m\u001B[43massignment\u001B[49m\u001B[38;5;241;43m=\u001B[39;49m\u001B[43massignment\u001B[49m\u001B[43m)\u001B[49m\u001B[43m,\u001B[49m\n\u001B[1;32m    145\u001B[0m \u001B[43m        \u001B[49m\u001B[43mbody_fun\u001B[49m\u001B[38;5;241;43m=\u001B[39;49m\u001B[38;5;28;43;01mlambda\u001B[39;49;00m\u001B[43m \u001B[49m\u001B[43mj\u001B[49m\u001B[43m:\u001B[49m\u001B[43m \u001B[49m\u001B[43mj\u001B[49m\u001B[43m \u001B[49m\u001B[38;5;241;43m+\u001B[39;49m\u001B[43m \u001B[49m\u001B[38;5;241;43m1\u001B[39;49m\u001B[43m,\u001B[49m\n\u001B[1;32m    146\u001B[0m \u001B[43m        \u001B[49m\u001B[43minit_val\u001B[49m\u001B[38;5;241;43m=\u001B[39;49m\u001B[43mn_vars\u001B[49m\n\u001B[1;32m    147\u001B[0m \u001B[43m    \u001B[49m\u001B[43m)\u001B[49m\n\u001B[1;32m    149\u001B[0m     \u001B[38;5;28;01mreturn\u001B[39;00m resample(rng_key, assignment, violated_j)\n",
      "    \u001B[0;31m[... skipping hidden 18 frame]\u001B[0m\n",
      "Cell \u001B[0;32mIn [101], line 130\u001B[0m, in \u001B[0;36mmoser_walk_sampler.<locals>.constraint_satisfied\u001B[0;34m(j, assignment)\u001B[0m\n\u001B[1;32m    128\u001B[0m \u001B[38;5;129m@jax\u001B[39m\u001B[38;5;241m.\u001B[39mjit\n\u001B[1;32m    129\u001B[0m \u001B[38;5;28;01mdef\u001B[39;00m \u001B[38;5;21mconstraint_satisfied\u001B[39m(j, assignment) \u001B[38;5;241m-\u001B[39m\u001B[38;5;241m>\u001B[39m \u001B[38;5;28mbool\u001B[39m:\n\u001B[0;32m--> 130\u001B[0m     \u001B[38;5;28;01mif\u001B[39;00m j \u001B[38;5;241m>\u001B[39m\u001B[38;5;241m=\u001B[39m (n_vars \u001B[38;5;241m+\u001B[39m n_constraints):\n\u001B[1;32m    131\u001B[0m         \u001B[38;5;28;01mreturn\u001B[39;00m \u001B[38;5;28;01mFalse\u001B[39;00m\n\u001B[1;32m    132\u001B[0m     support \u001B[38;5;241m=\u001B[39m graph\u001B[38;5;241m.\u001B[39msenders[jnp\u001B[38;5;241m.\u001B[39mwhere(graph\u001B[38;5;241m.\u001B[39medges \u001B[38;5;241m==\u001B[39m j)]\n",
      "    \u001B[0;31m[... skipping hidden 1 frame]\u001B[0m\n",
      "File \u001B[0;32m~/opt/anaconda3/envs/moser/lib/python3.10/site-packages/jax/core.py:1189\u001B[0m, in \u001B[0;36mconcretization_function_error.<locals>.error\u001B[0;34m(self, arg)\u001B[0m\n\u001B[1;32m   1188\u001B[0m \u001B[38;5;28;01mdef\u001B[39;00m \u001B[38;5;21merror\u001B[39m(\u001B[38;5;28mself\u001B[39m, arg):\n\u001B[0;32m-> 1189\u001B[0m   \u001B[38;5;28;01mraise\u001B[39;00m ConcretizationTypeError(arg, fname_context)\n",
      "\u001B[0;31mConcretizationTypeError\u001B[0m: Abstract tracer value encountered where concrete value is expected: Traced<ShapedArray(bool[], weak_type=True)>with<DynamicJaxprTrace(level=2/1)>\nThe problem arose with the `bool` function. \nThe error occurred while tracing the function constraint_satisfied at /var/folders/4s/mnw4xd1129g6vmrwysfzd97r0000gp/T/ipykernel_65648/4198255437.py:128 for xla_call. This concrete value was not available in Python because it depends on the value of the argument 'j'.\n\nSee https://jax.readthedocs.io/en/latest/errors.html#jax.errors.ConcretizationTypeError"
     ]
    }
   ],
   "source": [],
   "metadata": {
    "collapsed": false,
    "pycharm": {
     "name": "#%%\n"
    }
   }
  },
  {
   "cell_type": "code",
   "execution_count": null,
   "outputs": [],
   "source": [],
   "metadata": {
    "collapsed": false,
    "pycharm": {
     "name": "#%%\n"
    }
   }
  }
 ],
 "metadata": {
  "kernelspec": {
   "display_name": "Python 3 (ipykernel)",
   "language": "python",
   "name": "python3"
  },
  "language_info": {
   "codemirror_mode": {
    "name": "ipython",
    "version": 3
   },
   "file_extension": ".py",
   "mimetype": "text/x-python",
   "name": "python",
   "nbconvert_exporter": "python",
   "pygments_lexer": "ipython3",
   "version": "3.10.6"
  }
 },
 "nbformat": 4,
 "nbformat_minor": 5
}