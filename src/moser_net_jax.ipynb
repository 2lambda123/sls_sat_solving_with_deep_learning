{
 "cells": [
  {
   "cell_type": "code",
   "execution_count": 2,
   "outputs": [],
   "source": [
    "%load_ext autoreload\n",
    "%autoreload 2"
   ],
   "metadata": {
    "collapsed": false,
    "pycharm": {
     "name": "#%%\n"
    }
   }
  },
  {
   "cell_type": "code",
   "execution_count": 1,
   "outputs": [],
   "source": [
    "# import jax.tools.colab_tpu\n",
    "# jax.tools.colab_tpu.setup_tpu()"
   ],
   "metadata": {
    "collapsed": false,
    "pycharm": {
     "name": "#%%\n"
    }
   }
  },
  {
   "cell_type": "code",
   "execution_count": 1,
   "outputs": [],
   "source": [
    "from model import train_model\n",
    "from constraint_problems import get_problem_from_cnf\n",
    "from random_walk import moser_walk_sampler\n",
    "import jax"
   ],
   "metadata": {
    "collapsed": false,
    "pycharm": {
     "name": "#%%\n"
    }
   }
  },
  {
   "cell_type": "code",
   "execution_count": 3,
   "outputs": [],
   "source": [
    "from pysat.formula import CNF\n",
    "import glob\n",
    "instances = [get_problem_from_cnf(CNF(from_file=f)) for f in glob.glob('../Data/uf20-91/*.cnf')]\n",
    "train_instances, test_instances = instances[:950],instances[950:]"
   ],
   "metadata": {
    "collapsed": false,
    "pycharm": {
     "name": "#%%\n"
    }
   }
  },
  {
   "cell_type": "code",
   "execution_count": 9,
   "outputs": [
    {
     "name": "stdout",
     "output_type": "stream",
     "text": [
      "step %r loss train %r test %r 0 0.03149056062102318\n",
      "step %r loss train %r test %r 10 0.03127384930849075\n",
      "step %r loss train %r test %r 20 0.03126279264688492\n",
      "step %r loss train %r test %r 30 0.03465767949819565\n",
      "step %r loss train %r test %r 40 0.14664782583713531\n"
     ]
    }
   ],
   "source": [
    "planning_problem = get_problem_from_cnf(CNF(from_file=\"../Data/blocksworld/medium.cnf\"))\n",
    "network, params = train_model(1000,0.1,[planning_problem], [planning_problem])"
   ],
   "metadata": {
    "collapsed": false,
    "pycharm": {
     "name": "#%%\n"
    }
   }
  },
  {
   "cell_type": "code",
   "execution_count": 12,
   "outputs": [],
   "source": [
    "prdictions = network.apply(params, planning_problem.graph)\n",
    "weights = jax.nn.softmax(prdictions)[: planning_problem.meta[\"n\"], 1]\n",
    "trajectory, energies = moser_walk_sampler(weights, planning_problem, 1000)"
   ],
   "metadata": {
    "collapsed": false,
    "pycharm": {
     "name": "#%%\n"
    }
   }
  },
  {
   "cell_type": "code",
   "execution_count": 15,
   "outputs": [
    {
     "data": {
      "text/plain": "{'n': 122, 'm': 1016, 'k': 6}"
     },
     "execution_count": 15,
     "metadata": {},
     "output_type": "execute_result"
    }
   ],
   "source": [
    "planning_problem.meta"
   ],
   "metadata": {
    "collapsed": false,
    "pycharm": {
     "name": "#%%\n"
    }
   }
  },
  {
   "cell_type": "code",
   "execution_count": 17,
   "outputs": [
    {
     "data": {
      "text/plain": "DeviceArray([0.9188788 , 0.9188788 , 0.8968981 , 0.95645374, 0.91105783,\n             0.9535569 , 0.91105914, 0.95645374, 0.9535569 , 0.91105783,\n             0.91105914, 0.94058865, 0.9424409 , 0.94058853, 0.9424408 ,\n             0.92849237, 0.81897116, 0.8503994 , 0.8189713 , 0.8503994 ,\n             0.98620784, 0.98620784, 0.98620784, 0.98620784, 0.97144204,\n             0.995008  , 0.96285427, 0.9927004 , 0.9927005 , 0.9927004 ,\n             0.96285486, 0.997832  , 0.9916347 , 0.98827213, 0.9916346 ,\n             0.9577119 , 0.9936544 , 0.98827225, 0.98827225, 0.98827225,\n             0.940238  , 0.997832  , 0.98827225, 0.9916346 , 0.99163485,\n             0.9577119 , 0.982278  , 0.98227787, 0.982278  , 0.98227787,\n             0.9761707 , 0.97375613, 0.8189688 , 0.913735  , 0.913735  ,\n             0.9137353 , 0.913735  , 0.99733126, 0.99352634, 0.9919173 ,\n             0.99352634, 0.99191743, 0.9935266 , 0.9934104 , 0.9935262 ,\n             0.99341017, 0.98640186, 0.9473658 , 0.9995728 , 0.99395233,\n             0.9953224 , 0.9942525 , 1.        , 0.9953224 , 0.96285397,\n             0.99938214, 0.99341017, 0.9942525 , 0.9953224 , 0.9953223 ,\n             0.96285415, 0.99938214, 0.99341017, 0.9954802 , 0.9942525 ,\n             0.9953224 , 0.9616278 , 0.99938214, 0.9934103 , 0.9942525 ,\n             0.9954802 , 1.        , 0.961628  , 0.9899478 , 0.9899478 ,\n             0.98994803, 0.9899478 , 0.98640186, 0.985954  , 0.89994454,\n             0.9188734 , 0.9188734 , 0.89994454, 0.8999436 , 0.99015665,\n             0.9365525 , 0.9365525 , 0.92133987, 0.98981714, 0.989817  ,\n             0.98981714, 0.98981726, 0.9385046 , 0.9385034 , 0.94227535,\n             0.9385035 , 1.        , 1.        , 0.        , 0.        ,\n             0.        , 0.        ], dtype=float32)"
     },
     "execution_count": 17,
     "metadata": {},
     "output_type": "execute_result"
    }
   ],
   "source": [
    "weights"
   ],
   "metadata": {
    "collapsed": false,
    "pycharm": {
     "name": "#%%\n"
    }
   }
  },
  {
   "cell_type": "code",
   "execution_count": 18,
   "outputs": [
    {
     "data": {
      "text/plain": "DeviceArray([[ True,  True,  True, ..., False, False, False],\n             [ True,  True,  True, ..., False, False, False],\n             [ True,  True,  True, ..., False, False, False],\n             ...,\n             [ True,  True,  True, ..., False, False, False],\n             [ True,  True,  True, ..., False, False, False],\n             [ True,  True,  True, ..., False, False, False]], dtype=bool)"
     },
     "execution_count": 18,
     "metadata": {},
     "output_type": "execute_result"
    }
   ],
   "source": [
    "trajectory"
   ],
   "metadata": {
    "collapsed": false,
    "pycharm": {
     "name": "#%%\n"
    }
   }
  },
  {
   "cell_type": "code",
   "execution_count": 4,
   "outputs": [
    {
     "data": {
      "text/plain": "Problem(graph=GraphsTuple(nodes=array([[1., 0.],\n       [0., 1.]]), edges=array([[0., 1.],\n       [1., 0.]]), receivers=array([1, 1]), senders=array([0, 0]), globals=None, n_node=array([2]), n_edge=array([2])), mask=array([1, 0], dtype=int32), meta={'n': 1, 'm': 1, 'k': 2})"
     },
     "execution_count": 4,
     "metadata": {},
     "output_type": "execute_result"
    }
   ],
   "source": [
    "contradiction = \"p cnf 1 1 \\n 1 -1 0\"\n",
    "cnf=  CNF(from_string=contradiction)\n",
    "get_problem_from_cnf(cnf)"
   ],
   "metadata": {
    "collapsed": false,
    "pycharm": {
     "name": "#%%\n"
    }
   }
  },
  {
   "cell_type": "code",
   "execution_count": 32,
   "outputs": [
    {
     "name": "stdout",
     "output_type": "stream",
     "text": [
      "\n",
      "\n",
      "\n",
      "\n",
      "\n",
      "\n",
      "\n",
      "\n",
      "\n",
      "\n",
      "\n",
      "\n",
      "\n",
      "\n",
      "\n",
      "\n"
     ]
    }
   ],
   "source": [
    "from constraint_problems import all_bitstrings\n",
    "import numpy as np\n",
    "ass = all_bitstrings(4)\n",
    "for c in ass:\n",
    "    print()"
   ],
   "metadata": {
    "collapsed": false,
    "pycharm": {
     "name": "#%%\n"
    }
   }
  },
  {
   "cell_type": "code",
   "execution_count": 29,
   "outputs": [
    {
     "data": {
      "text/plain": "array([0, 1, 1, 2, 1, 2, 2, 3, 1, 2, 2, 3, 2, 3, 3, 4])"
     },
     "execution_count": 29,
     "metadata": {},
     "output_type": "execute_result"
    }
   ],
   "source": [
    "np.apply_along_axis(sum, axis=1, arr=all_bitstrings(4))"
   ],
   "metadata": {
    "collapsed": false,
    "pycharm": {
     "name": "#%%\n"
    }
   }
  },
  {
   "cell_type": "code",
   "execution_count": 30,
   "outputs": [],
   "source": [
    "from constraint_problems import violated_constraints"
   ],
   "metadata": {
    "collapsed": false,
    "pycharm": {
     "name": "#%%\n"
    }
   }
  },
  {
   "cell_type": "code",
   "execution_count": null,
   "outputs": [],
   "source": [],
   "metadata": {
    "collapsed": false,
    "pycharm": {
     "name": "#%%\n"
    }
   }
  }
 ],
 "metadata": {
  "kernelspec": {
   "display_name": "Python 3 (ipykernel)",
   "language": "python",
   "name": "python3"
  },
  "language_info": {
   "codemirror_mode": {
    "name": "ipython",
    "version": 3
   },
   "file_extension": ".py",
   "mimetype": "text/x-python",
   "name": "python",
   "nbconvert_exporter": "python",
   "pygments_lexer": "ipython3",
   "version": "3.10.6"
  }
 },
 "nbformat": 4,
 "nbformat_minor": 5
}