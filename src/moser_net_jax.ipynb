{
 "cells": [
  {
   "cell_type": "code",
   "execution_count": 1,
   "id": "ce20bece",
   "metadata": {
    "pycharm": {
     "name": "#%%\n"
    }
   },
   "outputs": [],
   "source": [
    "\n",
    "%load_ext autoreload\n",
    "%autoreload 2\n",
    "%load_ext memory_profiler"
   ]
  },
  {
   "cell_type": "code",
   "execution_count": 2,
   "id": "8d290fe9",
   "metadata": {
    "pycharm": {
     "name": "#%%\n"
    }
   },
   "outputs": [],
   "source": [
    "# import jax.tools.colab_tpu\n",
    "# jax.tools.colab_tpu.setup_tpu()"
   ]
  },
  {
   "cell_type": "code",
   "execution_count": 3,
   "id": "9422228e",
   "metadata": {
    "pycharm": {
     "name": "#%%\n"
    }
   },
   "outputs": [],
   "source": [
    "import jax\n",
    "\n",
    "from constraint_problems import get_problem_from_cnf\n",
    "from model import train_model\n",
    "from random_walk import moser_walk_sampler, moser_walk"
   ]
  },
  {
   "cell_type": "code",
   "execution_count": 4,
   "id": "70aba867",
   "metadata": {
    "pycharm": {
     "name": "#%%\n"
    }
   },
   "outputs": [],
   "source": [
    "# from pysat.formula import CNF\n",
    "# import glob\n",
    "# instances = [get_problem_from_cnf(CNF(from_file=f)) for f in glob.glob('../Data/uf20-91/*.cnf')]\n",
    "# train_instances, test_instances = instances[:950],instances[950:]"
   ]
  },
  {
   "cell_type": "code",
   "execution_count": 5,
   "id": "5407edbe",
   "metadata": {
    "pycharm": {
     "name": "#%%\n"
    }
   },
   "outputs": [],
   "source": [
    "from pysat.formula import CNF\n",
    "# import glob\n",
    "# test_instances = [get_problem_from_cnf(CNF(from_file=f)) for f in glob.glob('../Data/blocksworld/*.cnf') if f == '../Data/blocksworld/bw_large.d.cnf']\n",
    "# train_instances = [get_problem_from_cnf(CNF(from_file=f)) for f in glob.glob('../Data/blocksworld/*.cnf') if f != '../Data/blocksworld/bw_large.d.cnf']"
   ]
  },
  {
   "cell_type": "code",
   "execution_count": 6,
   "id": "7f9279e9",
   "metadata": {
    "pycharm": {
     "name": "#%%\n"
    }
   },
   "outputs": [],
   "source": [
    "train = [get_problem_from_cnf(CNF(from_file=\"../Data/blocksworld/huge.cnf\")), get_problem_from_cnf(CNF(from_file=\"../Data/blocksworld/medium.cnf\"))]\n",
    "test = [get_problem_from_cnf(CNF(from_file=\"../Data/blocksworld/bw_large.a.cnf\"))]"
   ]
  },
  {
   "cell_type": "code",
   "execution_count": 7,
   "id": "3a9593fc",
   "metadata": {
    "pycharm": {
     "name": "#%%\n"
    }
   },
   "outputs": [],
   "source": [
    "# for i in test_instances:\n",
    "#     print(i.graph.n_node, i.graph.n_edge, i.params)"
   ]
  },
  {
   "cell_type": "code",
   "execution_count": 8,
   "id": "6b851fa9",
   "metadata": {
    "pycharm": {
     "name": "#%%\n"
    }
   },
   "outputs": [
    {
     "name": "stdout",
     "output_type": "stream",
     "text": [
      "step %r loss train %r test %r 0 18.0\n"
     ]
    }
   ],
   "source": [
    "network, params = train_model(1000,0.02,train, test, num_steps=10)"
   ]
  },
  {
   "cell_type": "code",
   "execution_count": 9,
   "id": "a10e0745",
   "metadata": {
    "pycharm": {
     "name": "#%%\n"
    }
   },
   "outputs": [],
   "source": [
    "planning_problem = test[0]\n",
    "prdictions = network.apply(params, planning_problem.graph)\n",
    "weights = jax.nn.softmax(prdictions)[:,1]\n",
    "trajectory, energies = moser_walk_sampler(weights, planning_problem, 1000, 0)"
   ]
  },
  {
   "cell_type": "code",
   "execution_count": 12,
   "id": "7b6a0618",
   "metadata": {
    "pycharm": {
     "name": "#%%\n"
    }
   },
   "outputs": [
    {
     "name": "stderr",
     "output_type": "stream",
     "text": [
      "2022-10-27 10:24:52.561864: E external/org_tensorflow/tensorflow/python/profiler/internal/python_hooks.cc:373] Can't import tensorflow.python.profiler.trace\n",
      "2022-10-27 10:25:01.698736: E external/org_tensorflow/tensorflow/python/profiler/internal/python_hooks.cc:373] Can't import tensorflow.python.profiler.trace\n"
     ]
    },
    {
     "name": "stdout",
     "output_type": "stream",
     "text": [
      "Open URL in browser: https://ui.perfetto.dev/#!/?url=http://127.0.0.1:9001/perfetto_trace.json.gz\n"
     ]
    },
    {
     "name": "stderr",
     "output_type": "stream",
     "text": [
      "127.0.0.1 - - [27/Oct/2022 10:25:21] \"GET /perfetto_trace.json.gz HTTP/1.1\" 200 -\n"
     ]
    }
   ],
   "source": [
    "with jax.profiler.trace(\"/tmp/jax-trace\", create_perfetto_link=True):\n",
    "    # Run the operations to be profiled\n",
    "    final_assignment, energy = moser_walk(weights, planning_problem, 1000, 0)"
   ]
  },
  {
   "cell_type": "code",
   "execution_count": 15,
   "id": "1684c1c4",
   "metadata": {
    "pycharm": {
     "name": "#%%\n"
    }
   },
   "outputs": [
    {
     "name": "stdout",
     "output_type": "stream",
     "text": [
      "7.13 s ± 378 ms per loop (mean ± std. dev. of 7 runs, 1 loop each)\n"
     ]
    }
   ],
   "source": [
    "%timeit final_assignment, energy = moser_walk(weights, planning_problem, 1000, 0)"
   ]
  },
  {
   "cell_type": "code",
   "execution_count": 14,
   "id": "4a9fc361",
   "metadata": {
    "pycharm": {
     "name": "#%%\n"
    }
   },
   "outputs": [
    {
     "data": {
      "text/plain": [
       "(10809,)"
      ]
     },
     "execution_count": 14,
     "metadata": {},
     "output_type": "execute_result"
    }
   ],
   "source": [
    "test[0].graph.edges[:, 1].shape"
   ]
  },
  {
   "cell_type": "code",
   "execution_count": 15,
   "id": "0ef717b0",
   "metadata": {
    "pycharm": {
     "name": "#%%\n"
    }
   },
   "outputs": [
    {
     "data": {
      "text/plain": [
       "(array([5105,    5,    1,    0,    0,    4,    2,    0,    7,   10]),\n",
       " array([0.49260545, 0.5084288 , 0.5242521 , 0.5400754 , 0.5558988 ,\n",
       "        0.57172215, 0.58754545, 0.60336876, 0.6191921 , 0.6350155 ,\n",
       "        0.6508388 ], dtype=float32))"
      ]
     },
     "execution_count": 15,
     "metadata": {},
     "output_type": "execute_result"
    }
   ],
   "source": [
    "import numpy as np\n",
    "np.histogram(weights)"
   ]
  },
  {
   "cell_type": "code",
   "execution_count": 58,
   "id": "432d88c1",
   "metadata": {
    "pycharm": {
     "name": "#%%\n"
    }
   },
   "outputs": [],
   "source": [
    "import jax.numpy as jnp\n",
    "\n",
    "def violated_constraints2(edges, senders, mask, assignment):\n",
    "    edge_is_violated = jnp.mod(\n",
    "        edges + assignment[senders], 2\n",
    "    )\n",
    "    violated_constraint_edges = edge_is_violated @ mask  # (x,) @ (x,m)  = (m,)\n",
    "    return violated_constraint_edges == 1"
   ]
  },
  {
   "cell_type": "code",
   "execution_count": 59,
   "id": "26c29b56",
   "metadata": {
    "pycharm": {
     "name": "#%%\n"
    }
   },
   "outputs": [
    {
     "name": "stdout",
     "output_type": "stream",
     "text": [
      "7.81 ms ± 651 µs per loop (mean ± std. dev. of 7 runs, 100 loops each)\n",
      "7.6 ms ± 1.11 ms per loop (mean ± std. dev. of 7 runs, 1 loop each)\n"
     ]
    }
   ],
   "source": [
    "rng_key = jax.random.PRNGKey(0)\n",
    "random_assignment = jax.random.bernoulli(rng_key, weights)\n",
    "\n",
    "edges = planning_problem.graph.edges[:,1].astype(np.int32)\n",
    "senders = planning_problem.graph.senders\n",
    "mask, _, _ = planning_problem.constraint_utils\n",
    "\n",
    "%timeit violated_constraints2(edges, senders, mask, random_assignment).block_until_ready()\n",
    "%timeit jax.jit(violated_constraints2)(edges, senders, mask, random_assignment).block_until_ready()"
   ]
  },
  {
   "cell_type": "code",
   "execution_count": 51,
   "id": "82add92b",
   "metadata": {
    "pycharm": {
     "name": "#%%\n"
    }
   },
   "outputs": [],
   "source": [
    "a = np.random.rand(*mask.shape)"
   ]
  },
  {
   "cell_type": "code",
   "execution_count": 56,
   "id": "ae8c2da4",
   "metadata": {
    "pycharm": {
     "name": "#%%\n"
    }
   },
   "outputs": [
    {
     "ename": "AttributeError",
     "evalue": "'numpy.ndarray' object has no attribute 'block_until_ready'",
     "output_type": "error",
     "traceback": [
      "\u001B[0;31m---------------------------------------------------------------------------\u001B[0m",
      "\u001B[0;31mAttributeError\u001B[0m                            Traceback (most recent call last)",
      "Cell \u001B[0;32mIn [56], line 1\u001B[0m\n\u001B[0;32m----> 1\u001B[0m \u001B[43mget_ipython\u001B[49m\u001B[43m(\u001B[49m\u001B[43m)\u001B[49m\u001B[38;5;241;43m.\u001B[39;49m\u001B[43mrun_line_magic\u001B[49m\u001B[43m(\u001B[49m\u001B[38;5;124;43m'\u001B[39;49m\u001B[38;5;124;43mtimeit\u001B[39;49m\u001B[38;5;124;43m'\u001B[39;49m\u001B[43m,\u001B[49m\u001B[43m \u001B[49m\u001B[38;5;124;43m'\u001B[39;49m\u001B[38;5;124;43m(edges @ a).block_until_ready()\u001B[39;49m\u001B[38;5;124;43m'\u001B[39;49m\u001B[43m)\u001B[49m\n",
      "File \u001B[0;32m~/opt/anaconda3/envs/moser/lib/python3.10/site-packages/IPython/core/interactiveshell.py:2309\u001B[0m, in \u001B[0;36mInteractiveShell.run_line_magic\u001B[0;34m(self, magic_name, line, _stack_depth)\u001B[0m\n\u001B[1;32m   2307\u001B[0m     kwargs[\u001B[38;5;124m'\u001B[39m\u001B[38;5;124mlocal_ns\u001B[39m\u001B[38;5;124m'\u001B[39m] \u001B[38;5;241m=\u001B[39m \u001B[38;5;28mself\u001B[39m\u001B[38;5;241m.\u001B[39mget_local_scope(stack_depth)\n\u001B[1;32m   2308\u001B[0m \u001B[38;5;28;01mwith\u001B[39;00m \u001B[38;5;28mself\u001B[39m\u001B[38;5;241m.\u001B[39mbuiltin_trap:\n\u001B[0;32m-> 2309\u001B[0m     result \u001B[38;5;241m=\u001B[39m \u001B[43mfn\u001B[49m\u001B[43m(\u001B[49m\u001B[38;5;241;43m*\u001B[39;49m\u001B[43margs\u001B[49m\u001B[43m,\u001B[49m\u001B[43m \u001B[49m\u001B[38;5;241;43m*\u001B[39;49m\u001B[38;5;241;43m*\u001B[39;49m\u001B[43mkwargs\u001B[49m\u001B[43m)\u001B[49m\n\u001B[1;32m   2310\u001B[0m \u001B[38;5;28;01mreturn\u001B[39;00m result\n",
      "File \u001B[0;32m~/opt/anaconda3/envs/moser/lib/python3.10/site-packages/IPython/core/magics/execution.py:1162\u001B[0m, in \u001B[0;36mExecutionMagics.timeit\u001B[0;34m(self, line, cell, local_ns)\u001B[0m\n\u001B[1;32m   1160\u001B[0m \u001B[38;5;28;01mfor\u001B[39;00m index \u001B[38;5;129;01min\u001B[39;00m \u001B[38;5;28mrange\u001B[39m(\u001B[38;5;241m0\u001B[39m, \u001B[38;5;241m10\u001B[39m):\n\u001B[1;32m   1161\u001B[0m     number \u001B[38;5;241m=\u001B[39m \u001B[38;5;241m10\u001B[39m \u001B[38;5;241m*\u001B[39m\u001B[38;5;241m*\u001B[39m index\n\u001B[0;32m-> 1162\u001B[0m     time_number \u001B[38;5;241m=\u001B[39m \u001B[43mtimer\u001B[49m\u001B[38;5;241;43m.\u001B[39;49m\u001B[43mtimeit\u001B[49m\u001B[43m(\u001B[49m\u001B[43mnumber\u001B[49m\u001B[43m)\u001B[49m\n\u001B[1;32m   1163\u001B[0m     \u001B[38;5;28;01mif\u001B[39;00m time_number \u001B[38;5;241m>\u001B[39m\u001B[38;5;241m=\u001B[39m \u001B[38;5;241m0.2\u001B[39m:\n\u001B[1;32m   1164\u001B[0m         \u001B[38;5;28;01mbreak\u001B[39;00m\n",
      "File \u001B[0;32m~/opt/anaconda3/envs/moser/lib/python3.10/site-packages/IPython/core/magics/execution.py:156\u001B[0m, in \u001B[0;36mTimer.timeit\u001B[0;34m(self, number)\u001B[0m\n\u001B[1;32m    154\u001B[0m gc\u001B[38;5;241m.\u001B[39mdisable()\n\u001B[1;32m    155\u001B[0m \u001B[38;5;28;01mtry\u001B[39;00m:\n\u001B[0;32m--> 156\u001B[0m     timing \u001B[38;5;241m=\u001B[39m \u001B[38;5;28;43mself\u001B[39;49m\u001B[38;5;241;43m.\u001B[39;49m\u001B[43minner\u001B[49m\u001B[43m(\u001B[49m\u001B[43mit\u001B[49m\u001B[43m,\u001B[49m\u001B[43m \u001B[49m\u001B[38;5;28;43mself\u001B[39;49m\u001B[38;5;241;43m.\u001B[39;49m\u001B[43mtimer\u001B[49m\u001B[43m)\u001B[49m\n\u001B[1;32m    157\u001B[0m \u001B[38;5;28;01mfinally\u001B[39;00m:\n\u001B[1;32m    158\u001B[0m     \u001B[38;5;28;01mif\u001B[39;00m gcold:\n",
      "File \u001B[0;32m<magic-timeit>:1\u001B[0m, in \u001B[0;36minner\u001B[0;34m(_it, _timer)\u001B[0m\n",
      "\u001B[0;31mAttributeError\u001B[0m: 'numpy.ndarray' object has no attribute 'block_until_ready'"
     ]
    }
   ],
   "source": [
    "%timeit (edges @ a)"
   ]
  },
  {
   "cell_type": "code",
   "execution_count": 57,
   "id": "13ce3755",
   "metadata": {
    "pycharm": {
     "name": "#%%\n"
    }
   },
   "outputs": [
    {
     "name": "stdout",
     "output_type": "stream",
     "text": [
      "109 ms ± 8.04 ms per loop (mean ± std. dev. of 7 runs, 10 loops each)\n"
     ]
    }
   ],
   "source": [
    "%timeit jax.jit(lambda x : edges @ x)(a).block_until_ready()"
   ]
  },
  {
   "cell_type": "code",
   "execution_count": 6,
   "id": "e11da902",
   "metadata": {
    "pycharm": {
     "name": "#%%\n"
    }
   },
   "outputs": [],
   "source": [
    "from torch.utils import data\n",
    "import glob\n",
    "import os\n",
    "import pickle\n",
    "import gzip"
   ]
  },
  {
   "cell_type": "code",
   "execution_count": 7,
   "id": "3669b1b4",
   "metadata": {
    "pycharm": {
     "name": "#%%\n"
    }
   },
   "outputs": [],
   "source": [
    "class SATTrainingDataset(data.Dataset):\n",
    "    def __init__(self, data_dir):\n",
    "        self.data_dir = data_dir\n",
    "        processed_instances = glob.glob(os.path.join(data_dir, \"*.pkl\"))\n",
    "        self.solved_instances = []\n",
    "        for f in processed_instances:\n",
    "            with open(f, \"rb\") as fl:\n",
    "                s = pickle.load(fl)\n",
    "                if not s:\n",
    "                    continue\n",
    "                self.solved_instances.append(f.split(\"_\")[0])\n",
    "        self.ratio_of_solved_instances = self.__len__()/len(processed_instances)\n",
    "\n",
    "    def __len__(self):\n",
    "        return len(self.solved_instances)\n",
    "\n",
    "    @staticmethod\n",
    "    def solution_dict_to_array(solution_dict):\n",
    "        return np.array(list(solution_dict.values()), dtype=np.int)\n",
    "\n",
    "    def __getitem__(self, idx):\n",
    "        instance_name = self.solved_instances[idx]\n",
    "        path = os.path.join(self.data_dir, instance_name)\n",
    "        problem_file = gzip.open(path + \".cnf.gz\", \"rt\")\n",
    "        problem = get_problem_from_cnf(CNF(from_file=problem_file))\n",
    "        solution_file = open(path + \"_sol.pkl\")\n",
    "        solution_dict = pickle.load(solution_file)\n",
    "        return problem, self.solution_dict_to_array(solution_dict)\n",
    "\n"
   ]
  },
  {
   "cell_type": "code",
   "execution_count": 8,
   "outputs": [],
   "source": [
    "sat_data = SATTrainingDataset(\"/Users/p390943/Downloads/10K\")"
   ],
   "metadata": {
    "collapsed": false,
    "pycharm": {
     "name": "#%%\n"
    }
   }
  },
  {
   "cell_type": "code",
   "execution_count": 9,
   "outputs": [],
   "source": [
    "train_data, test_data = data.random_split(sat_data, [0.8,0.2])"
   ],
   "metadata": {
    "collapsed": false,
    "pycharm": {
     "name": "#%%\n"
    }
   }
  },
  {
   "cell_type": "code",
   "execution_count": 10,
   "outputs": [],
   "source": [
    "train_loader = data.DataLoader(train_data, batch_size=20, shuffle=True)\n",
    "test_loader = data.DataLoader(test_data, batch_size=20, shuffle=True)"
   ],
   "metadata": {
    "collapsed": false,
    "pycharm": {
     "name": "#%%\n"
    }
   }
  },
  {
   "cell_type": "code",
   "execution_count": null,
   "outputs": [],
   "source": [
    "import time\n",
    "\n",
    "num_epochs = 10\n",
    "\n",
    "\n",
    "for epoch in range(num_epochs):\n",
    "    start_time = time.time()\n",
    "    for x, y in training_generator:\n",
    "        y = one_hot(y, n_targets)\n",
    "        params = update(params, x, y)\n",
    "    epoch_time = time.time() - start_time\n",
    "\n",
    "    train_acc = accuracy(params, train_images, train_labels)\n",
    "    test_acc = accuracy(params, test_images, test_labels)\n",
    "    print(\"Epoch {} in {:0.2f} sec\".format(epoch, epoch_time))\n",
    "    print(\"Training set accuracy {}\".format(train_acc))\n",
    "    print(\"Test set accuracy {}\".format(test_acc))"
   ],
   "metadata": {
    "collapsed": false,
    "pycharm": {
     "name": "#%%\n"
    }
   }
  }
 ],
 "metadata": {
  "kernelspec": {
   "display_name": "Python 3 (ipykernel)",
   "language": "python",
   "name": "python3"
  },
  "language_info": {
   "codemirror_mode": {
    "name": "ipython",
    "version": 3
   },
   "file_extension": ".py",
   "mimetype": "text/x-python",
   "name": "python",
   "nbconvert_exporter": "python",
   "pygments_lexer": "ipython3",
   "version": "3.10.6"
  }
 },
 "nbformat": 4,
 "nbformat_minor": 5
}